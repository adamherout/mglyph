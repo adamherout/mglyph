{
 "cells": [
  {
   "cell_type": "markdown",
   "metadata": {
    "id": "QkJhxu6y03Jc"
   },
   "source": [
    "### <span style=\"background-color:Gold\">mglyph library TODO</span>:\n",
    "\n",
    "**Jakekoliv pripomiky co dodelat**\n",
    "\n",
    "***\n",
    "**TODO:**\n",
    "* show - vicenasobny margin, ruzne default hodnoty pri `show_margin` a `show_shadow`\n",
    "* zkusit relativni pri \"nectvercovem\"\n",
    "* struktura pip+GIT\n",
    "* join round jako path? - pres jaky bod ja jakeho krivkou\n",
    "* opravit sdileny `interact`\n",
    "* diff mezi obrazky\n",
    "* transformacni matice\n",
    "* ???\n",
    "* ???\n",
    "\n",
    "***"
   ]
  },
  {
   "cell_type": "code",
   "execution_count": null,
   "metadata": {},
   "outputs": [],
   "source": []
  },
  {
   "cell_type": "markdown",
   "metadata": {},
   "source": [
    "# Download the `mglyph` module from the git repository\n",
    "This downloads the `mglyph` module from the public repository, sets the path to it and imports the module right away\n",
    "\n",
    "<font color=\"red\">zatim nastaveno ze je GIT lokalne stazen a tutorial se rozjede napr ve Visual Studiu</font>\n",
    "\n",
    "jinak se bude muset udelat `git clone`\n",
    "\n",
    "# Vyžadované balíky, jen pro info v tutoriálu\n",
    "\n",
    "* ipywidgets"
   ]
  },
  {
   "cell_type": "code",
   "execution_count": 18,
   "metadata": {},
   "outputs": [
    {
     "name": "stdout",
     "output_type": "stream",
     "text": [
      "Obtaining file:///C:/Users/herout/Research/mglyph\n",
      "  Installing build dependencies: started\n",
      "  Installing build dependencies: finished with status 'done'\n",
      "  Checking if build backend supports build_editable: started\n",
      "  Checking if build backend supports build_editable: finished with status 'done'\n",
      "  Getting requirements to build editable: started\n",
      "  Getting requirements to build editable: finished with status 'done'\n",
      "  Preparing editable metadata (pyproject.toml): started\n",
      "  Preparing editable metadata (pyproject.toml): finished with status 'done'\n",
      "Requirement already satisfied: skia-python in c:\\users\\herout\\research\\mglyph\\.venv\\lib\\site-packages (from mglyph==1.0.0) (134.0b12)\n",
      "Requirement already satisfied: colour in c:\\users\\herout\\research\\mglyph\\.venv\\lib\\site-packages (from mglyph==1.0.0) (0.1.5)\n",
      "Requirement already satisfied: numpy in c:\\users\\herout\\research\\mglyph\\.venv\\lib\\site-packages (from skia-python->mglyph==1.0.0) (2.2.3)\n",
      "Requirement already satisfied: pybind11>=2.6 in c:\\users\\herout\\research\\mglyph\\.venv\\lib\\site-packages (from skia-python->mglyph==1.0.0) (2.13.6)\n",
      "Building wheels for collected packages: mglyph\n",
      "  Building editable for mglyph (pyproject.toml): started\n",
      "  Building editable for mglyph (pyproject.toml): finished with status 'done'\n",
      "  Created wheel for mglyph: filename=mglyph-1.0.0-0.editable-py3-none-any.whl size=3700 sha256=88e3f5f0becfa9f24ba0d89fa1b0ce4d62476be1f44bf5f56446d6409386c67c\n",
      "  Stored in directory: C:\\Users\\herout\\AppData\\Local\\Temp\\pip-ephem-wheel-cache-6jf8qeik\\wheels\\1c\\f1\\15\\4c3dfec7f92ab174372f33da00d7297b916a67a62cb52af4d6\n",
      "Successfully built mglyph\n",
      "Installing collected packages: mglyph\n",
      "  Attempting uninstall: mglyph\n",
      "    Found existing installation: mglyph 1.0.0\n",
      "    Uninstalling mglyph-1.0.0:\n",
      "      Successfully uninstalled mglyph-1.0.0\n",
      "Successfully installed mglyph-1.0.0\n",
      "Note: you may need to restart the kernel to use updated packages.\n",
      "The autoreload extension is already loaded. To reload it, use:\n",
      "  %reload_ext autoreload\n"
     ]
    }
   ],
   "source": [
    "#!git clone https://git.fit.vutbr.cz/herout/mglyph.git\n",
    "\n",
    "%pip install --upgrade --editable ..\n",
    "\n",
    "# Now import the module, hopefully everything works\n",
    "%load_ext autoreload\n",
    "%autoreload 2\n",
    "import mglyph as mg"
   ]
  },
  {
   "cell_type": "markdown",
   "metadata": {},
   "source": [
    "# Connect to Google Drive for storing the Glyphs *(optional)*\n",
    "\n",
    "This cell connects to the Google Drive (some prompts will appear, make sure to select the right account).\n",
    "\n",
    "Then, it **makes a folder named `MGlyphs`** in `My Drive/MGlyphs`.  That's where generated glyphs will go to make it really easy to collect them on your computer.\n",
    "\n",
    "Someone may want to set the `outpath` variable to something different?"
   ]
  },
  {
   "cell_type": "code",
   "execution_count": 19,
   "metadata": {
    "id": "kWMnbntwLVRK"
   },
   "outputs": [],
   "source": [
    "# if 'google.colab' in sys.modules:\n",
    "#     from google.colab import drive\n",
    "#     drive.mount('/content/drive')\n",
    "#     !mkdir -p /content/drive/MyDrive/Exported_MGlyphs\n",
    "#     outpath = '/content/drive/MyDrive/Exported_MGlyphs'\n",
    "# else:\n",
    "#     !mkdir -p Exported_MGlyphs\n",
    "#     outpath = 'Exported_MGlyphs'"
   ]
  },
  {
   "cell_type": "code",
   "execution_count": 20,
   "metadata": {},
   "outputs": [
    {
     "name": "stderr",
     "output_type": "stream",
     "text": [
      "A subdirectory or file -p already exists.\n",
      "Error occurred while processing: -p.\n",
      "A subdirectory or file Exported_MGlyphs already exists.\n",
      "Error occurred while processing: Exported_MGlyphs.\n"
     ]
    }
   ],
   "source": [
    "# prozatim jen lokalne\n",
    "!mkdir -p Exported_MGlyphs\n",
    "outpath = 'Exported_MGlyphs'"
   ]
  },
  {
   "cell_type": "markdown",
   "metadata": {},
   "source": [
    "# Now the Malleable Glyph Tutorial\n",
    "\n",
    "## Basics of making a Glyph\n",
    "\n",
    "The glyph is essentially a function that takes two arguments:\n",
    "* `x: float` – the glyph parameter, a number between 0.0 and 100.0\n",
    "* `canvas: mg.Canvas` – the canvas object, where the glyph is to be drawn\n",
    "\n",
    "For example:\n",
    "```\n",
    "def empty_glyph(x: float, canvas: mg.Canvas) -> None:\n",
    "    pass\n",
    "```\n",
    "## Showing the glyph\n",
    "\n",
    "`mg.show(my_glyph)` shows a few versions of the glyph at different parameter values (by default 10, 30, 50, 70, 90).\n",
    "\n",
    "Optional arguments of mg.show() are:\n",
    "* `x: int | float | list[float] | list[int] | list[list[float]] | list[list[int]]`\n",
    "* `scale: float=1.0`\n",
    "* `padding: str='5%'` - padding between glyphs in a grid - percentage relative to the canvas size\n",
    "* `background: str | list[int]='whitesmoke'`\n",
    "* `show_values: bool = False` - whether to show values (font size is dependent on padding size)\n",
    "* `value_color: str | list[int]='black'` - color of values\n",
    "* `margin` - margin values:\n",
    "> * single value in '%'\n",
    "> * top and bottom | left and right\n",
    "> * top | left and right | bottom\n",
    "> * top | right | bottom | left\n",
    "\n",
    "## Interpolation and values\n",
    "`mg.lerp(x, from, to)` – interpolates based on the parameter.  When `x==0.0`, the value is equal to `from`, when `x==100.0`, the value is equal to `to`, in between, the value is linearly interpolated.\n",
    "\n",
    "The canvas knows important values that are usable for interpolating:\n",
    "* `canvas.xleft`, `canvas.xcenter`, `canvas.xright`\n",
    "* `canvas.ytop`, `canvas.ycenter`, `canvas.ybottom`\n",
    "* `canvas.xsize`, `canvas.ysize`\n",
    "* `canvas.center` – is a tuple of `(canvas.xcenter, canvas.ycenter)`\n",
    "* All values are relative:\n",
    "> * (0, 0) center\n",
    "> * (-1, -1) top-left corner\n",
    "> * (1, 1) bottom-right corner\n",
    "> * ...\n",
    "\n",
    "## Colors\n",
    "All color can be set in multiple ways:\n",
    "\n",
    "* RGB values - tuple or list of of values from 0 to 1.0, e.g. `(0,1,0)`, `[0.2,0.8,0.3]`\n",
    "* RGBA values - tuple or list of of values from 0 to 1.0, e.g. `(0,1,0,0.8)`\n",
    "* HEX values - string object beginning with '#' and with red, green, blue value. This format accept color in 3 or 6 value ex: `'#fff'` or `'#ffffff'`\n",
    "* WEB values - string object standard human readable values, e.g. `'red'`, `'green'`, `'crimson'`, `'coral'`, ...\n"
   ]
  },
  {
   "cell_type": "markdown",
   "metadata": {},
   "source": [
    "## Drawing a line: `canvas.line()`\n",
    "\n",
    "`canvas.line((x1, y1), (x2, y2), ...)` draws a line \n",
    "\n",
    "## Now the very simplest glyph: `simple_horizontal_line`"
   ]
  },
  {
   "cell_type": "code",
   "execution_count": null,
   "metadata": {},
   "outputs": [
    {
     "data": {
      "image/png": "[encoded data removed]"
     },
     "metadata": {},
     "output_type": "display_data"
    }
   ],
   "source": [
    "import mglyph as mg\n",
    "\n",
    "def simple_horizontal_line(x: float, canvas:mg.Canvas) -> None:\n",
    "    canvas.line((mg.lerp(x, canvas.xcenter, canvas.xleft), canvas.ycenter),    # line start\n",
    "                (mg.lerp(x, canvas.xcenter, canvas.xright), canvas.ycenter),   # line end\n",
    "                linecap='round', width='30p', color='navy')\n",
    "\n",
    "mg.show(simple_horizontal_line)"
   ]
  },
  {
   "cell_type": "markdown",
   "metadata": {},
   "source": [
    "or potentialy relative values can be used"
   ]
  },
  {
   "cell_type": "code",
   "execution_count": 22,
   "metadata": {},
   "outputs": [
    {
     "data": {
      "image/png": "[encoded data removed]"
     },
     "metadata": {},
     "output_type": "display_data"
    }
   ],
   "source": [
    "def simple_horizontal_line_relative(x: float, canvas:mg.Canvas) -> None:\n",
    "    canvas.line((mg.lerp(x, 0, -1), 0),    # line start\n",
    "                (mg.lerp(x, 0, 1), 0),     # line end\n",
    "                width='30p')\n",
    "\n",
    "mg.show(simple_horizontal_line_relative)"
   ]
  },
  {
   "cell_type": "markdown",
   "metadata": {},
   "source": [
    "### Drawing a line: `canvas.line()`\n",
    "\n",
    "Parameters:\n",
    "* `p1: tuple[float, float]` - line start point\n",
    "* `p2: tuple[float, float]` - line end point\n",
    "* `color: list[int] | tuple[int] | list[float] | tuple[float] | str = 'black'` - color\n",
    "* `width: float | str='20p'` - line width (`'1p'` is 1/1000 of the `paint area` dimension)\n",
    "* `style: str='fill'` - drawing style\n",
    "* `cap: str='butt'` - cap style\n",
    "* `join: str='miter'` - join style"
   ]
  },
  {
   "cell_type": "code",
   "execution_count": 23,
   "metadata": {},
   "outputs": [
    {
     "data": {
      "image/png": "[encoded data removed]"
     },
     "metadata": {},
     "output_type": "display_data"
    }
   ],
   "source": [
    "import mglyph as mg\n",
    "\n",
    "def line_with_parameters(x: float, canvas:mg.Canvas) -> None:\n",
    "    canvas.line((mg.lerp(x, 0, -1), 0),    # line start\n",
    "                (mg.lerp(x, 0, 1), 0),   # line end\n",
    "                width='50p',\n",
    "                color='red',\n",
    "                linecap='round'\n",
    "                )\n",
    "    \n",
    "mg.show(line_with_parameters)"
   ]
  },
  {
   "cell_type": "code",
   "execution_count": 24,
   "metadata": {},
   "outputs": [
    {
     "data": {
      "image/png": "[encoded data removed]"
     },
     "metadata": {},
     "output_type": "display_data"
    }
   ],
   "source": [
    "import mglyph as mg\n",
    "\n",
    "def test(x: float, canvas:mg.Canvas) -> None:\n",
    "    canvas.line((mg.lerp(x, canvas.xcenter, canvas.xleft), canvas.ycenter),    # line start\n",
    "\n",
    "    (mg.lerp(x, canvas.xcenter, canvas.xright), canvas.ycenter),   # line end\n",
    "    )\n",
    "    # canvas.line((-5,-5), (5,5), color='red', width=50)\n",
    "    # canvas.line((-5,5), (5,-5), color='blue', width=50)\n",
    "\n",
    "mg.show(test, x=[['100.010', 80, 80.6, 66],\n",
    "                [55,None,None,88,77],\n",
    "                [15,20.02,350,5.000,6,]], canvas=mg.Canvas(canvas_round_corner=True), scale=5, values=True,\n",
    "                spacing='5%', margin='3%', values_color='red', font_size='12%', border_width='1%',\n",
    "                background='white', border=False, shadow=True, shadow_sigma='1.5%', shadow_shift=['1.2%','1.2%'], shadow_color=(0, 0, 0, 0.15))\n",
    "# mg.show(test, x=[[60, 100],[8]], canvas=mg.Canvas(canvas_round_corner=True), scale=1, show_values=True, background='green',\n",
    "#         spacing='10%', font_size='20%', margin='5%')\n",
    "\n",
    "# mg.interact(test)"
   ]
  },
  {
   "cell_type": "markdown",
   "metadata": {},
   "source": [
    "## Canvas layout\n",
    "`canvas = mg.Canvas()`\n",
    "Cotains `paint` area inside the whole canvas\n",
    "Parameters:\n",
    "* `padding_horizontal: str='10%'` - `paint area` padding relative to the whole canvas in %\n",
    "* `padding_vertical: str='10%'` - `paint area` padding relative to the whole canvas in %\n",
    "* `canvas_background: tuple[float] | str='white'` - background color of the whole canvas\n",
    "* `canvas_border: bool=True` - whether to draw border around the canvas\n",
    "* `canvas_round_corner: bool= True` - whether to use rounded corner of a border\n",
    "* `canvas_border_color: tuple[float] | list[float] | str=(0.5, 0.5, 0.5)` - canvas border color\n",
    "* `canvas_border_width: float='1%'` - canvas border width relative to the whole canvas in %\n",
    "* `show_paint_border: bool=False` - show border of `paint area`"
   ]
  },
  {
   "cell_type": "markdown",
   "metadata": {},
   "source": [
    "### Drawing a rectangle: `canvas.rect()`\n",
    "\n",
    "Parameters:\n",
    "* `tl: tuple[float, float]` - top-left point\n",
    "* `br: tuple[float, float]` - bottom-right point\n",
    "* `color: list[int] | tuple[int] | list[float] | tuple[float] | str = 'black'` - color\n",
    "* `width: float | str='20p'` - stroke width (`'1p'` is 1/1000 of the `paint area` dimension)\n",
    "* `style: str='fill'` - drawing style (fill or stroke)\n",
    "* `cap: str='butt'` - cap style\n",
    "* `join: str='miter'` - join style"
   ]
  },
  {
   "cell_type": "code",
   "execution_count": 25,
   "metadata": {},
   "outputs": [
    {
     "data": {
      "image/png": "[encoded data removed]"
     },
     "metadata": {},
     "output_type": "display_data"
    },
    {
     "data": {
      "application/vnd.jupyter.widget-view+json": {
       "model_id": "fe55f2a08ab3474487002f92020ea1c1",
       "version_major": 2,
       "version_minor": 0
      },
      "text/plain": [
       "interactive(children=(FloatSlider(value=50.0, description='x'), Output()), _dom_classes=('widget-interact',))"
      ]
     },
     "metadata": {},
     "output_type": "display_data"
    }
   ],
   "source": [
    "import mglyph as mg\n",
    "\n",
    "def simple_scaled_square(x: float, canvas: mg.Canvas) -> None:\n",
    "    tl = (mg.lerp(x, 0.0, -1), mg.lerp(x, 0.0, -1.0))\n",
    "    br = (mg.lerp(x, 0, 1), mg.lerp(x, 0, 1))\n",
    "  \n",
    "    # canvas.rect(tl, br, color=(0,1,0,0.7))\n",
    "    canvas.rect(tl, br, color=(1, 0, 0, 1))\n",
    "\n",
    "mg.show(simple_scaled_square, \n",
    "        canvas=mg.Canvas(padding_horizontal='0%', padding_vertical='0%', show_paint_area_border=False,  canvas_round_corner=False), \n",
    "        x = [[10,30,80], [100]], scale=1.8,background='blue', values=True, spacing='20%', values_color='white')\n",
    "\n",
    "mg.interact(simple_scaled_square)\n"
   ]
  },
  {
   "cell_type": "code",
   "execution_count": 26,
   "metadata": {},
   "outputs": [
    {
     "data": {
      "image/png": "[encoded data removed]"
     },
     "metadata": {},
     "output_type": "display_data"
    }
   ],
   "source": [
    "\n",
    "def simple_scaled_square_stroke(x: float, canvas: mg.Canvas) -> None:\n",
    "    tl = (mg.lerp(x, canvas.xcenter, canvas.xleft), mg.lerp(x, canvas.ycenter, canvas.ytop))\n",
    "    br = (mg.lerp(x, canvas.xcenter, canvas.xright), mg.lerp(x, canvas.ycenter, canvas.ybottom))\n",
    "  \n",
    "    canvas.rect(tl, br, color='Salmon', style='stroke', width=40)\n",
    "\n",
    "# mg.show(simple_scaled_square_rect, background='black', x=80, scale=5)\n",
    "mg.show(simple_scaled_square_stroke, \n",
    "        canvas=mg.Canvas(background_color='black'),\n",
    "        background='gray', \n",
    "        x=[[1, 2, 3, 44, ],[48,69], [5], [1,19,65,3,99]], \n",
    "        scale=1.3, \n",
    "        spacing='10%')"
   ]
  },
  {
   "cell_type": "markdown",
   "metadata": {},
   "source": [
    "### Drawing a polygon: `canvas.polygon()`\n",
    "\n",
    "Parameters:\n",
    "* `vertices: list[tuple[float, float]]` - list of vertices\n",
    "* `color: list[int] | tuple[int] | list[float] | tuple[float] | str = 'black'` - color\n",
    "* `width: float | str='20p'` - stroke width (`'1p'` is 1/1000 of the `paint area` dimension)\n",
    "* `style: str='fill'` - drawing style (fill or stroke)\n",
    "* `cap: str='butt'` - cap style\n",
    "* `join: str='miter'` - join style\n",
    "* `close: bool=True` - polygon closed"
   ]
  },
  {
   "cell_type": "code",
   "execution_count": null,
   "metadata": {},
   "outputs": [
    {
     "data": {
      "image/png": "[encoded data removed]"
     },
     "metadata": {},
     "output_type": "display_data"
    }
   ],
   "source": [
    "import mglyph as mg\n",
    "def simple_polygon(x: float, canvas: mg.Canvas) -> None:\n",
    "    l = (mg.lerp(x, canvas.xcenter, canvas.xleft), canvas.ycenter)\n",
    "    ct = (canvas.xcenter, -0.2)\n",
    "    r = (mg.lerp(x, canvas.xcenter, canvas.xright), canvas.ycenter)\n",
    "    cb = (canvas.xcenter, 0.1)\n",
    "    canvas.polygon([l, cb, r, ct], color='#A2a', closed=True)\n",
    "    \n",
    "mg.show(simple_polygon)\n",
    "\n",
    "# mg.show(simple_polygon, scale=1, background='gray', padding='1pt',\n",
    "#         x=[[5, 10, 15, 20],\n",
    "#            [5, 35, 65, 95]])"
   ]
  },
  {
   "cell_type": "markdown",
   "metadata": {
    "id": "t-caERVIADbI"
   },
   "source": [
    "## Interactive visualization\n",
    "\n",
    "`mg.interact(my_glyph)` runs an interactive playground, where you can tweak the parameter `x` and see what your glyph looks like.\n",
    "\n",
    "You can use `mg.interact()` with any glyph to play around."
   ]
  },
  {
   "cell_type": "code",
   "execution_count": 28,
   "metadata": {
    "colab": {
     "base_uri": "https://localhost:8080/",
     "height": 145,
     "referenced_widgets": [
      "dd0eef6bf5314a99b859da6048cf30f7",
      "dca2fd4ebd4249fc98b07b20c3d77c8e",
      "5d9727e544714294b9f7822c586876a7",
      "4fdcb9a6d8c94f60b8a99a3583dd946f",
      "840f12531c144d0790934c60f4201775",
      "49bf5a19a2074cb499eae62c6660f0c6",
      "4edaef3a345543b4acdea15771bc11fa"
     ]
    },
    "id": "CQ65S_s6ALxu",
    "outputId": "e9bb873c-1ce7-4051-ca8f-060998048214",
    "scrolled": true
   },
   "outputs": [
    {
     "data": {
      "application/vnd.jupyter.widget-view+json": {
       "model_id": "fce3644d9aa74abdb9c23a3ec27b57f7",
       "version_major": 2,
       "version_minor": 0
      },
      "text/plain": [
       "interactive(children=(FloatSlider(value=50.0, description='x'), Output()), _dom_classes=('widget-interact',))"
      ]
     },
     "metadata": {},
     "output_type": "display_data"
    }
   ],
   "source": [
    "mg.interact(simple_polygon)"
   ]
  },
  {
   "cell_type": "markdown",
   "metadata": {},
   "source": [
    "## Simple circle: `simple_scaled_circle`\n",
    "\n",
    "`canvas.circle(center, radius, ...)` – draws a circle"
   ]
  },
  {
   "cell_type": "code",
   "execution_count": 36,
   "metadata": {},
   "outputs": [
    {
     "data": {
      "image/png": "[encoded data removed]"
     },
     "metadata": {},
     "output_type": "display_data"
    }
   ],
   "source": [
    "def simple_scaled_circle(x: float, canvas: mg.Canvas) -> None:\n",
    "    canvas.circle(canvas.center, mg.lerp(x, 0.3, 1), color='red', style='stroke', width='5p')\n",
    "\n",
    "mg.show(simple_scaled_circle, background='red', x=[5, 25, 50, 75, 95])"
   ]
  },
  {
   "cell_type": "markdown",
   "metadata": {},
   "source": [
    "## Simple ellipse: `simple_scaled_ellipse`\n",
    "\n",
    "`canvas.ellipse(center, radius_x, radius_y, paint)` – draws an ellipse"
   ]
  },
  {
   "cell_type": "code",
   "execution_count": 30,
   "metadata": {
    "colab": {
     "base_uri": "https://localhost:8080/",
     "height": 165,
     "referenced_widgets": [
      "1934db81639a4512a1c224d054b15452",
      "17bb04e5b4a54d6186d81e09bc27a901",
      "2af2ec63d7cb4bbcb03ba0eb3942f1d3",
      "46f2c5413b8d4afc9840177dace5c78e",
      "7f2f93d229a14182a31d3ddb2a367bf6",
      "4568b203b59740ba832a2ee4a9996b42",
      "7e3cbd880a144c498137c7070e624449"
     ]
    },
    "id": "5ae3g6MlvfgA",
    "outputId": "0f1fbaf0-a189-4189-8544-f67f2a5e69a0"
   },
   "outputs": [
    {
     "data": {
      "image/png": "[encoded data removed]"
     },
     "metadata": {},
     "output_type": "display_data"
    }
   ],
   "source": [
    "def simple_scaled_ellipse(x: float, canvas: mg.Canvas) -> None:\n",
    "\n",
    "    canvas.ellipse(canvas.center, mg.lerp(x, 0.01, 1), mg.lerp(x, 0.5, 1))\n",
    "\n",
    "mg.show(simple_scaled_ellipse, background='whitesmoke', x=[5, 25, 50, 75, 95])"
   ]
  },
  {
   "cell_type": "markdown",
   "metadata": {
    "id": "ZF06TAbNvYuT"
   },
   "source": [
    "## Five-pointed star made of lines: `simple_scaled_star`\n",
    "\n",
    "`mg.orbit((x, y), angle, radius)` – is a helper function for rotating around a center. `angle` is in radians, starting at north, increasing counter-clockwise. `radius` is the distance of the orbiting point from the center.\n",
    "\n",
    "The canvas offers the coordinates of the central point `canvas.center` for conveniently orbiting around the glyph center."
   ]
  },
  {
   "cell_type": "code",
   "execution_count": 31,
   "metadata": {
    "colab": {
     "base_uri": "https://localhost:8080/",
     "height": 165,
     "referenced_widgets": [
      "1934db81639a4512a1c224d054b15452",
      "17bb04e5b4a54d6186d81e09bc27a901",
      "2af2ec63d7cb4bbcb03ba0eb3942f1d3",
      "46f2c5413b8d4afc9840177dace5c78e",
      "7f2f93d229a14182a31d3ddb2a367bf6",
      "4568b203b59740ba832a2ee4a9996b42",
      "7e3cbd880a144c498137c7070e624449"
     ]
    },
    "id": "5ae3g6MlvfgA",
    "outputId": "0f1fbaf0-a189-4189-8544-f67f2a5e69a0"
   },
   "outputs": [
    {
     "data": {
      "image/png": "[encoded data removed]"
     },
     "metadata": {},
     "output_type": "display_data"
    },
    {
     "data": {
      "application/vnd.jupyter.widget-view+json": {
       "model_id": "b5f317cde26e4c09841f857b07cd471b",
       "version_major": 2,
       "version_minor": 0
      },
      "text/plain": [
       "interactive(children=(FloatSlider(value=50.0, description='x'), Output()), _dom_classes=('widget-interact',))"
      ]
     },
     "metadata": {},
     "output_type": "display_data"
    }
   ],
   "source": [
    "import math\n",
    "\n",
    "def simple_scaled_star(x: float, canvas: mg.Canvas) -> None:\n",
    "    radius = mg.lerp(x, 0.2, canvas.ysize/2)\n",
    "    vertices = []\n",
    "    for segment in range(5):\n",
    "        vertices.append(mg.orbit(canvas.center, segment * 2*math.pi/5, radius))\n",
    "        vertices.append(mg.orbit(canvas.center, (segment + 0.5) * 2*math.pi/5, math.cos(2*math.pi/5)/math.cos(math.pi/5) * radius))\n",
    "    canvas.polygon(vertices, color=(1,0,0,0.25), close=True)\n",
    "\n",
    "mg.show(simple_scaled_star)\n",
    "mg.interact(simple_scaled_star)"
   ]
  },
  {
   "cell_type": "markdown",
   "metadata": {
    "id": "ZF06TAbNvYuT"
   },
   "source": [
    "## Other draw functions: `points`, `polygon`\n",
    "\n",
    "* `mg.points([P1, P2, P3, ...], ...)` – draw points on specified coordianates\n",
    "* `mg.polygon([P1, P2, P3, ...], ..., close=True)` – draw polygon (can be closed)"
   ]
  },
  {
   "cell_type": "code",
   "execution_count": 32,
   "metadata": {},
   "outputs": [
    {
     "data": {
      "image/png": "[encoded data removed]"
     },
     "metadata": {},
     "output_type": "display_data"
    }
   ],
   "source": [
    "import mglyph as mg\n",
    "def simple_points(x: float, canvas: mg.Canvas) -> None:\n",
    "    canvas.points([(mg.lerp(x, canvas.xcenter, canvas.xleft), canvas.ycenter),\n",
    "                    (canvas.xcenter, canvas.ycenter-0.1),\n",
    "                   (mg.lerp(x, canvas.xcenter, canvas.xright), canvas.ycenter)],\n",
    "                   cap='round', width=40)\n",
    "    \n",
    "mg.show(simple_points)"
   ]
  },
  {
   "cell_type": "code",
   "execution_count": 33,
   "metadata": {},
   "outputs": [
    {
     "data": {
      "image/png": "[encoded data removed]"
     },
     "metadata": {},
     "output_type": "display_data"
    },
    {
     "data": {
      "image/png": "[encoded data removed]"
     },
     "metadata": {},
     "output_type": "display_data"
    }
   ],
   "source": [
    "import mglyph as mg\n",
    "def simple_polygon_2(x: float, canvas: mg.Canvas) -> None:\n",
    "    l = (mg.lerp(x, canvas.xcenter, canvas.xleft), canvas.ycenter)\n",
    "    ct = (canvas.xcenter, canvas.ycenter-0.2)\n",
    "    r = (mg.lerp(x, canvas.xcenter, canvas.xright), canvas.ycenter)\n",
    "    cb = (canvas.xcenter, canvas.ycenter+0.6)\n",
    "    canvas.polygon([l, cb, r, ct], close=True, style='stroke', linejoin='round', width='30p')\n",
    "    \n",
    "mg.show(simple_polygon_2)\n",
    "\n",
    "mg.show(simple_polygon_2, scale=3, background='gray', spacing='10%',\n",
    "        x=[[5, 10, 15, 20],\n",
    "           [5, 35, 65, 95]])"
   ]
  },
  {
   "cell_type": "markdown",
   "metadata": {
    "id": "nc0peuo4JBUX"
   },
   "source": [
    "## Exporting Glyph for Evaluation: `mg.export()`\n",
    "\n",
    "* `name=` – title or short description of the glyph. Something like a chapter title in a book\n",
    "* `short_name=` – short name for listings and leaderboards of glyphs. Something like a file name.\n",
    "* `path=` – file to store the glyph into (possibly including the path to the file).  The glyph is essentially a `.zip` file with many files in it.  Naming it `xxx.zip` makes sense, naming it `xxx.mglyph` also makes sense.\n",
    "* `author=`, `email=` – info about the author.  Optional.  Makes much sense for challenge submissions, so that the challenge organizers can contact the author.\n",
    "* `author_public=False` – Show author's name in the leaderboards and glyph lists.  `False` by default.  The e-mail is never shown on public lists and pages by the challenge organizers; it is there for the purpose of contacting the authors.\n",
    "* `xvalues=[x / 1000 * 100 for x in range(1001)]` – specification of what *x*-values to export.  By default, 1000 different *x*-values are exported: 0.0, 0.1, 0.2, 0.3, ... 100.0.  You may export less files, e.g. `xvalues=[2.0*x for x in range(51)]` exports values: 0, 2, 4, ... 50.\n",
    "\n",
    "<font color=\"red\">**zatim neodladeno !!!**</font>"
   ]
  },
  {
   "cell_type": "code",
   "execution_count": 34,
   "metadata": {
    "id": "slzaAuNGJIVj"
   },
   "outputs": [
    {
     "data": {
      "application/vnd.jupyter.widget-view+json": {
       "model_id": "5023b8b3ac514bbc996d221848055678",
       "version_major": 2,
       "version_minor": 0
      },
      "text/plain": [
       "IntProgress(value=0, description='Exporting:', max=1000)"
      ]
     },
     "metadata": {},
     "output_type": "display_data"
    },
    {
     "ename": "TypeError",
     "evalue": "save(): incompatible function arguments. The following argument types are supported:\n    1. (self: skia.Image, fp: object, encodedImageFormat: skia.EncodedImageFormat = skia.EncodedImageFormat.kPNG, quality: int = 100) -> None\n\nInvoked with: Image(512, 512, ColorType.kBGRA_8888_ColorType, AlphaType.kPremul_AlphaType), <_io.BytesIO object at 0x0000025F8B617F10>; kwargs: format='PNG'",
     "output_type": "error",
     "traceback": [
      "\u001b[1;31m---------------------------------------------------------------------------\u001b[0m",
      "\u001b[1;31mTypeError\u001b[0m                                 Traceback (most recent call last)",
      "Cell \u001b[1;32mIn[34], line 3\u001b[0m\n\u001b[0;32m      1\u001b[0m \u001b[38;5;28;01mimport\u001b[39;00m\u001b[38;5;250m \u001b[39m\u001b[38;5;21;01mos\u001b[39;00m\n\u001b[0;32m      2\u001b[0m outpath \u001b[38;5;241m=\u001b[39m \u001b[38;5;124m'\u001b[39m\u001b[38;5;124mExported_MGlyphs\u001b[39m\u001b[38;5;124m'\u001b[39m\n\u001b[1;32m----> 3\u001b[0m \u001b[43mmg\u001b[49m\u001b[38;5;241;43m.\u001b[39;49m\u001b[43mexport\u001b[49m\u001b[43m(\u001b[49m\u001b[43msimple_horizontal_line\u001b[49m\u001b[43m,\u001b[49m\n\u001b[0;32m      4\u001b[0m \u001b[43m          \u001b[49m\u001b[43mname\u001b[49m\u001b[38;5;241;43m=\u001b[39;49m\u001b[38;5;124;43m\"\u001b[39;49m\u001b[38;5;124;43mSimple Horizontal Line\u001b[39;49m\u001b[38;5;124;43m\"\u001b[39;49m\u001b[43m,\u001b[49m\u001b[43m \u001b[49m\u001b[43mshort_name\u001b[49m\u001b[38;5;241;43m=\u001b[39;49m\u001b[38;5;124;43m'\u001b[39;49m\u001b[38;5;124;43mline\u001b[39;49m\u001b[38;5;124;43m'\u001b[39;49m\u001b[43m,\u001b[49m\n\u001b[0;32m      5\u001b[0m \u001b[43m          \u001b[49m\u001b[43mpath\u001b[49m\u001b[38;5;241;43m=\u001b[39;49m\u001b[43mos\u001b[49m\u001b[38;5;241;43m.\u001b[39;49m\u001b[43mpath\u001b[49m\u001b[38;5;241;43m.\u001b[39;49m\u001b[43mjoin\u001b[49m\u001b[43m(\u001b[49m\u001b[43moutpath\u001b[49m\u001b[43m,\u001b[49m\u001b[43m \u001b[49m\u001b[38;5;124;43m\"\u001b[39;49m\u001b[38;5;124;43mSimple Horizontal Line.mglyph\u001b[39;49m\u001b[38;5;124;43m\"\u001b[39;49m\u001b[43m)\u001b[49m\u001b[43m,\u001b[49m\n\u001b[0;32m      6\u001b[0m \u001b[43m          \u001b[49m\u001b[43mauthor\u001b[49m\u001b[38;5;241;43m=\u001b[39;49m\u001b[38;5;124;43m\"\u001b[39;49m\u001b[38;5;124;43mJane Designoff\u001b[39;49m\u001b[38;5;124;43m\"\u001b[39;49m\u001b[43m,\u001b[49m\u001b[43m \u001b[49m\u001b[43memail\u001b[49m\u001b[38;5;241;43m=\u001b[39;49m\u001b[38;5;124;43m\"\u001b[39;49m\u001b[38;5;124;43mj.designoff@gmail.com\u001b[39;49m\u001b[38;5;124;43m\"\u001b[39;49m\u001b[43m,\u001b[49m\u001b[43m \u001b[49m\u001b[43mversion\u001b[49m\u001b[38;5;241;43m=\u001b[39;49m\u001b[38;5;124;43m\"\u001b[39;49m\u001b[38;5;124;43m1.0.0\u001b[39;49m\u001b[38;5;124;43m\"\u001b[39;49m\u001b[43m)\u001b[49m\n",
      "File \u001b[1;32m~\\Research\\mglyph\\src\\mglyph.py:684\u001b[0m, in \u001b[0;36mexport\u001b[1;34m(drawer, name, short_name, author, email, version, author_public, creation_time, path, canvas, xvalues)\u001b[0m\n\u001b[0;32m    682\u001b[0m image \u001b[38;5;241m=\u001b[39m __rasterize(drawer, canvas, x, [_EXPORT_DPI, _EXPORT_DPI])\n\u001b[0;32m    683\u001b[0m data \u001b[38;5;241m=\u001b[39m BytesIO()\n\u001b[1;32m--> 684\u001b[0m \u001b[43mimage\u001b[49m\u001b[38;5;241;43m.\u001b[39;49m\u001b[43msave\u001b[49m\u001b[43m(\u001b[49m\u001b[43mdata\u001b[49m\u001b[43m,\u001b[49m\u001b[43m \u001b[49m\u001b[38;5;28;43mformat\u001b[39;49m\u001b[38;5;241;43m=\u001b[39;49m\u001b[38;5;124;43m'\u001b[39;49m\u001b[38;5;124;43mPNG\u001b[39;49m\u001b[38;5;124;43m'\u001b[39;49m\u001b[43m)\u001b[49m\n\u001b[0;32m    685\u001b[0m data\u001b[38;5;241m.\u001b[39mseek(\u001b[38;5;241m0\u001b[39m)\n\u001b[0;32m    686\u001b[0m zipf\u001b[38;5;241m.\u001b[39mwritestr(\u001b[38;5;124mf\u001b[39m\u001b[38;5;124m'\u001b[39m\u001b[38;5;132;01m{\u001b[39;00mindex\u001b[38;5;132;01m:\u001b[39;00m\u001b[38;5;124m0\u001b[39m\u001b[38;5;132;01m{\u001b[39;00mnumber_of_digits\u001b[38;5;132;01m}\u001b[39;00m\u001b[38;5;124md\u001b[39m\u001b[38;5;132;01m}\u001b[39;00m\u001b[38;5;124m.png\u001b[39m\u001b[38;5;124m'\u001b[39m, data\u001b[38;5;241m.\u001b[39mread())\n",
      "\u001b[1;31mTypeError\u001b[0m: save(): incompatible function arguments. The following argument types are supported:\n    1. (self: skia.Image, fp: object, encodedImageFormat: skia.EncodedImageFormat = skia.EncodedImageFormat.kPNG, quality: int = 100) -> None\n\nInvoked with: Image(512, 512, ColorType.kBGRA_8888_ColorType, AlphaType.kPremul_AlphaType), <_io.BytesIO object at 0x0000025F8B617F10>; kwargs: format='PNG'"
     ]
    }
   ],
   "source": [
    "import os\n",
    "outpath = 'Exported_MGlyphs'\n",
    "mg.export(simple_horizontal_line,\n",
    "          name=\"Simple Horizontal Line\", short_name='line',\n",
    "          path=os.path.join(outpath, \"Simple Horizontal Line.mglyph\"),\n",
    "          author=\"Jane Designoff\", email=\"j.designoff@gmail.com\", version=\"1.0.0\")"
   ]
  },
  {
   "cell_type": "markdown",
   "metadata": {
    "id": "E6G48htEF6Qr"
   },
   "source": [
    "## Three-Handed Clock – Efficient but not eligible as a malleable glyph\n",
    "\n",
    "An example of a design that **violates the rule of illiteracy**.  \n",
    "\n",
    "Unfortunately, this design is **not elligible** as a malleable glyph, and similarly, other designs that would use multiple indicators that are combined together, turning into certain graphical **digits** of different **orders**."
   ]
  },
  {
   "cell_type": "code",
   "execution_count": 37,
   "metadata": {
    "colab": {
     "base_uri": "https://localhost:8080/",
     "height": 145,
     "referenced_widgets": [
      "d6866faa4f1c45e89492d15c8e401178",
      "af6a79972fe9466f93e3eee1ce4b9dda",
      "5c2eec15d67d4cad8db324d00d1c8845",
      "bcca30afb4c04520907ff8badd0f01d0",
      "d9b09775e2ea4c5e943b23d284131282",
      "b6b94cd85dad4b17a23f8e84a92ac83c",
      "2b3dd4083f4443da861d3741584a0b86"
     ]
    },
    "id": "yGNjA6G2B3ZN",
    "outputId": "38777b8d-4a1a-4f1c-c644-3d611307be8f"
   },
   "outputs": [
    {
     "data": {
      "image/png": "[encoded data removed]"
     },
     "metadata": {},
     "output_type": "display_data"
    }
   ],
   "source": [
    "import math\n",
    "def three_handed_clock(x: float, canvas: mg.Canvas) -> None:\n",
    "  # draw 12 hour-marks\n",
    "  for hour in range(12):\n",
    "    canvas.line(mg.orbit(canvas.center, hour*math.pi/6, 0.8 * canvas.ysize/2),\n",
    "                mg.orbit(canvas.center, hour*math.pi/6, canvas.ysize/2),\n",
    "                         linecap='round', color=(0,0,0.5), width='38p')\n",
    "    canvas.line(mg.orbit(canvas.center, hour*math.pi/6, 0.8 * canvas.ysize/2),\n",
    "                mg.orbit(canvas.center, hour*math.pi/6, canvas.ysize/2),\n",
    "                         linecap='round', color='white', width='31p')\n",
    "\n",
    "  # positions of hands in radians\n",
    "  hangle = -x/100 * 2*math.pi\n",
    "  mangle = -x/100 * 12*2*math.pi\n",
    "  sangle = -x/100 * 60*12*2*math.pi\n",
    "\n",
    "  # draw clock's hands\n",
    "  canvas.line(canvas.center, mg.orbit(canvas.center, hangle, 0.62*canvas.ysize/2), \n",
    "              linecap='round', color='#333333', width='55p')\n",
    "  canvas.line(canvas.center, mg.orbit(canvas.center, mangle, 1.0*canvas.ysize/2), \n",
    "              linecap='round', color='midnightblue', width='20p', style='stroke')\n",
    "  canvas.line(mg.orbit(canvas.center, sangle+math.pi, 0.2*canvas.ysize/2),\n",
    "              mg.orbit(canvas.center, sangle, 1.0*canvas.ysize/2), \n",
    "              linecap='round', color='maroon', width='10p', style='stroke')\n",
    "    \n",
    "mg.show(three_handed_clock, scale=5, shadow=True, border=False,\n",
    "        x=[[5, 25, 50, 75, 95],\n",
    "           [5.00, 5.01, 5.02, 5.03, 5.04],\n",
    "           [61.000, 61.002, 61.004, 61.006, 61.008]])"
   ]
  },
  {
   "cell_type": "markdown",
   "metadata": {},
   "source": [
    "***\n",
    "# dale stare veci\n",
    "\n",
    "nezkouseno a nyni urcite nefunkcni!!! \\\n",
    "musi se prevest na novou verzi - melo by jit bez vetsich obtizi\n",
    "***"
   ]
  },
  {
   "cell_type": "code",
   "execution_count": 38,
   "metadata": {
    "colab": {
     "base_uri": "https://localhost:8080/",
     "height": 145,
     "referenced_widgets": [
      "d6866faa4f1c45e89492d15c8e401178",
      "af6a79972fe9466f93e3eee1ce4b9dda",
      "5c2eec15d67d4cad8db324d00d1c8845",
      "bcca30afb4c04520907ff8badd0f01d0",
      "d9b09775e2ea4c5e943b23d284131282",
      "b6b94cd85dad4b17a23f8e84a92ac83c",
      "2b3dd4083f4443da861d3741584a0b86"
     ]
    },
    "id": "yGNjA6G2B3ZN",
    "outputId": "38777b8d-4a1a-4f1c-c644-3d611307be8f"
   },
   "outputs": [
    {
     "ename": "ValueError",
     "evalue": "Invalid value: 3.1pt",
     "output_type": "error",
     "traceback": [
      "\u001b[1;31m---------------------------------------------------------------------------\u001b[0m",
      "\u001b[1;31mValueError\u001b[0m                                Traceback (most recent call last)",
      "Cell \u001b[1;32mIn[38], line 26\u001b[0m\n\u001b[0;32m     20\u001b[0m   canvas\u001b[38;5;241m.\u001b[39mline(canvas\u001b[38;5;241m.\u001b[39mcenter, mg\u001b[38;5;241m.\u001b[39morbit(canvas\u001b[38;5;241m.\u001b[39mcenter, mangle, \u001b[38;5;241m1.0\u001b[39m\u001b[38;5;241m*\u001b[39mcanvas\u001b[38;5;241m.\u001b[39mysize\u001b[38;5;241m/\u001b[39m\u001b[38;5;241m2\u001b[39m),  \n\u001b[0;32m     21\u001b[0m               width\u001b[38;5;241m=\u001b[39m\u001b[38;5;124m'\u001b[39m\u001b[38;5;124m1.5pt\u001b[39m\u001b[38;5;124m'\u001b[39m, linecap\u001b[38;5;241m=\u001b[39m\u001b[38;5;124m'\u001b[39m\u001b[38;5;124mround\u001b[39m\u001b[38;5;124m'\u001b[39m, color\u001b[38;5;241m=\u001b[39m\u001b[38;5;124m'\u001b[39m\u001b[38;5;124mmidnightblue\u001b[39m\u001b[38;5;124m'\u001b[39m)\n\u001b[0;32m     22\u001b[0m   canvas\u001b[38;5;241m.\u001b[39mline(mg\u001b[38;5;241m.\u001b[39morbit(canvas\u001b[38;5;241m.\u001b[39mcenter, sangle\u001b[38;5;241m+\u001b[39mmath\u001b[38;5;241m.\u001b[39mpi, \u001b[38;5;241m0.2\u001b[39m\u001b[38;5;241m*\u001b[39mcanvas\u001b[38;5;241m.\u001b[39mysize\u001b[38;5;241m/\u001b[39m\u001b[38;5;241m2\u001b[39m),\n\u001b[0;32m     23\u001b[0m               mg\u001b[38;5;241m.\u001b[39morbit(canvas\u001b[38;5;241m.\u001b[39mcenter, sangle, \u001b[38;5;241m1.0\u001b[39m\u001b[38;5;241m*\u001b[39mcanvas\u001b[38;5;241m.\u001b[39mysize\u001b[38;5;241m/\u001b[39m\u001b[38;5;241m2\u001b[39m),  \n\u001b[0;32m     24\u001b[0m               width\u001b[38;5;241m=\u001b[39m\u001b[38;5;124m'\u001b[39m\u001b[38;5;124m0.6pt\u001b[39m\u001b[38;5;124m'\u001b[39m, linecap\u001b[38;5;241m=\u001b[39m\u001b[38;5;124m'\u001b[39m\u001b[38;5;124mround\u001b[39m\u001b[38;5;124m'\u001b[39m, color\u001b[38;5;241m=\u001b[39m\u001b[38;5;124m'\u001b[39m\u001b[38;5;124mmaroon\u001b[39m\u001b[38;5;124m'\u001b[39m)\n\u001b[1;32m---> 26\u001b[0m \u001b[43mmg\u001b[49m\u001b[38;5;241;43m.\u001b[39;49m\u001b[43mshow\u001b[49m\u001b[43m(\u001b[49m\u001b[43mthree_handed_clock\u001b[49m\u001b[43m,\u001b[49m\u001b[43m \u001b[49m\u001b[43mbackground\u001b[49m\u001b[38;5;241;43m=\u001b[39;49m\u001b[38;5;124;43m'\u001b[39;49m\u001b[38;5;124;43mwhitesmoke\u001b[39;49m\u001b[38;5;124;43m'\u001b[39;49m\u001b[43m,\u001b[49m\u001b[43m \u001b[49m\n\u001b[0;32m     27\u001b[0m \u001b[43m        \u001b[49m\u001b[43mx\u001b[49m\u001b[38;5;241;43m=\u001b[39;49m\u001b[43m[\u001b[49m\u001b[43m[\u001b[49m\u001b[38;5;241;43m5\u001b[39;49m\u001b[43m,\u001b[49m\u001b[43m \u001b[49m\u001b[38;5;241;43m25\u001b[39;49m\u001b[43m,\u001b[49m\u001b[43m \u001b[49m\u001b[38;5;241;43m50\u001b[39;49m\u001b[43m,\u001b[49m\u001b[43m \u001b[49m\u001b[38;5;241;43m75\u001b[39;49m\u001b[43m,\u001b[49m\u001b[43m \u001b[49m\u001b[38;5;241;43m95\u001b[39;49m\u001b[43m]\u001b[49m\u001b[43m,\u001b[49m\n\u001b[0;32m     28\u001b[0m \u001b[43m           \u001b[49m\u001b[43m[\u001b[49m\u001b[38;5;241;43m5.00\u001b[39;49m\u001b[43m,\u001b[49m\u001b[43m \u001b[49m\u001b[38;5;241;43m5.01\u001b[39;49m\u001b[43m,\u001b[49m\u001b[43m \u001b[49m\u001b[38;5;241;43m5.02\u001b[39;49m\u001b[43m,\u001b[49m\u001b[43m \u001b[49m\u001b[38;5;241;43m5.03\u001b[39;49m\u001b[43m,\u001b[49m\u001b[43m \u001b[49m\u001b[38;5;241;43m5.04\u001b[39;49m\u001b[43m]\u001b[49m\u001b[43m,\u001b[49m\n\u001b[0;32m     29\u001b[0m \u001b[43m           \u001b[49m\u001b[43m[\u001b[49m\u001b[38;5;241;43m61.000\u001b[39;49m\u001b[43m,\u001b[49m\u001b[43m \u001b[49m\u001b[38;5;241;43m61.002\u001b[39;49m\u001b[43m,\u001b[49m\u001b[43m \u001b[49m\u001b[38;5;241;43m61.004\u001b[39;49m\u001b[43m,\u001b[49m\u001b[43m \u001b[49m\u001b[38;5;241;43m61.006\u001b[39;49m\u001b[43m,\u001b[49m\u001b[43m \u001b[49m\u001b[38;5;241;43m61.008\u001b[39;49m\u001b[43m]\u001b[49m\u001b[43m]\u001b[49m\u001b[43m)\u001b[49m\n",
      "File \u001b[1;32m~\\Research\\mglyph\\src\\mglyph.py:629\u001b[0m, in \u001b[0;36mshow\u001b[1;34m(drawer, canvas, x, scale, spacing, margin, font_size, background, values, values_color, border, border_width, border_color, shadow, shadow_color, shadow_sigma, shadow_shift, shadow_scale)\u001b[0m\n\u001b[0;32m    627\u001b[0m \u001b[38;5;28;01mif\u001b[39;00m \u001b[38;5;28misinstance\u001b[39m(x[\u001b[38;5;241m0\u001b[39m], \u001b[38;5;28mfloat\u001b[39m) \u001b[38;5;129;01mor\u001b[39;00m \u001b[38;5;28misinstance\u001b[39m(x[\u001b[38;5;241m0\u001b[39m], \u001b[38;5;28mint\u001b[39m):\n\u001b[0;32m    628\u001b[0m     x \u001b[38;5;241m=\u001b[39m [x]\n\u001b[1;32m--> 629\u001b[0m image \u001b[38;5;241m=\u001b[39m \u001b[43m__rasterize_in_grid\u001b[49m\u001b[43m(\u001b[49m\u001b[43mdrawer\u001b[49m\u001b[43m,\u001b[49m\u001b[43m \u001b[49m\u001b[43mcanvas\u001b[49m\u001b[43m,\u001b[49m\u001b[43m \u001b[49m\u001b[43mx\u001b[49m\u001b[43m,\u001b[49m\u001b[43m \u001b[49m\n\u001b[0;32m    630\u001b[0m \u001b[43m                            \u001b[49m\u001b[43m[\u001b[49m\u001b[43m_library_dpi\u001b[49m\u001b[43m,\u001b[49m\u001b[43m \u001b[49m\u001b[43m_library_dpi\u001b[49m\u001b[43m]\u001b[49m\u001b[43m,\u001b[49m\u001b[43m \u001b[49m\u001b[43mspacing\u001b[49m\u001b[43m,\u001b[49m\u001b[43m \u001b[49m\n\u001b[0;32m    631\u001b[0m \u001b[43m                            \u001b[49m\u001b[43mmargin\u001b[49m\u001b[43m,\u001b[49m\u001b[43m \u001b[49m\u001b[43mfont_size\u001b[49m\u001b[43m,\u001b[49m\u001b[43m \u001b[49m\u001b[43mbackground\u001b[49m\u001b[43m,\u001b[49m\u001b[43m \u001b[49m\u001b[43mscale\u001b[49m\u001b[43m,\u001b[49m\u001b[43m \u001b[49m\n\u001b[0;32m    632\u001b[0m \u001b[43m                            \u001b[49m\u001b[43mvalues\u001b[49m\u001b[43m,\u001b[49m\u001b[43m \u001b[49m\u001b[43mvalues_color\u001b[49m\u001b[43m,\u001b[49m\u001b[43m \u001b[49m\n\u001b[0;32m    633\u001b[0m \u001b[43m                            \u001b[49m\u001b[43mborder\u001b[49m\u001b[43m,\u001b[49m\u001b[43m \u001b[49m\u001b[43mborder_width\u001b[49m\u001b[43m,\u001b[49m\u001b[43m \u001b[49m\u001b[43mborder_color\u001b[49m\u001b[43m,\u001b[49m\n\u001b[0;32m    634\u001b[0m \u001b[43m                            \u001b[49m\u001b[43mshadow\u001b[49m\u001b[43m,\u001b[49m\u001b[43m \u001b[49m\u001b[43mshadow_color\u001b[49m\u001b[43m,\u001b[49m\u001b[43m \u001b[49m\u001b[43mshadow_sigma\u001b[49m\u001b[43m,\u001b[49m\u001b[43m \u001b[49m\u001b[43mshadow_shift\u001b[49m\u001b[43m,\u001b[49m\u001b[43m \u001b[49m\u001b[43mshadow_scale\u001b[49m\u001b[43m)\u001b[49m\n\u001b[0;32m    635\u001b[0m \u001b[38;5;66;03m# image.save('test.png')\u001b[39;00m\n\u001b[0;32m    636\u001b[0m IPython\u001b[38;5;241m.\u001b[39mdisplay\u001b[38;5;241m.\u001b[39mdisplay_png(image)\n",
      "File \u001b[1;32m~\\Research\\mglyph\\src\\mglyph.py:562\u001b[0m, in \u001b[0;36m__rasterize_in_grid\u001b[1;34m(drawer, canvas, xvalues, resolution, spacing, margin, font_size, background_color, scale, values, values_color, border, border_width, border_color, shadow, shadow_color, shadow_sigma, shadow_shift, shadow_scale)\u001b[0m\n\u001b[0;32m    560\u001b[0m             \u001b[38;5;28;01mraise\u001b[39;00m \u001b[38;5;167;01mTypeError\u001b[39;00m(\u001b[38;5;124m'\u001b[39m\u001b[38;5;124mWrong glyph len in `show()` function!\u001b[39m\u001b[38;5;124m'\u001b[39m)\n\u001b[0;32m    561\u001b[0m \u001b[38;5;28;01melse\u001b[39;00m:\n\u001b[1;32m--> 562\u001b[0m     img \u001b[38;5;241m=\u001b[39m \u001b[43m__rasterize\u001b[49m\u001b[43m(\u001b[49m\u001b[43mdrawer\u001b[49m\u001b[43m,\u001b[49m\u001b[43m \u001b[49m\u001b[43mcanvas\u001b[49m\u001b[43m,\u001b[49m\u001b[43m \u001b[49m\u001b[43mx\u001b[49m\u001b[43m,\u001b[49m\u001b[43m \u001b[49m\u001b[43m[\u001b[49m\u001b[43mresolution_x\u001b[49m\u001b[43m,\u001b[49m\u001b[43m \u001b[49m\u001b[43mresolution_y\u001b[49m\u001b[43m]\u001b[49m\u001b[43m)\u001b[49m\n\u001b[0;32m    564\u001b[0m img_w, img_h \u001b[38;5;241m=\u001b[39m img\u001b[38;5;241m.\u001b[39mwidth(), img\u001b[38;5;241m.\u001b[39mheight()\n\u001b[0;32m    566\u001b[0m paste_x \u001b[38;5;241m=\u001b[39m int_ceil((margins_px[\u001b[38;5;124m'\u001b[39m\u001b[38;5;124mleft\u001b[39m\u001b[38;5;124m'\u001b[39m] \u001b[38;5;241m+\u001b[39m j\u001b[38;5;241m*\u001b[39mspacing_x_px \u001b[38;5;241m+\u001b[39m j\u001b[38;5;241m*\u001b[39mresolution_x))\n",
      "File \u001b[1;32m~\\Research\\mglyph\\src\\mglyph.py:429\u001b[0m, in \u001b[0;36m__rasterize\u001b[1;34m(drawer, canvas, x, resolution)\u001b[0m\n\u001b[0;32m    427\u001b[0m \u001b[38;5;28;01mdef\u001b[39;00m\u001b[38;5;250m \u001b[39m\u001b[38;5;21m__rasterize\u001b[39m(drawer: Drawer, canvas: Canvas, x: \u001b[38;5;28mfloat\u001b[39m \u001b[38;5;241m|\u001b[39m \u001b[38;5;28mint\u001b[39m, resolution: \u001b[38;5;28mlist\u001b[39m[\u001b[38;5;28mfloat\u001b[39m]) \u001b[38;5;241m-\u001b[39m\u001b[38;5;241m>\u001b[39m skia\u001b[38;5;241m.\u001b[39mImage:\n\u001b[0;32m    428\u001b[0m \u001b[38;5;250m    \u001b[39m\u001b[38;5;124;03m'''Rasterize the glyph into a PIL image.'''\u001b[39;00m\n\u001b[1;32m--> 429\u001b[0m     \u001b[43mdrawer\u001b[49m\u001b[43m(\u001b[49m\u001b[38;5;28;43mfloat\u001b[39;49m\u001b[43m(\u001b[49m\u001b[43mx\u001b[49m\u001b[43m)\u001b[49m\u001b[43m,\u001b[49m\u001b[43m \u001b[49m\u001b[43mcanvas\u001b[49m\u001b[43m)\u001b[49m\n\u001b[0;32m    430\u001b[0m     image \u001b[38;5;241m=\u001b[39m canvas\u001b[38;5;241m.\u001b[39msurface\u001b[38;5;241m.\u001b[39mmakeImageSnapshot()\n\u001b[0;32m    431\u001b[0m     canvas\u001b[38;5;241m.\u001b[39mclear()\n",
      "Cell \u001b[1;32mIn[38], line 5\u001b[0m, in \u001b[0;36mthree_handed_clock\u001b[1;34m(x, canvas)\u001b[0m\n\u001b[0;32m      2\u001b[0m \u001b[38;5;28;01mdef\u001b[39;00m\u001b[38;5;250m \u001b[39m\u001b[38;5;21mthree_handed_clock\u001b[39m(x: \u001b[38;5;28mfloat\u001b[39m, canvas: mg\u001b[38;5;241m.\u001b[39mCanvas) \u001b[38;5;241m-\u001b[39m\u001b[38;5;241m>\u001b[39m \u001b[38;5;28;01mNone\u001b[39;00m:\n\u001b[0;32m      3\u001b[0m   \u001b[38;5;66;03m# draw 12 hour-marks\u001b[39;00m\n\u001b[0;32m      4\u001b[0m   \u001b[38;5;28;01mfor\u001b[39;00m hour \u001b[38;5;129;01min\u001b[39;00m \u001b[38;5;28mrange\u001b[39m(\u001b[38;5;241m12\u001b[39m):\n\u001b[1;32m----> 5\u001b[0m     \u001b[43mcanvas\u001b[49m\u001b[38;5;241;43m.\u001b[39;49m\u001b[43mline\u001b[49m\u001b[43m(\u001b[49m\u001b[43mmg\u001b[49m\u001b[38;5;241;43m.\u001b[39;49m\u001b[43morbit\u001b[49m\u001b[43m(\u001b[49m\u001b[43mcanvas\u001b[49m\u001b[38;5;241;43m.\u001b[39;49m\u001b[43mcenter\u001b[49m\u001b[43m,\u001b[49m\u001b[43m \u001b[49m\u001b[43mhour\u001b[49m\u001b[38;5;241;43m*\u001b[39;49m\u001b[43mmath\u001b[49m\u001b[38;5;241;43m.\u001b[39;49m\u001b[43mpi\u001b[49m\u001b[38;5;241;43m/\u001b[39;49m\u001b[38;5;241;43m6\u001b[39;49m\u001b[43m,\u001b[49m\u001b[43m \u001b[49m\u001b[38;5;241;43m0.8\u001b[39;49m\u001b[43m \u001b[49m\u001b[38;5;241;43m*\u001b[39;49m\u001b[43m \u001b[49m\u001b[43mcanvas\u001b[49m\u001b[38;5;241;43m.\u001b[39;49m\u001b[43mysize\u001b[49m\u001b[38;5;241;43m/\u001b[39;49m\u001b[38;5;241;43m2\u001b[39;49m\u001b[43m)\u001b[49m\u001b[43m,\u001b[49m\n\u001b[0;32m      6\u001b[0m \u001b[43m                \u001b[49m\u001b[43mmg\u001b[49m\u001b[38;5;241;43m.\u001b[39;49m\u001b[43morbit\u001b[49m\u001b[43m(\u001b[49m\u001b[43mcanvas\u001b[49m\u001b[38;5;241;43m.\u001b[39;49m\u001b[43mcenter\u001b[49m\u001b[43m,\u001b[49m\u001b[43m \u001b[49m\u001b[43mhour\u001b[49m\u001b[38;5;241;43m*\u001b[39;49m\u001b[43mmath\u001b[49m\u001b[38;5;241;43m.\u001b[39;49m\u001b[43mpi\u001b[49m\u001b[38;5;241;43m/\u001b[39;49m\u001b[38;5;241;43m6\u001b[39;49m\u001b[43m,\u001b[49m\u001b[43m \u001b[49m\u001b[43mcanvas\u001b[49m\u001b[38;5;241;43m.\u001b[39;49m\u001b[43mysize\u001b[49m\u001b[38;5;241;43m/\u001b[39;49m\u001b[38;5;241;43m2\u001b[39;49m\u001b[43m)\u001b[49m\u001b[43m,\u001b[49m\n\u001b[0;32m      7\u001b[0m \u001b[43m                         \u001b[49m\u001b[43mwidth\u001b[49m\u001b[38;5;241;43m=\u001b[39;49m\u001b[38;5;124;43m'\u001b[39;49m\u001b[38;5;124;43m3.1pt\u001b[39;49m\u001b[38;5;124;43m'\u001b[39;49m\u001b[43m,\u001b[49m\u001b[43m \u001b[49m\u001b[43mlinecap\u001b[49m\u001b[38;5;241;43m=\u001b[39;49m\u001b[38;5;124;43m'\u001b[39;49m\u001b[38;5;124;43mround\u001b[39;49m\u001b[38;5;124;43m'\u001b[39;49m\u001b[43m,\u001b[49m\u001b[43m \u001b[49m\u001b[43mcolor\u001b[49m\u001b[38;5;241;43m=\u001b[39;49m\u001b[38;5;124;43m'\u001b[39;49m\u001b[38;5;124;43mmidnightblue\u001b[39;49m\u001b[38;5;124;43m'\u001b[39;49m\u001b[43m)\u001b[49m\n\u001b[0;32m      8\u001b[0m     canvas\u001b[38;5;241m.\u001b[39mline(mg\u001b[38;5;241m.\u001b[39morbit(canvas\u001b[38;5;241m.\u001b[39mcenter, hour\u001b[38;5;241m*\u001b[39mmath\u001b[38;5;241m.\u001b[39mpi\u001b[38;5;241m/\u001b[39m\u001b[38;5;241m6\u001b[39m, \u001b[38;5;241m0.8\u001b[39m \u001b[38;5;241m*\u001b[39m canvas\u001b[38;5;241m.\u001b[39mysize\u001b[38;5;241m/\u001b[39m\u001b[38;5;241m2\u001b[39m),\n\u001b[0;32m      9\u001b[0m                 mg\u001b[38;5;241m.\u001b[39morbit(canvas\u001b[38;5;241m.\u001b[39mcenter, hour\u001b[38;5;241m*\u001b[39mmath\u001b[38;5;241m.\u001b[39mpi\u001b[38;5;241m/\u001b[39m\u001b[38;5;241m6\u001b[39m, canvas\u001b[38;5;241m.\u001b[39mysize\u001b[38;5;241m/\u001b[39m\u001b[38;5;241m2\u001b[39m),\n\u001b[0;32m     10\u001b[0m                 width\u001b[38;5;241m=\u001b[39m\u001b[38;5;124m'\u001b[39m\u001b[38;5;124m2.4pt\u001b[39m\u001b[38;5;124m'\u001b[39m, linecap\u001b[38;5;241m=\u001b[39m\u001b[38;5;124m'\u001b[39m\u001b[38;5;124mround\u001b[39m\u001b[38;5;124m'\u001b[39m, color\u001b[38;5;241m=\u001b[39m\u001b[38;5;124m'\u001b[39m\u001b[38;5;124mwhite\u001b[39m\u001b[38;5;124m'\u001b[39m)\n\u001b[0;32m     12\u001b[0m   \u001b[38;5;66;03m# positions of hands in radians\u001b[39;00m\n",
      "File \u001b[1;32m~\\Research\\mglyph\\src\\mglyph.py:285\u001b[0m, in \u001b[0;36mCanvas.line\u001b[1;34m(self, p1, p2, color, width, style, linecap, linejoin)\u001b[0m\n\u001b[0;32m    282\u001b[0m x1, y1 \u001b[38;5;241m=\u001b[39m \u001b[38;5;28mself\u001b[39m\u001b[38;5;241m.\u001b[39m__convert_relative(p1)\n\u001b[0;32m    283\u001b[0m x2, y2 \u001b[38;5;241m=\u001b[39m \u001b[38;5;28mself\u001b[39m\u001b[38;5;241m.\u001b[39m__convert_relative(p2)\n\u001b[1;32m--> 285\u001b[0m paint \u001b[38;5;241m=\u001b[39m create_paint(color, \u001b[38;5;28;43mself\u001b[39;49m\u001b[38;5;241;43m.\u001b[39;49m\u001b[43m__points_to_px\u001b[49m\u001b[43m(\u001b[49m\u001b[43mwidth\u001b[49m\u001b[43m)\u001b[49m, style, linecap, linejoin)\n\u001b[0;32m    287\u001b[0m \u001b[38;5;28;01mwith\u001b[39;00m \u001b[38;5;28mself\u001b[39m\u001b[38;5;241m.\u001b[39msurface \u001b[38;5;28;01mas\u001b[39;00m canvas:\n\u001b[0;32m    288\u001b[0m     canvas\u001b[38;5;241m.\u001b[39mdrawLine(x1, y1, x2, y2, paint)\n",
      "File \u001b[1;32m~\\Research\\mglyph\\src\\mglyph.py:227\u001b[0m, in \u001b[0;36mCanvas.__points_to_px\u001b[1;34m(self, value)\u001b[0m\n\u001b[0;32m    225\u001b[0m     match \u001b[38;5;241m=\u001b[39m re\u001b[38;5;241m.\u001b[39mfullmatch(\u001b[38;5;124mr\u001b[39m\u001b[38;5;124m'\u001b[39m\u001b[38;5;124m(\u001b[39m\u001b[38;5;124m\\\u001b[39m\u001b[38;5;124md+(?:\u001b[39m\u001b[38;5;124m\\\u001b[39m\u001b[38;5;124m.\u001b[39m\u001b[38;5;124m\\\u001b[39m\u001b[38;5;124md+)?)\u001b[39m\u001b[38;5;124m\\\u001b[39m\u001b[38;5;124ms*(p)\u001b[39m\u001b[38;5;124m\\\u001b[39m\u001b[38;5;124ms*\u001b[39m\u001b[38;5;124m'\u001b[39m, value)\n\u001b[0;32m    226\u001b[0m     \u001b[38;5;28;01mif\u001b[39;00m \u001b[38;5;129;01mnot\u001b[39;00m match:\n\u001b[1;32m--> 227\u001b[0m         \u001b[38;5;28;01mraise\u001b[39;00m \u001b[38;5;167;01mValueError\u001b[39;00m(\u001b[38;5;124mf\u001b[39m\u001b[38;5;124m\"\u001b[39m\u001b[38;5;124mInvalid value: \u001b[39m\u001b[38;5;132;01m{\u001b[39;00mvalue\u001b[38;5;132;01m}\u001b[39;00m\u001b[38;5;124m\"\u001b[39m)\n\u001b[0;32m    228\u001b[0m     \u001b[38;5;28;01mreturn\u001b[39;00m \u001b[38;5;28mfloat\u001b[39m(match\u001b[38;5;241m.\u001b[39mgroup(\u001b[38;5;241m1\u001b[39m)) \u001b[38;5;241m*\u001b[39m \u001b[38;5;28mself\u001b[39m\u001b[38;5;241m.\u001b[39m__point_value\n\u001b[0;32m    229\u001b[0m \u001b[38;5;28;01melse\u001b[39;00m:\n",
      "\u001b[1;31mValueError\u001b[0m: Invalid value: 3.1pt"
     ]
    }
   ],
   "source": [
    "import math\n",
    "def three_handed_clock(x: float, canvas: mg.Canvas) -> None:\n",
    "  # draw 12 hour-marks\n",
    "  for hour in range(12):\n",
    "    canvas.line(mg.orbit(canvas.center, hour*math.pi/6, 0.8 * canvas.ysize/2),\n",
    "                mg.orbit(canvas.center, hour*math.pi/6, canvas.ysize/2),\n",
    "                         width='3.1pt', linecap='round', color='midnightblue')\n",
    "    canvas.line(mg.orbit(canvas.center, hour*math.pi/6, 0.8 * canvas.ysize/2),\n",
    "                mg.orbit(canvas.center, hour*math.pi/6, canvas.ysize/2),\n",
    "                width='2.4pt', linecap='round', color='white')\n",
    "\n",
    "  # positions of hands in radians\n",
    "  hangle = -x/100 * 2*math.pi\n",
    "  mangle = -x/100 * 12*2*math.pi\n",
    "  sangle = -x/100 * 60*12*2*math.pi\n",
    "\n",
    "  # draw clock's hands\n",
    "  canvas.line(canvas.center, mg.orbit(canvas.center, hangle, 0.62*canvas.ysize/2),  \n",
    "              width='3.3pt', linecap='round', color='#333333')\n",
    "  canvas.line(canvas.center, mg.orbit(canvas.center, mangle, 1.0*canvas.ysize/2),  \n",
    "              width='1.5pt', linecap='round', color='midnightblue')\n",
    "  canvas.line(mg.orbit(canvas.center, sangle+math.pi, 0.2*canvas.ysize/2),\n",
    "              mg.orbit(canvas.center, sangle, 1.0*canvas.ysize/2),  \n",
    "              width='0.6pt', linecap='round', color='maroon')\n",
    "\n",
    "mg.show(three_handed_clock, background='whitesmoke', \n",
    "        x=[[5, 25, 50, 75, 95],\n",
    "           [5.00, 5.01, 5.02, 5.03, 5.04],\n",
    "           [61.000, 61.002, 61.004, 61.006, 61.008]])"
   ]
  },
  {
   "cell_type": "markdown",
   "metadata": {},
   "source": [
    "## One-Handed Clock – This one is elligible\n",
    "\n",
    "There are three variants, adding static decoration on the clock face.  It is worth testing whether there would be differences and which one performs best!"
   ]
  },
  {
   "cell_type": "code",
   "execution_count": 39,
   "metadata": {
    "colab": {
     "base_uri": "https://localhost:8080/",
     "height": 421,
     "referenced_widgets": [
      "8b224eb98ae64d90b0c34da78fbfd5d8",
      "17bb04e5b4a54d6186d81e09bc27a901",
      "e32f19fbd7ea46d68cae9c8ed2055b66",
      "4161a0b5f1734236a773bab479d5cfac",
      "7f2f93d229a14182a31d3ddb2a367bf6",
      "4568b203b59740ba832a2ee4a9996b42",
      "5fb9040536754d32a834a227566afdc1",
      "3ddaea2e0f5f4caa84a7798fe4d401ed",
      "7b62fc4dee034a99a1bfb3159dfd0d21",
      "058f4d1ad37848c686502314a3accf11",
      "1c07db07f8274585827011f7f44b405f",
      "daa98c7edda04a57a8afa958da2315b4",
      "681e8e2ba8864d99b2557d14a30cf936",
      "20b9d9b908df480ab2e2ff8b96f45417",
      "db63d32dd4744a94b31bc7849d877092"
     ]
    },
    "id": "zyWVcfrAKHb3",
    "outputId": "c4a5a274-f7de-4701-f64c-39c75eb5b644"
   },
   "outputs": [
    {
     "data": {
      "image/png": "[encoded data removed]"
     },
     "metadata": {},
     "output_type": "display_data"
    },
    {
     "data": {
      "image/png": "[encoded data removed]"
     },
     "metadata": {},
     "output_type": "display_data"
    },
    {
     "data": {
      "image/png": "[encoded data removed]"
     },
     "metadata": {},
     "output_type": "display_data"
    }
   ],
   "source": [
    "def one_handed_clock(x: float, canvas: mg.Canvas) -> None:\n",
    "  canvas.circle(canvas.center, radius=canvas.ysize/30, color='darkslategray', style='stroke', width='20p')\n",
    "  angle = -x/100 * 2*math.pi\n",
    "  canvas.line(mg.orbit(canvas.center, angle+math.pi, 0.18 * canvas.ysize/2),\n",
    "              mg.orbit(canvas.center, angle, 1.0*canvas.ysize/2),  \n",
    "              width='10p', linecap='round', color='maroon')\n",
    "\n",
    "def one_handed_clock_with_hticks(x: float, canvas: mg.Canvas) -> None:\n",
    "  for hour in range(12):\n",
    "    canvas.line(mg.orbit(canvas.center, hour*math.pi/6, 0.8 * canvas.ysize/2),\n",
    "                mg.orbit(canvas.center, hour*math.pi/6, canvas.ysize/2),\n",
    "                         linecap='round', color=(0,0,0.5), width='38p')\n",
    "    canvas.line(mg.orbit(canvas.center, hour*math.pi/6, 0.8 * canvas.ysize/2),\n",
    "                mg.orbit(canvas.center, hour*math.pi/6, canvas.ysize/2),\n",
    "                         linecap='round', color='white', width='31p')\n",
    "  one_handed_clock(x, canvas)\n",
    "\n",
    "def one_handed_clock_with_mticks(x: float, canvas: mg.Canvas) -> None:\n",
    "  for minute in range(60):\n",
    "    canvas.line(mg.orbit(canvas.center, minute*math.pi/30, 0.88*canvas.ysize/2),\n",
    "                mg.orbit(canvas.center, minute*math.pi/30, 1.0*canvas.ysize/2), \n",
    "                width='5p', linecap='round', color='black')\n",
    "  one_handed_clock_with_hticks(x, canvas)\n",
    "\n",
    "mg.show(one_handed_clock, scale=1,\n",
    "        x=[[5, 25, 50, 75, 95], [20, 21, 22, 23, 24]])\n",
    "mg.show(one_handed_clock_with_hticks, scale=1,\n",
    "        x=[[5, 25, 50, 75, 95], [20, 21, 22, 23, 24]])\n",
    "mg.show(one_handed_clock_with_mticks, scale=1,\n",
    "        x=[[5, 25, 50, 75, 95], [20, 21, 22, 23, 24]])"
   ]
  },
  {
   "cell_type": "code",
   "execution_count": 40,
   "metadata": {
    "id": "iPPOXA4VSfWM"
   },
   "outputs": [
    {
     "data": {
      "application/vnd.jupyter.widget-view+json": {
       "model_id": "7d9297a1346c47cfa12129044c0084eb",
       "version_major": 2,
       "version_minor": 0
      },
      "text/plain": [
       "IntProgress(value=0, description='Exporting:', max=201)"
      ]
     },
     "metadata": {},
     "output_type": "display_data"
    },
    {
     "ename": "TypeError",
     "evalue": "save(): incompatible function arguments. The following argument types are supported:\n    1. (self: skia.Image, fp: object, encodedImageFormat: skia.EncodedImageFormat = skia.EncodedImageFormat.kPNG, quality: int = 100) -> None\n\nInvoked with: Image(512, 512, ColorType.kBGRA_8888_ColorType, AlphaType.kPremul_AlphaType), <_io.BytesIO object at 0x0000025F8BB21DA0>; kwargs: format='PNG'",
     "output_type": "error",
     "traceback": [
      "\u001b[1;31m---------------------------------------------------------------------------\u001b[0m",
      "\u001b[1;31mTypeError\u001b[0m                                 Traceback (most recent call last)",
      "Cell \u001b[1;32mIn[40], line 2\u001b[0m\n\u001b[0;32m      1\u001b[0m xvalues\u001b[38;5;241m=\u001b[39m[\u001b[38;5;241m0.5\u001b[39m\u001b[38;5;241m*\u001b[39mx \u001b[38;5;28;01mfor\u001b[39;00m x \u001b[38;5;129;01min\u001b[39;00m \u001b[38;5;28mrange\u001b[39m(\u001b[38;5;241m201\u001b[39m)]\n\u001b[1;32m----> 2\u001b[0m \u001b[43mmg\u001b[49m\u001b[38;5;241;43m.\u001b[39;49m\u001b[43mexport\u001b[49m\u001b[43m(\u001b[49m\u001b[43msimple_horizontal_line\u001b[49m\u001b[43m,\u001b[49m\u001b[43m \u001b[49m\u001b[43mxvalues\u001b[49m\u001b[38;5;241;43m=\u001b[39;49m\u001b[43mxvalues\u001b[49m\u001b[43m,\u001b[49m\n\u001b[0;32m      3\u001b[0m \u001b[43m          \u001b[49m\u001b[43mname\u001b[49m\u001b[38;5;241;43m=\u001b[39;49m\u001b[38;5;124;43m\"\u001b[39;49m\u001b[38;5;124;43mSimple Horizontal Line\u001b[39;49m\u001b[38;5;124;43m\"\u001b[39;49m\u001b[43m,\u001b[49m\u001b[43m \u001b[49m\u001b[43mshort_name\u001b[49m\u001b[38;5;241;43m=\u001b[39;49m\u001b[38;5;124;43m'\u001b[39;49m\u001b[38;5;124;43mline\u001b[39;49m\u001b[38;5;124;43m'\u001b[39;49m\u001b[43m,\u001b[49m\n\u001b[0;32m      4\u001b[0m \u001b[43m          \u001b[49m\u001b[43mpath\u001b[49m\u001b[38;5;241;43m=\u001b[39;49m\u001b[43mos\u001b[49m\u001b[38;5;241;43m.\u001b[39;49m\u001b[43mpath\u001b[49m\u001b[38;5;241;43m.\u001b[39;49m\u001b[43mjoin\u001b[49m\u001b[43m(\u001b[49m\u001b[43moutpath\u001b[49m\u001b[43m,\u001b[49m\u001b[43m \u001b[49m\u001b[38;5;124;43m\"\u001b[39;49m\u001b[38;5;124;43mSimple Horizontal Line.mglyph\u001b[39;49m\u001b[38;5;124;43m\"\u001b[39;49m\u001b[43m)\u001b[49m\u001b[43m,\u001b[49m\n\u001b[0;32m      5\u001b[0m \u001b[43m          \u001b[49m\u001b[43mauthor\u001b[49m\u001b[38;5;241;43m=\u001b[39;49m\u001b[38;5;124;43m\"\u001b[39;49m\u001b[38;5;124;43mAdam Herout\u001b[39;49m\u001b[38;5;124;43m\"\u001b[39;49m\u001b[43m,\u001b[49m\u001b[43m \u001b[49m\u001b[43memail\u001b[49m\u001b[38;5;241;43m=\u001b[39;49m\u001b[38;5;124;43m\"\u001b[39;49m\u001b[38;5;124;43mherout@vut.cz\u001b[39;49m\u001b[38;5;124;43m\"\u001b[39;49m\u001b[43m,\u001b[49m\u001b[43m \u001b[49m\u001b[43mversion\u001b[49m\u001b[38;5;241;43m=\u001b[39;49m\u001b[38;5;124;43m\"\u001b[39;49m\u001b[38;5;124;43m1.0.0\u001b[39;49m\u001b[38;5;124;43m\"\u001b[39;49m\u001b[43m)\u001b[49m\n\u001b[0;32m      6\u001b[0m mg\u001b[38;5;241m.\u001b[39mexport(simple_scaled_square, xvalues\u001b[38;5;241m=\u001b[39mxvalues,\n\u001b[0;32m      7\u001b[0m           name\u001b[38;5;241m=\u001b[39m\u001b[38;5;124m\"\u001b[39m\u001b[38;5;124mSimple Scaled Square\u001b[39m\u001b[38;5;124m\"\u001b[39m, short_name\u001b[38;5;241m=\u001b[39m\u001b[38;5;124m'\u001b[39m\u001b[38;5;124msquare\u001b[39m\u001b[38;5;124m'\u001b[39m,\n\u001b[0;32m      8\u001b[0m           path\u001b[38;5;241m=\u001b[39mos\u001b[38;5;241m.\u001b[39mpath\u001b[38;5;241m.\u001b[39mjoin(outpath, \u001b[38;5;124m\"\u001b[39m\u001b[38;5;124mSimple Scaled Squre.mglyph\u001b[39m\u001b[38;5;124m\"\u001b[39m),\n\u001b[0;32m      9\u001b[0m           author\u001b[38;5;241m=\u001b[39m\u001b[38;5;124m\"\u001b[39m\u001b[38;5;124mAdam Herout\u001b[39m\u001b[38;5;124m\"\u001b[39m, email\u001b[38;5;241m=\u001b[39m\u001b[38;5;124m\"\u001b[39m\u001b[38;5;124mherout@vut.cz\u001b[39m\u001b[38;5;124m\"\u001b[39m, version\u001b[38;5;241m=\u001b[39m\u001b[38;5;124m\"\u001b[39m\u001b[38;5;124m1.0.0\u001b[39m\u001b[38;5;124m\"\u001b[39m)\n\u001b[0;32m     10\u001b[0m mg\u001b[38;5;241m.\u001b[39mexport(simple_scaled_circle, xvalues\u001b[38;5;241m=\u001b[39mxvalues,\n\u001b[0;32m     11\u001b[0m           name\u001b[38;5;241m=\u001b[39m\u001b[38;5;124m\"\u001b[39m\u001b[38;5;124mSimple Scaled Circle\u001b[39m\u001b[38;5;124m\"\u001b[39m, short_name\u001b[38;5;241m=\u001b[39m\u001b[38;5;124m'\u001b[39m\u001b[38;5;124mcircle\u001b[39m\u001b[38;5;124m'\u001b[39m,\n\u001b[0;32m     12\u001b[0m           path\u001b[38;5;241m=\u001b[39mos\u001b[38;5;241m.\u001b[39mpath\u001b[38;5;241m.\u001b[39mjoin(outpath, \u001b[38;5;124m\"\u001b[39m\u001b[38;5;124mSimple Scaled Circle.mglyph\u001b[39m\u001b[38;5;124m\"\u001b[39m),\n\u001b[0;32m     13\u001b[0m           author\u001b[38;5;241m=\u001b[39m\u001b[38;5;124m\"\u001b[39m\u001b[38;5;124mAdam Herout\u001b[39m\u001b[38;5;124m\"\u001b[39m, email\u001b[38;5;241m=\u001b[39m\u001b[38;5;124m\"\u001b[39m\u001b[38;5;124mherout@vut.cz\u001b[39m\u001b[38;5;124m\"\u001b[39m, version\u001b[38;5;241m=\u001b[39m\u001b[38;5;124m\"\u001b[39m\u001b[38;5;124m1.0.0\u001b[39m\u001b[38;5;124m\"\u001b[39m)\n",
      "File \u001b[1;32m~\\Research\\mglyph\\src\\mglyph.py:684\u001b[0m, in \u001b[0;36mexport\u001b[1;34m(drawer, name, short_name, author, email, version, author_public, creation_time, path, canvas, xvalues)\u001b[0m\n\u001b[0;32m    682\u001b[0m image \u001b[38;5;241m=\u001b[39m __rasterize(drawer, canvas, x, [_EXPORT_DPI, _EXPORT_DPI])\n\u001b[0;32m    683\u001b[0m data \u001b[38;5;241m=\u001b[39m BytesIO()\n\u001b[1;32m--> 684\u001b[0m \u001b[43mimage\u001b[49m\u001b[38;5;241;43m.\u001b[39;49m\u001b[43msave\u001b[49m\u001b[43m(\u001b[49m\u001b[43mdata\u001b[49m\u001b[43m,\u001b[49m\u001b[43m \u001b[49m\u001b[38;5;28;43mformat\u001b[39;49m\u001b[38;5;241;43m=\u001b[39;49m\u001b[38;5;124;43m'\u001b[39;49m\u001b[38;5;124;43mPNG\u001b[39;49m\u001b[38;5;124;43m'\u001b[39;49m\u001b[43m)\u001b[49m\n\u001b[0;32m    685\u001b[0m data\u001b[38;5;241m.\u001b[39mseek(\u001b[38;5;241m0\u001b[39m)\n\u001b[0;32m    686\u001b[0m zipf\u001b[38;5;241m.\u001b[39mwritestr(\u001b[38;5;124mf\u001b[39m\u001b[38;5;124m'\u001b[39m\u001b[38;5;132;01m{\u001b[39;00mindex\u001b[38;5;132;01m:\u001b[39;00m\u001b[38;5;124m0\u001b[39m\u001b[38;5;132;01m{\u001b[39;00mnumber_of_digits\u001b[38;5;132;01m}\u001b[39;00m\u001b[38;5;124md\u001b[39m\u001b[38;5;132;01m}\u001b[39;00m\u001b[38;5;124m.png\u001b[39m\u001b[38;5;124m'\u001b[39m, data\u001b[38;5;241m.\u001b[39mread())\n",
      "\u001b[1;31mTypeError\u001b[0m: save(): incompatible function arguments. The following argument types are supported:\n    1. (self: skia.Image, fp: object, encodedImageFormat: skia.EncodedImageFormat = skia.EncodedImageFormat.kPNG, quality: int = 100) -> None\n\nInvoked with: Image(512, 512, ColorType.kBGRA_8888_ColorType, AlphaType.kPremul_AlphaType), <_io.BytesIO object at 0x0000025F8BB21DA0>; kwargs: format='PNG'"
     ]
    }
   ],
   "source": [
    "xvalues=[0.5*x for x in range(201)]\n",
    "mg.export(simple_horizontal_line, xvalues=xvalues,\n",
    "          name=\"Simple Horizontal Line\", short_name='line',\n",
    "          path=os.path.join(outpath, \"Simple Horizontal Line.mglyph\"),\n",
    "          author=\"Adam Herout\", email=\"herout@vut.cz\", version=\"1.0.0\")\n",
    "mg.export(simple_scaled_square, xvalues=xvalues,\n",
    "          name=\"Simple Scaled Square\", short_name='square',\n",
    "          path=os.path.join(outpath, \"Simple Scaled Squre.mglyph\"),\n",
    "          author=\"Adam Herout\", email=\"herout@vut.cz\", version=\"1.0.0\")\n",
    "mg.export(simple_scaled_circle, xvalues=xvalues,\n",
    "          name=\"Simple Scaled Circle\", short_name='circle',\n",
    "          path=os.path.join(outpath, \"Simple Scaled Circle.mglyph\"),\n",
    "          author=\"Adam Herout\", email=\"herout@vut.cz\", version=\"1.0.0\")\n",
    "mg.export(simple_scaled_circle_filled, xvalues=xvalues,\n",
    "          name=\"Simple Scaled Filled Circle\", short_name='fcircle',\n",
    "          path=os.path.join(outpath, \"Simple Scaled Filled Circle.mglyph\"),\n",
    "          author=\"Adam Herout\", email=\"herout@vut.cz\", version=\"1.0.0\")\n",
    "mg.export(simple_scaled_star, xvalues=xvalues,\n",
    "          name=\"Simple Scaled Star\", short_name='star',\n",
    "          path=os.path.join(outpath, \"Simple Scaled Star.mglyph\"),\n",
    "          author=\"Adam Herout\", email=\"herout@vut.cz\", version=\"1.0.0\")\n",
    "\n",
    "mg.export(one_handed_clock, xvalues=xvalues,\n",
    "          name=\"One-Handed Clock\", short_name='clock',\n",
    "          path=os.path.join(outpath, \"One-Handed Clock.mglyph\"),\n",
    "          author=\"Adam Herout\", email=\"herout@vut.cz\", version=\"1.0.0\")\n",
    "mg.export(one_handed_clock_with_hticks, xvalues=xvalues,\n",
    "          name=\"One-Handed Clock with Hours\", short_name=\"clock-hours\",\n",
    "          path=os.path.join(outpath, \"One-Handed Clock with Hours.mglyph\"),\n",
    "          author=\"Adam Herout\", email=\"herout@vut.cz\", version=\"1.0.0\")\n",
    "mg.export(one_handed_clock_with_mticks, xvalues=xvalues,\n",
    "          name=\"One-Handed Clock with Minutes\", short_name=\"clock-minutes\",\n",
    "          path=os.path.join(outpath, \"One-Handed Clock with Minutes.mglyph\"),\n",
    "          author=\"Adam Herout\", email=\"herout@vut.cz\", version=\"1.0.0\")"
   ]
  },
  {
   "cell_type": "markdown",
   "metadata": {
    "id": "arAHfYa-NRu1"
   },
   "source": [
    "### <span style=\"background-color:Gold\">mglyph library TODO</span>:\n",
    "\n",
    "Docela cool by bylo, kdyby mg.interact uměl přijmout buď funkci s glyphem jak je to teď a nebo pole funkcí a pak by zobrazil tři glyphy vedle sebe, s jedním scrollbarem:\n",
    "\n",
    "```mg.interact([one_handed_clock, one_handed_clock_with_hticks, one_handed_clock_with_mticks])```\n",
    "\n",
    "Vůbec to není priorita, ale bylo by to cool.\n",
    "\n",
    "A propos, je zajímavé, že teď je asi někde uvnitř vytvořený jediný interact, který naráz hýbe všemi glyphy v sešitě. Je to svým způsobem divné a maličko creepy, ale trochu i cool.  Normálnější by se mi zdálo, kdyby když mám několik sliderů a ke každému glyph, kdyby každý měl svoji pozici...  A zdá se mi, že to může být časem výkonnostní problém -- tento tutoriál by měl být potenciálně docela dlouhý a postupně ukazovat další a další glyphy a způsoby vykreslování. A pak už to asi začne výkonnostně drhnout?\n",
    "\n",
    "### <span style=\"background-color:Gold\">mglyph library TODO</span>:\n",
    "\n",
    "`mg.export`\n",
    "* \"TypeError: export() missing 3 required positional arguments: 'author', 'email', and 'version'\" -- author, email a version bych dal nepovinné. Když to uživatel nevyplní, tak default bude None a do metadat se nic nenapíše. Glyph pak bude anonymní a bez verze...\n"
   ]
  },
  {
   "cell_type": "code",
   "execution_count": 41,
   "metadata": {},
   "outputs": [
    {
     "data": {
      "image/png": "[encoded data removed]"
     },
     "metadata": {},
     "output_type": "display_data"
    }
   ],
   "source": [
    "def hundred_dots(x: float, canvas: mg.Canvas) -> None:\n",
    "    base = 10\n",
    "    for row in range(base):\n",
    "        for col in range(base):\n",
    "            if (row*base + col) <= mg.lerp(x, 0, base**2):\n",
    "                canvas.circle(((col/(base-1))*canvas.xsize+canvas.xleft, (row/(base-1))*canvas.ysize+canvas.ytop),\n",
    "                    radius=canvas.ysize*0.021, color='midnightblue')\n",
    "            else:\n",
    "                canvas.circle(((col/(base-1))*canvas.xsize+canvas.xleft, (row/(base-1))*canvas.ysize+canvas.ytop),\n",
    "                    radius=canvas.ysize*0.009, color='lightslategray')\n",
    "\n",
    "mg.show(hundred_dots, x=[[5, 25, 50, 75, 95], [20, 21, 22, 23, 24]])"
   ]
  },
  {
   "cell_type": "code",
   "execution_count": 42,
   "metadata": {},
   "outputs": [
    {
     "data": {
      "image/png": "[encoded data removed]"
     },
     "metadata": {},
     "output_type": "display_data"
    }
   ],
   "source": [
    "from scipy.stats import qmc\n",
    "\n",
    "def halton_sequence(x: float, canvas: mg.Canvas) -> None:\n",
    "    sampler = qmc.Halton(d=2, scramble=False)\n",
    "    sampler.fast_forward(1)\n",
    "    n = int(mg.lerp(x, 0, 1000))\n",
    "    points = sampler.random(n=n)\n",
    "    for i, point in zip(range(n), points):\n",
    "        canvas.circle((point[0]*canvas.xsize+canvas.xleft, point[1]*canvas.ysize+canvas.ytop),\n",
    "                      radius=canvas.ysize*0.015, color='midnightblue')\n",
    "\n",
    "mg.show(halton_sequence)"
   ]
  }
 ],
 "metadata": {
  "colab": {
   "provenance": []
  },
  "kernelspec": {
   "display_name": ".venv",
   "language": "python",
   "name": "python3"
  },
  "language_info": {
   "codemirror_mode": {
    "name": "ipython",
    "version": 3
   },
   "file_extension": ".py",
   "mimetype": "text/x-python",
   "name": "python",
   "nbconvert_exporter": "python",
   "pygments_lexer": "ipython3",
   "version": "3.13.2"
  },
  "widgets": {
   "application/vnd.jupyter.widget-state+json": {
    "058f4d1ad37848c686502314a3accf11": {
     "model_module": "@jupyter-widgets/base",
     "model_module_version": "1.2.0",
     "model_name": "LayoutModel",
     "state": {
      "_model_module": "@jupyter-widgets/base",
      "_model_module_version": "1.2.0",
      "_model_name": "LayoutModel",
      "_view_count": null,
      "_view_module": "@jupyter-widgets/base",
      "_view_module_version": "1.2.0",
      "_view_name": "LayoutView",
      "align_content": null,
      "align_items": null,
      "align_self": null,
      "border": null,
      "bottom": null,
      "display": null,
      "flex": null,
      "flex_flow": null,
      "grid_area": null,
      "grid_auto_columns": null,
      "grid_auto_flow": null,
      "grid_auto_rows": null,
      "grid_column": null,
      "grid_gap": null,
      "grid_row": null,
      "grid_template_areas": null,
      "grid_template_columns": null,
      "grid_template_rows": null,
      "height": null,
      "justify_content": null,
      "justify_items": null,
      "left": null,
      "margin": null,
      "max_height": null,
      "max_width": null,
      "min_height": null,
      "min_width": null,
      "object_fit": null,
      "object_position": null,
      "order": null,
      "overflow": null,
      "overflow_x": null,
      "overflow_y": null,
      "padding": null,
      "right": null,
      "top": null,
      "visibility": null,
      "width": null
     }
    },
    "15d3331d34a549968c332b9349b81371": {
     "model_module": "@jupyter-widgets/base",
     "model_module_version": "1.2.0",
     "model_name": "LayoutModel",
     "state": {
      "_model_module": "@jupyter-widgets/base",
      "_model_module_version": "1.2.0",
      "_model_name": "LayoutModel",
      "_view_count": null,
      "_view_module": "@jupyter-widgets/base",
      "_view_module_version": "1.2.0",
      "_view_name": "LayoutView",
      "align_content": null,
      "align_items": null,
      "align_self": null,
      "border": null,
      "bottom": null,
      "display": null,
      "flex": null,
      "flex_flow": null,
      "grid_area": null,
      "grid_auto_columns": null,
      "grid_auto_flow": null,
      "grid_auto_rows": null,
      "grid_column": null,
      "grid_gap": null,
      "grid_row": null,
      "grid_template_areas": null,
      "grid_template_columns": null,
      "grid_template_rows": null,
      "height": null,
      "justify_content": null,
      "justify_items": null,
      "left": null,
      "margin": null,
      "max_height": null,
      "max_width": null,
      "min_height": null,
      "min_width": null,
      "object_fit": null,
      "object_position": null,
      "order": null,
      "overflow": null,
      "overflow_x": null,
      "overflow_y": null,
      "padding": null,
      "right": null,
      "top": null,
      "visibility": null,
      "width": null
     }
    },
    "17bb04e5b4a54d6186d81e09bc27a901": {
     "model_module": "@jupyter-widgets/controls",
     "model_module_version": "1.5.0",
     "model_name": "FloatSliderModel",
     "state": {
      "_dom_classes": [],
      "_model_module": "@jupyter-widgets/controls",
      "_model_module_version": "1.5.0",
      "_model_name": "FloatSliderModel",
      "_view_count": null,
      "_view_module": "@jupyter-widgets/controls",
      "_view_module_version": "1.5.0",
      "_view_name": "FloatSliderView",
      "continuous_update": true,
      "description": "x",
      "description_tooltip": null,
      "disabled": false,
      "layout": "IPY_MODEL_7f2f93d229a14182a31d3ddb2a367bf6",
      "max": 100,
      "min": 0,
      "orientation": "horizontal",
      "readout": true,
      "readout_format": ".2f",
      "step": 0.1,
      "style": "IPY_MODEL_4568b203b59740ba832a2ee4a9996b42",
      "value": 100
     }
    },
    "1934db81639a4512a1c224d054b15452": {
     "model_module": "@jupyter-widgets/controls",
     "model_module_version": "1.5.0",
     "model_name": "VBoxModel",
     "state": {
      "_dom_classes": [
       "widget-interact"
      ],
      "_model_module": "@jupyter-widgets/controls",
      "_model_module_version": "1.5.0",
      "_model_name": "VBoxModel",
      "_view_count": null,
      "_view_module": "@jupyter-widgets/controls",
      "_view_module_version": "1.5.0",
      "_view_name": "VBoxView",
      "box_style": "",
      "children": [
       "IPY_MODEL_17bb04e5b4a54d6186d81e09bc27a901",
       "IPY_MODEL_2af2ec63d7cb4bbcb03ba0eb3942f1d3"
      ],
      "layout": "IPY_MODEL_46f2c5413b8d4afc9840177dace5c78e"
     }
    },
    "1c07db07f8274585827011f7f44b405f": {
     "model_module": "@jupyter-widgets/base",
     "model_module_version": "1.2.0",
     "model_name": "LayoutModel",
     "state": {
      "_model_module": "@jupyter-widgets/base",
      "_model_module_version": "1.2.0",
      "_model_name": "LayoutModel",
      "_view_count": null,
      "_view_module": "@jupyter-widgets/base",
      "_view_module_version": "1.2.0",
      "_view_name": "LayoutView",
      "align_content": null,
      "align_items": null,
      "align_self": null,
      "border": null,
      "bottom": null,
      "display": null,
      "flex": null,
      "flex_flow": null,
      "grid_area": null,
      "grid_auto_columns": null,
      "grid_auto_flow": null,
      "grid_auto_rows": null,
      "grid_column": null,
      "grid_gap": null,
      "grid_row": null,
      "grid_template_areas": null,
      "grid_template_columns": null,
      "grid_template_rows": null,
      "height": null,
      "justify_content": null,
      "justify_items": null,
      "left": null,
      "margin": null,
      "max_height": null,
      "max_width": null,
      "min_height": null,
      "min_width": null,
      "object_fit": null,
      "object_position": null,
      "order": null,
      "overflow": null,
      "overflow_x": null,
      "overflow_y": null,
      "padding": null,
      "right": null,
      "top": null,
      "visibility": null,
      "width": null
     }
    },
    "20b9d9b908df480ab2e2ff8b96f45417": {
     "model_module": "@jupyter-widgets/base",
     "model_module_version": "1.2.0",
     "model_name": "LayoutModel",
     "state": {
      "_model_module": "@jupyter-widgets/base",
      "_model_module_version": "1.2.0",
      "_model_name": "LayoutModel",
      "_view_count": null,
      "_view_module": "@jupyter-widgets/base",
      "_view_module_version": "1.2.0",
      "_view_name": "LayoutView",
      "align_content": null,
      "align_items": null,
      "align_self": null,
      "border": null,
      "bottom": null,
      "display": null,
      "flex": null,
      "flex_flow": null,
      "grid_area": null,
      "grid_auto_columns": null,
      "grid_auto_flow": null,
      "grid_auto_rows": null,
      "grid_column": null,
      "grid_gap": null,
      "grid_row": null,
      "grid_template_areas": null,
      "grid_template_columns": null,
      "grid_template_rows": null,
      "height": null,
      "justify_content": null,
      "justify_items": null,
      "left": null,
      "margin": null,
      "max_height": null,
      "max_width": null,
      "min_height": null,
      "min_width": null,
      "object_fit": null,
      "object_position": null,
      "order": null,
      "overflow": null,
      "overflow_x": null,
      "overflow_y": null,
      "padding": null,
      "right": null,
      "top": null,
      "visibility": null,
      "width": null
     }
    },
    "24c1650d18784506a88961a0d71f782d": {
     "model_module": "@jupyter-widgets/base",
     "model_module_version": "1.2.0",
     "model_name": "LayoutModel",
     "state": {
      "_model_module": "@jupyter-widgets/base",
      "_model_module_version": "1.2.0",
      "_model_name": "LayoutModel",
      "_view_count": null,
      "_view_module": "@jupyter-widgets/base",
      "_view_module_version": "1.2.0",
      "_view_name": "LayoutView",
      "align_content": null,
      "align_items": null,
      "align_self": null,
      "border": null,
      "bottom": null,
      "display": null,
      "flex": null,
      "flex_flow": null,
      "grid_area": null,
      "grid_auto_columns": null,
      "grid_auto_flow": null,
      "grid_auto_rows": null,
      "grid_column": null,
      "grid_gap": null,
      "grid_row": null,
      "grid_template_areas": null,
      "grid_template_columns": null,
      "grid_template_rows": null,
      "height": null,
      "justify_content": null,
      "justify_items": null,
      "left": null,
      "margin": null,
      "max_height": null,
      "max_width": null,
      "min_height": null,
      "min_width": null,
      "object_fit": null,
      "object_position": null,
      "order": null,
      "overflow": null,
      "overflow_x": null,
      "overflow_y": null,
      "padding": null,
      "right": null,
      "top": null,
      "visibility": null,
      "width": null
     }
    },
    "2af2ec63d7cb4bbcb03ba0eb3942f1d3": {
     "model_module": "@jupyter-widgets/output",
     "model_module_version": "1.0.0",
     "model_name": "OutputModel",
     "state": {
      "_dom_classes": [],
      "_model_module": "@jupyter-widgets/output",
      "_model_module_version": "1.0.0",
      "_model_name": "OutputModel",
      "_view_count": null,
      "_view_module": "@jupyter-widgets/output",
      "_view_module_version": "1.0.0",
      "_view_name": "OutputView",
      "layout": "IPY_MODEL_7e3cbd880a144c498137c7070e624449",
      "msg_id": "",
      "outputs": [
       {
        "data": {
         "image/jpeg": "/9j/4AAQSkZJRgABAQAAAQABAAD/2wBDAAgGBgcGBQgHBwcJCQgKDBQNDAsLDBkSEw8UHRofHh0aHBwgJC4nICIsIxwcKDcpLDAxNDQ0Hyc5PTgyPC4zNDL/2wBDAQkJCQwLDBgNDRgyIRwhMjIyMjIyMjIyMjIyMjIyMjIyMjIyMjIyMjIyMjIyMjIyMjIyMjIyMjIyMjIyMjIyMjL/wAARCABgAGADASIAAhEBAxEB/8QAHwAAAQUBAQEBAQEAAAAAAAAAAAECAwQFBgcICQoL/8QAtRAAAgEDAwIEAwUFBAQAAAF9AQIDAAQRBRIhMUEGE1FhByJxFDKBkaEII0KxwRVS0fAkM2JyggkKFhcYGRolJicoKSo0NTY3ODk6Q0RFRkdISUpTVFVWV1hZWmNkZWZnaGlqc3R1dnd4eXqDhIWGh4iJipKTlJWWl5iZmqKjpKWmp6ipqrKztLW2t7i5usLDxMXGx8jJytLT1NXW19jZ2uHi4+Tl5ufo6erx8vP09fb3+Pn6/8QAHwEAAwEBAQEBAQEBAQAAAAAAAAECAwQFBgcICQoL/8QAtREAAgECBAQDBAcFBAQAAQJ3AAECAxEEBSExBhJBUQdhcRMiMoEIFEKRobHBCSMzUvAVYnLRChYkNOEl8RcYGRomJygpKjU2Nzg5OkNERUZHSElKU1RVVldYWVpjZGVmZ2hpanN0dXZ3eHl6goOEhYaHiImKkpOUlZaXmJmaoqOkpaanqKmqsrO0tba3uLm6wsPExcbHyMnK0tPU1dbX2Nna4uPk5ebn6Onq8vP09fb3+Pn6/9oADAMBAAIRAxEAPwD3+iiigAooooA5nxwzXOk2+iRsRLrF0lmcHkRH5pT/AN+1f8xXSqqogVQFVRgAdAK5lP8Aia/EWV+sGi2YjH/Xefk/lGq/99109dVf3KcKfld+r/4FiVu2Iyq6FWAZWGCD0IrmvA7NbaTcaJISZdHunsxnqYh80R/79sn5Gumrl3/4lXxFifpBrVmYz/13g5H5xs3/AHxRQ9+nOn5XXqv+BcHumdRRRRXKUFFFFABRXM/8IDoH/PPUf/Brdf8Axyj/AIQHQP8AnnqP/g1uv/jldPJhv55f+Ar/AOSJ946amSypBC80rBI41LMx6ADkmuc/4QHQP+eeo/8Ag1uv/jlNk+H3hyWNo5IL943BVlbVLohgeoI8ymoYW+s5f+Ar/wCSD3h/geJ38PnVJ1K3GrTvfuD1Cuf3Y/CMIPwrpaZFEkEKRRKFjRQqqOwHAFPrKvU9rUlPv/VvkNKysFc144idPD41SBS1xpM6X6AdSqH94PxjLj8a6WmSxJPC8Uqho3UqynuDwRRQqeyqRn2/q3zBq6sEUqTwpNEweORQysOhB5Bp9cvH8PvDkUaxxwX6RoAqquqXQCgdAB5lO/4QHQP+eeo/+DW6/wDjlauGFvpOX/gK/wDkhe8dNRXM/wDCA6B/zz1H/wAGt1/8co/4QHQP+eeo/wDg1uv/AI5S5MN/PL/wFf8AyQe8dNRXI51fwd1+0axoK9+XurNf5yoP++gP71dLYahaapZRXtjcR3FtKNySRtkH/PpU1aDgueLvF9f0fZ+X3XWo0yzRRRWAwooooAKKKKACiiigAoqvfX9ppllLeX1xHb20Qy8kjYAFcxnVvGQ+X7RpGgt/Fyl1eL7d4kP/AH0R/drelQc1zt2iuv6Lu/L9NRN2Ovrmb7w3cWV9Lq3hqaO0vJDuuLSTP2a7P+0B9x/9tefUGumoqaVaVJ3j13XR+oNXMXRfElvq0sllNDJY6rAMz2M+N6j+8p6Onow4+nStquVnjj1X4lWmEUrotk0rOByJZztVc/7iOcf7Qrqq0xMIRcXFWur27X/4FmvXruCYUUUVzDCiiigArF1vxJb6RLHZxQyX2qzjMFjb4Mj/AO0x6Inqx4+vStquVgjj0r4lXfyKF1qyWVXI5MsB2sufdHQ4/wBk104aEJOTkr2V7d7f8C7fp03E2SWPhu4vr2LVfE0sd3dxtvt7OPP2a0P+yD99/wDbb8AK6aiis6taVV3l02XRegJWCkJABJOAOpNLXPeNrqWDwxPa2rbbvUHSwtz3DynZn8AWb/gNKjTdWpGC6sG7K5D4JBu9PvddcHfq929yhPUQj5Ih/wB8Ip/4Ea6eobO1hsbKC0t12wwRrFGvoqjAH5CpqqvUVSo5rbp6dF8kCVkFFFc9rHiU294dJ0e3Go60Vz5KtiO3B6PM38K+33j2FTSpTqy5Yr+vPsgbsdDRXPaR4lM94uk6zb/2drIXIhLZjuAOrwv/ABD2+8O4710NFWlOlLlkv+D6dwTuFcx42BtNPstdQfPpF2ly5HUwn5JR/wB8Ox/4CK6eoby1ivrKe0uF3QzxtFIvqrDBH5GqoVFTqqb26+nVfNA1dEoIIBBBB6EUtc94JupZ/DEFtdNuu9Pd7G4PcvEdufxAVv8AgVdDU1qbpVJQfRgndXCuXvf+Jr8QNPs+sGk2zXsvcebJmOIH3CiU/lXUVzHgv/TodS19uTqt47xH/phH+7i/MKW/4FW2H9yE6vZWXrLT8rifY6emTTRW8LzTyJFFGpZ3dgFUDqST0FZ2ta/Y6HFGbhnkuJjtt7WBd807eiL39z0HcisiHQL/AMQzpe+KQi26sHg0eNt0SHsZT/y1b2+6PQ9amnQvH2lR2j+L9F19dl3G30Qw6lqni5jFojyafoxOJNUZcSTjuIFPQf8ATQ/gD1roNJ0ew0OyFpYQCKPJZ2JLNIx6szHlmPqaugAAADAHQCloq1+aPJBWj2/Vvq/w7JAl1ZR1bR7DW7I2moW4ljzuU5wyMOjKw5Vh6jmufGpap4RIi1p5dR0YcJqipmWAek6jqP8ApoB9QOtddQQCCCMg0Uq/LHkmrx7fqn0f4d0wa6oZDNFcwJPBKksUihkdGDKwPQgjqKfXKT6BfeH55L7wsEMLsXn0iRtsMh7tEf8Alk/t909wOta+i6/Za5HJ9nLxXMB23FpOuyaBvRl/keh7E0VKFo+0pu8fxXqv12f4An0Zl2X/ABKviBqFp0g1a2W9i7DzY8RyAe5UxH866iuY8af6DDpuvrwdKvEeU/8ATCT93L+QYN/wCunqsR78IVe6s/WOn5WEux//2Q==\n",
         "image/png": "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\n",
         "text/plain": "<PIL.PngImagePlugin.PngImageFile image mode=RGB size=96x96>"
        },
        "metadata": {},
        "output_type": "display_data"
       }
      ]
     }
    },
    "2b3dd4083f4443da861d3741584a0b86": {
     "model_module": "@jupyter-widgets/base",
     "model_module_version": "1.2.0",
     "model_name": "LayoutModel",
     "state": {
      "_model_module": "@jupyter-widgets/base",
      "_model_module_version": "1.2.0",
      "_model_name": "LayoutModel",
      "_view_count": null,
      "_view_module": "@jupyter-widgets/base",
      "_view_module_version": "1.2.0",
      "_view_name": "LayoutView",
      "align_content": null,
      "align_items": null,
      "align_self": null,
      "border": null,
      "bottom": null,
      "display": null,
      "flex": null,
      "flex_flow": null,
      "grid_area": null,
      "grid_auto_columns": null,
      "grid_auto_flow": null,
      "grid_auto_rows": null,
      "grid_column": null,
      "grid_gap": null,
      "grid_row": null,
      "grid_template_areas": null,
      "grid_template_columns": null,
      "grid_template_rows": null,
      "height": null,
      "justify_content": null,
      "justify_items": null,
      "left": null,
      "margin": null,
      "max_height": null,
      "max_width": null,
      "min_height": null,
      "min_width": null,
      "object_fit": null,
      "object_position": null,
      "order": null,
      "overflow": null,
      "overflow_x": null,
      "overflow_y": null,
      "padding": null,
      "right": null,
      "top": null,
      "visibility": null,
      "width": null
     }
    },
    "3ddaea2e0f5f4caa84a7798fe4d401ed": {
     "model_module": "@jupyter-widgets/controls",
     "model_module_version": "1.5.0",
     "model_name": "VBoxModel",
     "state": {
      "_dom_classes": [
       "widget-interact"
      ],
      "_model_module": "@jupyter-widgets/controls",
      "_model_module_version": "1.5.0",
      "_model_name": "VBoxModel",
      "_view_count": null,
      "_view_module": "@jupyter-widgets/controls",
      "_view_module_version": "1.5.0",
      "_view_name": "VBoxView",
      "box_style": "",
      "children": [
       "IPY_MODEL_17bb04e5b4a54d6186d81e09bc27a901",
       "IPY_MODEL_7b62fc4dee034a99a1bfb3159dfd0d21"
      ],
      "layout": "IPY_MODEL_058f4d1ad37848c686502314a3accf11"
     }
    },
    "3e57f686d88c401e86850628e7a9a121": {
     "model_module": "@jupyter-widgets/base",
     "model_module_version": "1.2.0",
     "model_name": "LayoutModel",
     "state": {
      "_model_module": "@jupyter-widgets/base",
      "_model_module_version": "1.2.0",
      "_model_name": "LayoutModel",
      "_view_count": null,
      "_view_module": "@jupyter-widgets/base",
      "_view_module_version": "1.2.0",
      "_view_name": "LayoutView",
      "align_content": null,
      "align_items": null,
      "align_self": null,
      "border": null,
      "bottom": null,
      "display": null,
      "flex": null,
      "flex_flow": null,
      "grid_area": null,
      "grid_auto_columns": null,
      "grid_auto_flow": null,
      "grid_auto_rows": null,
      "grid_column": null,
      "grid_gap": null,
      "grid_row": null,
      "grid_template_areas": null,
      "grid_template_columns": null,
      "grid_template_rows": null,
      "height": null,
      "justify_content": null,
      "justify_items": null,
      "left": null,
      "margin": null,
      "max_height": null,
      "max_width": null,
      "min_height": null,
      "min_width": null,
      "object_fit": null,
      "object_position": null,
      "order": null,
      "overflow": null,
      "overflow_x": null,
      "overflow_y": null,
      "padding": null,
      "right": null,
      "top": null,
      "visibility": null,
      "width": null
     }
    },
    "4161a0b5f1734236a773bab479d5cfac": {
     "model_module": "@jupyter-widgets/base",
     "model_module_version": "1.2.0",
     "model_name": "LayoutModel",
     "state": {
      "_model_module": "@jupyter-widgets/base",
      "_model_module_version": "1.2.0",
      "_model_name": "LayoutModel",
      "_view_count": null,
      "_view_module": "@jupyter-widgets/base",
      "_view_module_version": "1.2.0",
      "_view_name": "LayoutView",
      "align_content": null,
      "align_items": null,
      "align_self": null,
      "border": null,
      "bottom": null,
      "display": null,
      "flex": null,
      "flex_flow": null,
      "grid_area": null,
      "grid_auto_columns": null,
      "grid_auto_flow": null,
      "grid_auto_rows": null,
      "grid_column": null,
      "grid_gap": null,
      "grid_row": null,
      "grid_template_areas": null,
      "grid_template_columns": null,
      "grid_template_rows": null,
      "height": null,
      "justify_content": null,
      "justify_items": null,
      "left": null,
      "margin": null,
      "max_height": null,
      "max_width": null,
      "min_height": null,
      "min_width": null,
      "object_fit": null,
      "object_position": null,
      "order": null,
      "overflow": null,
      "overflow_x": null,
      "overflow_y": null,
      "padding": null,
      "right": null,
      "top": null,
      "visibility": null,
      "width": null
     }
    },
    "4568b203b59740ba832a2ee4a9996b42": {
     "model_module": "@jupyter-widgets/controls",
     "model_module_version": "1.5.0",
     "model_name": "SliderStyleModel",
     "state": {
      "_model_module": "@jupyter-widgets/controls",
      "_model_module_version": "1.5.0",
      "_model_name": "SliderStyleModel",
      "_view_count": null,
      "_view_module": "@jupyter-widgets/base",
      "_view_module_version": "1.2.0",
      "_view_name": "StyleView",
      "description_width": "",
      "handle_color": null
     }
    },
    "460160983c4442c3943cf88817c698c5": {
     "model_module": "@jupyter-widgets/output",
     "model_module_version": "1.0.0",
     "model_name": "OutputModel",
     "state": {
      "_dom_classes": [],
      "_model_module": "@jupyter-widgets/output",
      "_model_module_version": "1.0.0",
      "_model_name": "OutputModel",
      "_view_count": null,
      "_view_module": "@jupyter-widgets/output",
      "_view_module_version": "1.0.0",
      "_view_name": "OutputView",
      "layout": "IPY_MODEL_24c1650d18784506a88961a0d71f782d",
      "msg_id": "",
      "outputs": [
       {
        "data": {
         "image/jpeg": "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\n",
         "image/png": "iVBORw0KGgoAAAANSUhEUgAAAGAAAABgCAIAAABt+uBvAAABjklEQVR4Ae3b0WkCQQBF0dlEO0gJktYEu0gZaU0swQ4UzKYAuUImQcIZ/LuyLseHP7LL7XYbzn2Bl/tJ+RYAFDsABCgEIlsQoBCIbEGAQiCyBQEKgcgWBCgEIlsQoBCIbEGAQiCyBQEKgcgWBCgEIlsQoBCIvIn+WD6fx+fneH9/7N2//67jcez34+1txiet/4v9/Hx8rH+uPddrvaUpZ86Cdrux2YzLZcY3NuMa2+1Yb2nK8SMdjIAAhUBkCwIUApEtCFAIRLYgQCEQ2YIAhUBkCwIUApEtCFAIRLYgQCEQ2YIAhUBkCwIUApEtCFAIRLYgQCEQ2YIAhUBkCwIUApEtCFAIRLYgQCEQ2YIAhUBkCwIUApEtCFAIRLYgQCEQ2YIAhUBkCwIUApHnPO1zOo3rdSxLfNhf5vWWppw5QIfDeH19ugfqpgAt61NnUy70Xy/iRzq+WUCAQiCyBQEKgcgWBCgEIlsQoBCIbEGAQiCyBQEKgcgWBCgEIlsQoBCIbEGAQiCyBQEKgcgWFEBfYbnVsWuBorMAAAAASUVORK5CYII=\n",
         "text/plain": "<PIL.PngImagePlugin.PngImageFile image mode=RGB size=96x96>"
        },
        "metadata": {},
        "output_type": "display_data"
       }
      ]
     }
    },
    "46f2c5413b8d4afc9840177dace5c78e": {
     "model_module": "@jupyter-widgets/base",
     "model_module_version": "1.2.0",
     "model_name": "LayoutModel",
     "state": {
      "_model_module": "@jupyter-widgets/base",
      "_model_module_version": "1.2.0",
      "_model_name": "LayoutModel",
      "_view_count": null,
      "_view_module": "@jupyter-widgets/base",
      "_view_module_version": "1.2.0",
      "_view_name": "LayoutView",
      "align_content": null,
      "align_items": null,
      "align_self": null,
      "border": null,
      "bottom": null,
      "display": null,
      "flex": null,
      "flex_flow": null,
      "grid_area": null,
      "grid_auto_columns": null,
      "grid_auto_flow": null,
      "grid_auto_rows": null,
      "grid_column": null,
      "grid_gap": null,
      "grid_row": null,
      "grid_template_areas": null,
      "grid_template_columns": null,
      "grid_template_rows": null,
      "height": null,
      "justify_content": null,
      "justify_items": null,
      "left": null,
      "margin": null,
      "max_height": null,
      "max_width": null,
      "min_height": null,
      "min_width": null,
      "object_fit": null,
      "object_position": null,
      "order": null,
      "overflow": null,
      "overflow_x": null,
      "overflow_y": null,
      "padding": null,
      "right": null,
      "top": null,
      "visibility": null,
      "width": null
     }
    },
    "4911cad4d4ec40c482b0e1585b934707": {
     "model_module": "@jupyter-widgets/base",
     "model_module_version": "1.2.0",
     "model_name": "LayoutModel",
     "state": {
      "_model_module": "@jupyter-widgets/base",
      "_model_module_version": "1.2.0",
      "_model_name": "LayoutModel",
      "_view_count": null,
      "_view_module": "@jupyter-widgets/base",
      "_view_module_version": "1.2.0",
      "_view_name": "LayoutView",
      "align_content": null,
      "align_items": null,
      "align_self": null,
      "border": null,
      "bottom": null,
      "display": null,
      "flex": null,
      "flex_flow": null,
      "grid_area": null,
      "grid_auto_columns": null,
      "grid_auto_flow": null,
      "grid_auto_rows": null,
      "grid_column": null,
      "grid_gap": null,
      "grid_row": null,
      "grid_template_areas": null,
      "grid_template_columns": null,
      "grid_template_rows": null,
      "height": null,
      "justify_content": null,
      "justify_items": null,
      "left": null,
      "margin": null,
      "max_height": null,
      "max_width": null,
      "min_height": null,
      "min_width": null,
      "object_fit": null,
      "object_position": null,
      "order": null,
      "overflow": null,
      "overflow_x": null,
      "overflow_y": null,
      "padding": null,
      "right": null,
      "top": null,
      "visibility": null,
      "width": null
     }
    },
    "49bf5a19a2074cb499eae62c6660f0c6": {
     "model_module": "@jupyter-widgets/controls",
     "model_module_version": "1.5.0",
     "model_name": "SliderStyleModel",
     "state": {
      "_model_module": "@jupyter-widgets/controls",
      "_model_module_version": "1.5.0",
      "_model_name": "SliderStyleModel",
      "_view_count": null,
      "_view_module": "@jupyter-widgets/base",
      "_view_module_version": "1.2.0",
      "_view_name": "StyleView",
      "description_width": "",
      "handle_color": null
     }
    },
    "4df2a7be7ae648eebd6edd3b1ccb3460": {
     "model_module": "@jupyter-widgets/controls",
     "model_module_version": "1.5.0",
     "model_name": "VBoxModel",
     "state": {
      "_dom_classes": [
       "widget-interact"
      ],
      "_model_module": "@jupyter-widgets/controls",
      "_model_module_version": "1.5.0",
      "_model_name": "VBoxModel",
      "_view_count": null,
      "_view_module": "@jupyter-widgets/controls",
      "_view_module_version": "1.5.0",
      "_view_name": "VBoxView",
      "box_style": "",
      "children": [
       "IPY_MODEL_b852fb2b1b0f4a678aa82a2a7fe15f37",
       "IPY_MODEL_c6e667da31054f2795dbcb42ee3fc69d"
      ],
      "layout": "IPY_MODEL_a0885901862644d3b17f9079e1d258ba"
     }
    },
    "4edaef3a345543b4acdea15771bc11fa": {
     "model_module": "@jupyter-widgets/base",
     "model_module_version": "1.2.0",
     "model_name": "LayoutModel",
     "state": {
      "_model_module": "@jupyter-widgets/base",
      "_model_module_version": "1.2.0",
      "_model_name": "LayoutModel",
      "_view_count": null,
      "_view_module": "@jupyter-widgets/base",
      "_view_module_version": "1.2.0",
      "_view_name": "LayoutView",
      "align_content": null,
      "align_items": null,
      "align_self": null,
      "border": null,
      "bottom": null,
      "display": null,
      "flex": null,
      "flex_flow": null,
      "grid_area": null,
      "grid_auto_columns": null,
      "grid_auto_flow": null,
      "grid_auto_rows": null,
      "grid_column": null,
      "grid_gap": null,
      "grid_row": null,
      "grid_template_areas": null,
      "grid_template_columns": null,
      "grid_template_rows": null,
      "height": null,
      "justify_content": null,
      "justify_items": null,
      "left": null,
      "margin": null,
      "max_height": null,
      "max_width": null,
      "min_height": null,
      "min_width": null,
      "object_fit": null,
      "object_position": null,
      "order": null,
      "overflow": null,
      "overflow_x": null,
      "overflow_y": null,
      "padding": null,
      "right": null,
      "top": null,
      "visibility": null,
      "width": null
     }
    },
    "4fdcb9a6d8c94f60b8a99a3583dd946f": {
     "model_module": "@jupyter-widgets/base",
     "model_module_version": "1.2.0",
     "model_name": "LayoutModel",
     "state": {
      "_model_module": "@jupyter-widgets/base",
      "_model_module_version": "1.2.0",
      "_model_name": "LayoutModel",
      "_view_count": null,
      "_view_module": "@jupyter-widgets/base",
      "_view_module_version": "1.2.0",
      "_view_name": "LayoutView",
      "align_content": null,
      "align_items": null,
      "align_self": null,
      "border": null,
      "bottom": null,
      "display": null,
      "flex": null,
      "flex_flow": null,
      "grid_area": null,
      "grid_auto_columns": null,
      "grid_auto_flow": null,
      "grid_auto_rows": null,
      "grid_column": null,
      "grid_gap": null,
      "grid_row": null,
      "grid_template_areas": null,
      "grid_template_columns": null,
      "grid_template_rows": null,
      "height": null,
      "justify_content": null,
      "justify_items": null,
      "left": null,
      "margin": null,
      "max_height": null,
      "max_width": null,
      "min_height": null,
      "min_width": null,
      "object_fit": null,
      "object_position": null,
      "order": null,
      "overflow": null,
      "overflow_x": null,
      "overflow_y": null,
      "padding": null,
      "right": null,
      "top": null,
      "visibility": null,
      "width": null
     }
    },
    "53789777391c47228cca6bd970471c88": {
     "model_module": "@jupyter-widgets/base",
     "model_module_version": "1.2.0",
     "model_name": "LayoutModel",
     "state": {
      "_model_module": "@jupyter-widgets/base",
      "_model_module_version": "1.2.0",
      "_model_name": "LayoutModel",
      "_view_count": null,
      "_view_module": "@jupyter-widgets/base",
      "_view_module_version": "1.2.0",
      "_view_name": "LayoutView",
      "align_content": null,
      "align_items": null,
      "align_self": null,
      "border": null,
      "bottom": null,
      "display": null,
      "flex": null,
      "flex_flow": null,
      "grid_area": null,
      "grid_auto_columns": null,
      "grid_auto_flow": null,
      "grid_auto_rows": null,
      "grid_column": null,
      "grid_gap": null,
      "grid_row": null,
      "grid_template_areas": null,
      "grid_template_columns": null,
      "grid_template_rows": null,
      "height": null,
      "justify_content": null,
      "justify_items": null,
      "left": null,
      "margin": null,
      "max_height": null,
      "max_width": null,
      "min_height": null,
      "min_width": null,
      "object_fit": null,
      "object_position": null,
      "order": null,
      "overflow": null,
      "overflow_x": null,
      "overflow_y": null,
      "padding": null,
      "right": null,
      "top": null,
      "visibility": null,
      "width": null
     }
    },
    "555951d97bf34a8b83ed48740567f075": {
     "model_module": "@jupyter-widgets/base",
     "model_module_version": "1.2.0",
     "model_name": "LayoutModel",
     "state": {
      "_model_module": "@jupyter-widgets/base",
      "_model_module_version": "1.2.0",
      "_model_name": "LayoutModel",
      "_view_count": null,
      "_view_module": "@jupyter-widgets/base",
      "_view_module_version": "1.2.0",
      "_view_name": "LayoutView",
      "align_content": null,
      "align_items": null,
      "align_self": null,
      "border": null,
      "bottom": null,
      "display": null,
      "flex": null,
      "flex_flow": null,
      "grid_area": null,
      "grid_auto_columns": null,
      "grid_auto_flow": null,
      "grid_auto_rows": null,
      "grid_column": null,
      "grid_gap": null,
      "grid_row": null,
      "grid_template_areas": null,
      "grid_template_columns": null,
      "grid_template_rows": null,
      "height": null,
      "justify_content": null,
      "justify_items": null,
      "left": null,
      "margin": null,
      "max_height": null,
      "max_width": null,
      "min_height": null,
      "min_width": null,
      "object_fit": null,
      "object_position": null,
      "order": null,
      "overflow": null,
      "overflow_x": null,
      "overflow_y": null,
      "padding": null,
      "right": null,
      "top": null,
      "visibility": null,
      "width": null
     }
    },
    "5632967ace5148f6af0b728a8a3904cb": {
     "model_module": "@jupyter-widgets/base",
     "model_module_version": "1.2.0",
     "model_name": "LayoutModel",
     "state": {
      "_model_module": "@jupyter-widgets/base",
      "_model_module_version": "1.2.0",
      "_model_name": "LayoutModel",
      "_view_count": null,
      "_view_module": "@jupyter-widgets/base",
      "_view_module_version": "1.2.0",
      "_view_name": "LayoutView",
      "align_content": null,
      "align_items": null,
      "align_self": null,
      "border": null,
      "bottom": null,
      "display": null,
      "flex": null,
      "flex_flow": null,
      "grid_area": null,
      "grid_auto_columns": null,
      "grid_auto_flow": null,
      "grid_auto_rows": null,
      "grid_column": null,
      "grid_gap": null,
      "grid_row": null,
      "grid_template_areas": null,
      "grid_template_columns": null,
      "grid_template_rows": null,
      "height": null,
      "justify_content": null,
      "justify_items": null,
      "left": null,
      "margin": null,
      "max_height": null,
      "max_width": null,
      "min_height": null,
      "min_width": null,
      "object_fit": null,
      "object_position": null,
      "order": null,
      "overflow": null,
      "overflow_x": null,
      "overflow_y": null,
      "padding": null,
      "right": null,
      "top": null,
      "visibility": null,
      "width": null
     }
    },
    "5c2eec15d67d4cad8db324d00d1c8845": {
     "model_module": "@jupyter-widgets/output",
     "model_module_version": "1.0.0",
     "model_name": "OutputModel",
     "state": {
      "_dom_classes": [],
      "_model_module": "@jupyter-widgets/output",
      "_model_module_version": "1.0.0",
      "_model_name": "OutputModel",
      "_view_count": null,
      "_view_module": "@jupyter-widgets/output",
      "_view_module_version": "1.0.0",
      "_view_name": "OutputView",
      "layout": "IPY_MODEL_2b3dd4083f4443da861d3741584a0b86",
      "msg_id": "",
      "outputs": [
       {
        "data": {
         "image/jpeg": "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\n",
         "image/png": "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\n",
         "text/plain": "<PIL.PngImagePlugin.PngImageFile image mode=RGB size=96x96>"
        },
        "metadata": {},
        "output_type": "display_data"
       }
      ]
     }
    },
    "5d9727e544714294b9f7822c586876a7": {
     "model_module": "@jupyter-widgets/output",
     "model_module_version": "1.0.0",
     "model_name": "OutputModel",
     "state": {
      "_dom_classes": [],
      "_model_module": "@jupyter-widgets/output",
      "_model_module_version": "1.0.0",
      "_model_name": "OutputModel",
      "_view_count": null,
      "_view_module": "@jupyter-widgets/output",
      "_view_module_version": "1.0.0",
      "_view_name": "OutputView",
      "layout": "IPY_MODEL_4edaef3a345543b4acdea15771bc11fa",
      "msg_id": "",
      "outputs": [
       {
        "data": {
         "image/jpeg": "/9j/4AAQSkZJRgABAQAAAQABAAD/2wBDAAgGBgcGBQgHBwcJCQgKDBQNDAsLDBkSEw8UHRofHh0aHBwgJC4nICIsIxwcKDcpLDAxNDQ0Hyc5PTgyPC4zNDL/2wBDAQkJCQwLDBgNDRgyIRwhMjIyMjIyMjIyMjIyMjIyMjIyMjIyMjIyMjIyMjIyMjIyMjIyMjIyMjIyMjIyMjIyMjL/wAARCABgAGADASIAAhEBAxEB/8QAHwAAAQUBAQEBAQEAAAAAAAAAAAECAwQFBgcICQoL/8QAtRAAAgEDAwIEAwUFBAQAAAF9AQIDAAQRBRIhMUEGE1FhByJxFDKBkaEII0KxwRVS0fAkM2JyggkKFhcYGRolJicoKSo0NTY3ODk6Q0RFRkdISUpTVFVWV1hZWmNkZWZnaGlqc3R1dnd4eXqDhIWGh4iJipKTlJWWl5iZmqKjpKWmp6ipqrKztLW2t7i5usLDxMXGx8jJytLT1NXW19jZ2uHi4+Tl5ufo6erx8vP09fb3+Pn6/8QAHwEAAwEBAQEBAQEBAQAAAAAAAAECAwQFBgcICQoL/8QAtREAAgECBAQDBAcFBAQAAQJ3AAECAxEEBSExBhJBUQdhcRMiMoEIFEKRobHBCSMzUvAVYnLRChYkNOEl8RcYGRomJygpKjU2Nzg5OkNERUZHSElKU1RVVldYWVpjZGVmZ2hpanN0dXZ3eHl6goOEhYaHiImKkpOUlZaXmJmaoqOkpaanqKmqsrO0tba3uLm6wsPExcbHyMnK0tPU1dbX2Nna4uPk5ebn6Onq8vP09fb3+Pn6/9oADAMBAAIRAxEAPwD3+iiigAooooAKKKKACiiigAooooAKKKKACiiigAooooAKKKKACiiigAooooAKKKKACiiigAorG1zxXoXhtoU1jUobRpgTGr5JYDqcAGsn/haXgn/oYLf/AL4f/wCJrpp4PE1I80Kcmu6TYnJLdnX0VyH/AAtLwT/0MFv/AN8P/wDE0f8AC0vBP/QwW/8A3w//AMTV/wBn4z/n1L/wF/5C549zr6K5D/haXgn/AKGC3/74f/4mj/haXgn/AKGC3/74f/4mj+z8Z/z6l/4C/wDIOePc6+iuQ/4Wl4J/6GC3/wC+H/8Aia1tD8V6F4kaZNH1KG7aEAyKmQVB6HBAqKmDxNOPNOnJLu00CknszZooormKCiiigDG1zwpoXiRoX1jTYbtoQRGz5BUHqMgisn/hVvgn/oX7f/vt/wD4quvorpp4zE048sKkkuybQnFPdHIf8Kt8E/8AQv2//fb/APxVH/CrfBP/AEL9v/32/wD8VXX0Vf8AaGM/5+y/8Cf+YuSPY5D/AIVb4J/6F+3/AO+3/wDiqP8AhVvgn/oX7f8A77f/AOKrr6KP7Qxn/P2X/gT/AMw5I9jkP+FW+Cf+hft/++3/APiq1tD8KaF4baZ9H02G0aYASMmSWA6DJJrZoqKmMxNSPLOpJrs22CilsgooormKCiiigAooooAKKKKACiiigAooooAKKKKACiiigAooooAKKKKACiiigAooooAKKKKAP//Z\n",
         "image/png": "iVBORw0KGgoAAAANSUhEUgAAAGAAAABgCAIAAABt+uBvAAABZUlEQVR4Ae3bsYkCQQCG0fEQLMXurGBDIzu0DTOjvbGA5YOJTu4NZp/C8vwn3NO+78M5Fvg5TspHAFDsABCgEIhsQYBCILIFAQqByBYEKAQiWxCgEIhsQYBCILIFAQqByBYEKAQiWxCgEIhsQYBCILIFAQqByBYEKAQiWxCgEIhsQYBCILIFAQqByBYEKAQiWxCgEIhsQYBCILIFAQqByBYEKAQiWxCgEIhsQQF0jn6c3+9xv4/n8/gbf6Ncr2PbxuWy+jTzdai183jM96i+4zMfdfm4YrGs9St2u43X6zuu2HzU5XOa21v+8X/4oSsW/zIgQCEQ2YIAhUBkCwIUApEtCFAIRLYgQCEQ2YIAhUBkCwIUApEtCFAIRLYgQCEQ2YIAhUBkCwIUApEtCFAIRLYgQCEQ2YIAhUBkCwIUApEtCFAIRLYgQCEQ2YIAhUBkCwIUApEtCFAIRLYgQCEQ2YIAhUDkX/iGv9PBsFy2AAAAAElFTkSuQmCC\n",
         "text/plain": "<PIL.PngImagePlugin.PngImageFile image mode=RGB size=96x96>"
        },
        "metadata": {},
        "output_type": "display_data"
       }
      ]
     }
    },
    "5fb9040536754d32a834a227566afdc1": {
     "model_module": "@jupyter-widgets/base",
     "model_module_version": "1.2.0",
     "model_name": "LayoutModel",
     "state": {
      "_model_module": "@jupyter-widgets/base",
      "_model_module_version": "1.2.0",
      "_model_name": "LayoutModel",
      "_view_count": null,
      "_view_module": "@jupyter-widgets/base",
      "_view_module_version": "1.2.0",
      "_view_name": "LayoutView",
      "align_content": null,
      "align_items": null,
      "align_self": null,
      "border": null,
      "bottom": null,
      "display": null,
      "flex": null,
      "flex_flow": null,
      "grid_area": null,
      "grid_auto_columns": null,
      "grid_auto_flow": null,
      "grid_auto_rows": null,
      "grid_column": null,
      "grid_gap": null,
      "grid_row": null,
      "grid_template_areas": null,
      "grid_template_columns": null,
      "grid_template_rows": null,
      "height": null,
      "justify_content": null,
      "justify_items": null,
      "left": null,
      "margin": null,
      "max_height": null,
      "max_width": null,
      "min_height": null,
      "min_width": null,
      "object_fit": null,
      "object_position": null,
      "order": null,
      "overflow": null,
      "overflow_x": null,
      "overflow_y": null,
      "padding": null,
      "right": null,
      "top": null,
      "visibility": null,
      "width": null
     }
    },
    "681e8e2ba8864d99b2557d14a30cf936": {
     "model_module": "@jupyter-widgets/output",
     "model_module_version": "1.0.0",
     "model_name": "OutputModel",
     "state": {
      "_dom_classes": [],
      "_model_module": "@jupyter-widgets/output",
      "_model_module_version": "1.0.0",
      "_model_name": "OutputModel",
      "_view_count": null,
      "_view_module": "@jupyter-widgets/output",
      "_view_module_version": "1.0.0",
      "_view_name": "OutputView",
      "layout": "IPY_MODEL_db63d32dd4744a94b31bc7849d877092",
      "msg_id": "",
      "outputs": [
       {
        "data": {
         "image/jpeg": "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\n",
         "image/png": "iVBORw0KGgoAAAANSUhEUgAAAGAAAABgCAIAAABt+uBvAAAMsklEQVR4Ae2ca0xVxxbHyyMq+L6Xi6J4fb9Qri9AC9gUrVejualerf3ipyY2VmsbRK2miU1tUtuqtfXapK+k2jb9QKwaqUZFpaKggLby8gkqgmB5eEWe8tD7o9OMJ/vA2bP32ftAvefk5GTtmTVr/WfttWfWzF5zfB4/fvyM99OxBXw7rvLWtFnAayAdP/AayGsgHQvoVHs9yGsgHQvoVHs9yGsgHQvoVHctD2ppecRXB7Jnq/09q86Vtps3q3fsOA9HfHzE8OF9XbF6so6lRqd/rl69Coavv86pqKjnC8GlKOx0bJ32iJ08eVL6QVFREXRr62M/Px++EFyKQsHjyCxbeYbwqIFSUlJaW1tFxySh0k/JDIEQlSZW8dhloLKyOuEIPCOXL18WcCMjIzMzMwUdEBDQ0NCg0g3YAgMDBee5c+emTZsmaMQiHBpFqFMRZYLHFgPt2vXrTz8VrlhxjCnJx8fn5s2bAlmvXr0ePHgg6EmTJuXk5Aja17cdGLLw4sWL4eHhgrO2trZPnz6CRizCUYEi1KFUlFv72w4y9xUwHy1f/o8NG6Z/+WU20oYPH37jxg0p9tGjtom8d+/eQUFBonD27NmyVhKyMDg4WBiFhn5+foLh1q1bQ4cOhUYFilCHUtnWQsIWAy1ZMubAgYKRI/tVVDRUVjaMHz/+ypUrAvSMGTPwAkGPHDlSpSeSjYY8pKLJpUuXJkyYcO9eY1VVI4r277++aNFoFWlGeSw20OnTp7nPzz476NSp4sbGljVrInbsuACm0NBQgaxv377yGdFgFfOXmMs0VeKShjQXtBD40UeZb745rampNS3tTmzsYFQDoN225gutDTQYUI8cOYLMkpKabduyIL75Jjc7u1xFS2Hh/dWrj/OFUOHPz6/csycPTsxUVFQNkZSUVFdXp9JWnecZdVYXnCUlJbKWp4lhlcstWzLu3KlpbX20cmWyrHVN4At8XfPIWsQi/O7dug8/zKAwNzc3Pz9f1jpCkoUmCGsMxJCJb0v1OBF3sr6+OSEhhcL09DuMEbLWEgKBp0+33ZU1a1JQhDrhuUJ4WlpaYWGhJYqsMRBQcBxiHA2mxEQKyyhcuzZFU+XmpRCIcFRoRF24cMHRlTS1Ri99aGB6ACsuLmZcFNMtQkBGpDN27FgpENnr1v0cEOAfHv63pUuflEsG00Ri4tXc3IqGhpatW5/38XkihhUck50MJlmvEE8NGTLkCYdByi0DoYvQlpmFiVzobWxs7NGjh0EMVrI7Arh27Vp5eXlsbKw7Ctw1ELpxnObmZgIcd3BY3jYrKwvvnj59upuSTcZBDMn19fVCN/7cr18/bp2bUCxsDhgidWkdoJqOj0x6ECPXsWPHeLbDwsIs7JgdonjQ8vLyFi5cKBd3hrQYM9Bnn/1640b14sVjoqMHoYbQo7S0dO7cuYZUepL56NGjgwYNEmvd9PTSH3+8NmJE31WrphjAoD7tlZXVfvFFNvzEIPHxJ4uLH0ATgPCoqwvxJCfARGANVACLWIwu0BF1GAbioObm1uXLjxYU/BfprLO2b88iViZIU1fmeU7gARKoAEY74OkCHVFHYuwRY/Nl9+78W7eq16+P6tOnGyt1dmFYTC9bFuYYjBhwYDtZk5IKWTOvXRs5cGDPurpmoPr7+65ePaVbtz/2TJSUq9tSclZW1m/cmLp7dx5LIQoJZ8WSQjJ0BQJIIogHJFABDGwTwAw8YsTvhw4dYiNGqCGQfe21ZPYZuHz77ScLMRMg7GgiIAEPkEAVKgBPFwwtRIw9YvgkG51sBjPBi6mBjbEzZ0qiokKsXUkoOb9LJtYieFBsbOjChaNgZMJlYUTEz/amy3baSsMG0gp42q9VI2lettTU1Dwd1qAj6u+OVD2IF1IZGRmIJh6NioqSW59/IpNVV1ezIUNwJFYhcv/fdRdUDSSliOgLHbLkz0Jwd3v27Gl0wWHYQH8Wc1iFUym7gye2paWFd6G87bPVd+p/+42OBQ4YYFX3nOXgR9nZ2bxc8Pf3j4uLc2bQlBjwIIQimrd9o0a1TZx2fA4tW4bYBd9/b4dwZBYUFFRWVnKbudmKKpQ8SMhCqN27Yo+amhRxm2Pj1hq9u6rTvDlAT0ErfQ+6fv06b3VIEyBaZwqYNWsWtB09J5IQ25IQinOwURh0gVQjJmLRnWHDho0erfPC2sAYZBSNIX6GhvT09JItW2gVunFjdHS0TG0wJMdyZh0PYmcjObnI+c0QPvTCC0OtyiTEZbCO3NWG4HLBggVW+RGJH8ePt9+LOXOGDhv2x/v+do3rykDkEWzdmrV5c4yvr/aZYhPxnXfSP/kkjh2WduUaKsR9pHVEQy4pHGDFfM8e1vbt5999N7rdXmzalLZz52zyJjoCbEH3OhL9dJS78iDsum5d5L59vFbXdpZHLCEhwhL3QTTDDa8bHZ2IS6vGIEACtaNe0EEX7gM27yCtvfeaa30DeXKa37doEfj+vX+/VcOzprcmpnlXj5iQTqSgGyxocJi7xCjivb5N1gEV4Y9MfVQE6R2kdQxlwEAsVsnlYL2nI7ILVwOeLtARdYz6jxiyPLbdoY7bHCcrVWIr0lHUtzuUDKSyb2IOsedbsZ9lKGPIwCMmOsNKjz0nz3fMfY3ABrxROUoehFDNpr1RNV2BH+ucOHGCX0Ob9qoGSk1NjYiIsHW/1W4j8iZmzpw5aMGV6I7iuKFqIEVxdnfSEvncZvXuqBpIIvt/e/VsYJDmzf/hw4dZUs6fP58X83l5lStXHg8ODty27fmcnAppwS5CAAlgwAMkUAEMbMDTBTqiDtKAB5GOKDISq6oa2GEZO/Yvu3bNZpMlK+su6UnqKj3DCSSAkSo4Y0bId99d+uGHy6zpSV7gYwyAyAtR/CU366uvcsgsqa5+SJPS0tq33jr17bf57J9Z8jn40kt8LRGFkIMHC1atOn77dluqYG1t0wcfZHC+5uHDtlQz9Y+B/CAPpOBZayCs4H4KnoFHjIS7iIiBJNyRE5SaWsxZsNDQ3qQgP37sZ9N7DmPPghP3727StGFDFGezyDB77rkh5ArRBTpCUp4Te/sFBgZphOJECQk/M/J9/HEc1iEriQTtrmkdugsw4AESqAAGNuDpgrp12oRg5vZN57KUVsnJyeSZGR7zXIpNWrqU+n8lJrrkMlbpZiK5AQ9yxHXmzBmWfNI6nIViBnVk6FwaMEASGMaMGTNv3jxOkJmDZNJAM2fOlGfZ2T24f/9+5x7y0XQeMKwnyPgS5UAFsIZH8dKkgaR09p9QL5MaOt2PJADOR/fv3x9Pl1DNEQZmMWcF5I2GhIR0qQN1nKCTB+p4uLp37w5Idw7UueVBKJbWEX/W4njcEIPu3Xv15ZfHvfdebFZWmbN93SlBIGIRjgpHOQBg8pKLCeC5Yx0ku2UgiYz7VlFRwX6IKOGMDfER5yUzM+9GRg48e7Y0JiZUMltCIJBDvQjPyChDEepQKiRPnTqVfE3H/3pwS+Pv0ZS7P45nsJk+xLHw998/x1rE0LHwA4uX8FVEI4+Fs4agCfGOYwq9IyRFge2yWeNBgwcPFneJMZJkInLcCF67d/cLCem5Z0/+ihWTVe4hJ9Gysyv4Qqjwc+yLVeiAAYG8Oy4qejBx4kS8BlcSbSUkFVEueKwxkFTASVGxa8eykA7U1DQVFNwPDw+Sf/QiOZ2JlJTbYWF/5QvhXKspQSCcV67cY9n8xhtTd+78BQY2NIg5NJxuXlpsIMINstAYdOLi/o4HsSsSHz8NiDi8AMroIP8hRwOdbBtyIvhCaKrEJQ1pLmghcP36yE8//YXjTTNntg1JqDYd77SrkUKLDSTU7N177cUXR/EXHMHBAUFBARx+GTdunKg6e/YsZ+sFzZ8jCML1r2Sjofx/JnamGHH69ycJpAeKWIWyhHYtx1ytLQYi84xtI8bOV1+dBCx2aUeMGCHwMQeLXHci3aqqKlHIywZn9LKQ+VE4HQ3lexvSC5k6aYUKFKHOqnQ3DRK3AkWNLHn5+utT+M+sV14JZ/hkapAnkDCKPOTBTCfDAtltKQFCFk6ePJmRJSYmhkL22zGW+IMdxCKc9J/PP/9neXk9E4Jjc6toWzwIcMAViUm4jFzTnj9/Xv5DEvOdYjY3Cys5N3EUXg7DiEU4ulBkk3UQbosHdXT3HF+2GMpxkcwQjkI6UmRhuUcN5IibfGt5KdYrbR7n14ZHuJ5cxFDiyCxbeYYwuWFmBziSdf+z+RCSV29aYNOIawJ2FzIQ6EnZ5deq3FAT5nBu0rUM5Iyv00vsmsU6vWNWAfAaSMeSXgN5DaRjAZ1qrwd5DaRjAZ1qrwd5DaRjAZ3q/wFwi+vJIIVrAQAAAABJRU5ErkJggg==\n",
         "text/plain": "<PIL.PngImagePlugin.PngImageFile image mode=RGB size=96x96>"
        },
        "metadata": {},
        "output_type": "display_data"
       }
      ]
     }
    },
    "7b62fc4dee034a99a1bfb3159dfd0d21": {
     "model_module": "@jupyter-widgets/output",
     "model_module_version": "1.0.0",
     "model_name": "OutputModel",
     "state": {
      "_dom_classes": [],
      "_model_module": "@jupyter-widgets/output",
      "_model_module_version": "1.0.0",
      "_model_name": "OutputModel",
      "_view_count": null,
      "_view_module": "@jupyter-widgets/output",
      "_view_module_version": "1.0.0",
      "_view_name": "OutputView",
      "layout": "IPY_MODEL_1c07db07f8274585827011f7f44b405f",
      "msg_id": "",
      "outputs": [
       {
        "data": {
         "image/jpeg": "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\n",
         "image/png": "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\n",
         "text/plain": "<PIL.PngImagePlugin.PngImageFile image mode=RGB size=96x96>"
        },
        "metadata": {},
        "output_type": "display_data"
       }
      ]
     }
    },
    "7e3cbd880a144c498137c7070e624449": {
     "model_module": "@jupyter-widgets/base",
     "model_module_version": "1.2.0",
     "model_name": "LayoutModel",
     "state": {
      "_model_module": "@jupyter-widgets/base",
      "_model_module_version": "1.2.0",
      "_model_name": "LayoutModel",
      "_view_count": null,
      "_view_module": "@jupyter-widgets/base",
      "_view_module_version": "1.2.0",
      "_view_name": "LayoutView",
      "align_content": null,
      "align_items": null,
      "align_self": null,
      "border": null,
      "bottom": null,
      "display": null,
      "flex": null,
      "flex_flow": null,
      "grid_area": null,
      "grid_auto_columns": null,
      "grid_auto_flow": null,
      "grid_auto_rows": null,
      "grid_column": null,
      "grid_gap": null,
      "grid_row": null,
      "grid_template_areas": null,
      "grid_template_columns": null,
      "grid_template_rows": null,
      "height": null,
      "justify_content": null,
      "justify_items": null,
      "left": null,
      "margin": null,
      "max_height": null,
      "max_width": null,
      "min_height": null,
      "min_width": null,
      "object_fit": null,
      "object_position": null,
      "order": null,
      "overflow": null,
      "overflow_x": null,
      "overflow_y": null,
      "padding": null,
      "right": null,
      "top": null,
      "visibility": null,
      "width": null
     }
    },
    "7f2f93d229a14182a31d3ddb2a367bf6": {
     "model_module": "@jupyter-widgets/base",
     "model_module_version": "1.2.0",
     "model_name": "LayoutModel",
     "state": {
      "_model_module": "@jupyter-widgets/base",
      "_model_module_version": "1.2.0",
      "_model_name": "LayoutModel",
      "_view_count": null,
      "_view_module": "@jupyter-widgets/base",
      "_view_module_version": "1.2.0",
      "_view_name": "LayoutView",
      "align_content": null,
      "align_items": null,
      "align_self": null,
      "border": null,
      "bottom": null,
      "display": null,
      "flex": null,
      "flex_flow": null,
      "grid_area": null,
      "grid_auto_columns": null,
      "grid_auto_flow": null,
      "grid_auto_rows": null,
      "grid_column": null,
      "grid_gap": null,
      "grid_row": null,
      "grid_template_areas": null,
      "grid_template_columns": null,
      "grid_template_rows": null,
      "height": null,
      "justify_content": null,
      "justify_items": null,
      "left": null,
      "margin": null,
      "max_height": null,
      "max_width": null,
      "min_height": null,
      "min_width": null,
      "object_fit": null,
      "object_position": null,
      "order": null,
      "overflow": null,
      "overflow_x": null,
      "overflow_y": null,
      "padding": null,
      "right": null,
      "top": null,
      "visibility": null,
      "width": null
     }
    },
    "840f12531c144d0790934c60f4201775": {
     "model_module": "@jupyter-widgets/base",
     "model_module_version": "1.2.0",
     "model_name": "LayoutModel",
     "state": {
      "_model_module": "@jupyter-widgets/base",
      "_model_module_version": "1.2.0",
      "_model_name": "LayoutModel",
      "_view_count": null,
      "_view_module": "@jupyter-widgets/base",
      "_view_module_version": "1.2.0",
      "_view_name": "LayoutView",
      "align_content": null,
      "align_items": null,
      "align_self": null,
      "border": null,
      "bottom": null,
      "display": null,
      "flex": null,
      "flex_flow": null,
      "grid_area": null,
      "grid_auto_columns": null,
      "grid_auto_flow": null,
      "grid_auto_rows": null,
      "grid_column": null,
      "grid_gap": null,
      "grid_row": null,
      "grid_template_areas": null,
      "grid_template_columns": null,
      "grid_template_rows": null,
      "height": null,
      "justify_content": null,
      "justify_items": null,
      "left": null,
      "margin": null,
      "max_height": null,
      "max_width": null,
      "min_height": null,
      "min_width": null,
      "object_fit": null,
      "object_position": null,
      "order": null,
      "overflow": null,
      "overflow_x": null,
      "overflow_y": null,
      "padding": null,
      "right": null,
      "top": null,
      "visibility": null,
      "width": null
     }
    },
    "8b224eb98ae64d90b0c34da78fbfd5d8": {
     "model_module": "@jupyter-widgets/controls",
     "model_module_version": "1.5.0",
     "model_name": "VBoxModel",
     "state": {
      "_dom_classes": [
       "widget-interact"
      ],
      "_model_module": "@jupyter-widgets/controls",
      "_model_module_version": "1.5.0",
      "_model_name": "VBoxModel",
      "_view_count": null,
      "_view_module": "@jupyter-widgets/controls",
      "_view_module_version": "1.5.0",
      "_view_name": "VBoxView",
      "box_style": "",
      "children": [
       "IPY_MODEL_17bb04e5b4a54d6186d81e09bc27a901",
       "IPY_MODEL_e32f19fbd7ea46d68cae9c8ed2055b66"
      ],
      "layout": "IPY_MODEL_4161a0b5f1734236a773bab479d5cfac"
     }
    },
    "94c60dcc943c4be39002f2d9aeacaba0": {
     "model_module": "@jupyter-widgets/controls",
     "model_module_version": "1.5.0",
     "model_name": "FloatSliderModel",
     "state": {
      "_dom_classes": [],
      "_model_module": "@jupyter-widgets/controls",
      "_model_module_version": "1.5.0",
      "_model_name": "FloatSliderModel",
      "_view_count": null,
      "_view_module": "@jupyter-widgets/controls",
      "_view_module_version": "1.5.0",
      "_view_name": "FloatSliderView",
      "continuous_update": true,
      "description": "x",
      "description_tooltip": null,
      "disabled": false,
      "layout": "IPY_MODEL_f5aae455db084d2e99b52297e2c935da",
      "max": 100,
      "min": 0,
      "orientation": "horizontal",
      "readout": true,
      "readout_format": ".2f",
      "step": 0.1,
      "style": "IPY_MODEL_d6bff110ed7c4e1db5c83834af73f583",
      "value": 64.6
     }
    },
    "a0885901862644d3b17f9079e1d258ba": {
     "model_module": "@jupyter-widgets/base",
     "model_module_version": "1.2.0",
     "model_name": "LayoutModel",
     "state": {
      "_model_module": "@jupyter-widgets/base",
      "_model_module_version": "1.2.0",
      "_model_name": "LayoutModel",
      "_view_count": null,
      "_view_module": "@jupyter-widgets/base",
      "_view_module_version": "1.2.0",
      "_view_name": "LayoutView",
      "align_content": null,
      "align_items": null,
      "align_self": null,
      "border": null,
      "bottom": null,
      "display": null,
      "flex": null,
      "flex_flow": null,
      "grid_area": null,
      "grid_auto_columns": null,
      "grid_auto_flow": null,
      "grid_auto_rows": null,
      "grid_column": null,
      "grid_gap": null,
      "grid_row": null,
      "grid_template_areas": null,
      "grid_template_columns": null,
      "grid_template_rows": null,
      "height": null,
      "justify_content": null,
      "justify_items": null,
      "left": null,
      "margin": null,
      "max_height": null,
      "max_width": null,
      "min_height": null,
      "min_width": null,
      "object_fit": null,
      "object_position": null,
      "order": null,
      "overflow": null,
      "overflow_x": null,
      "overflow_y": null,
      "padding": null,
      "right": null,
      "top": null,
      "visibility": null,
      "width": null
     }
    },
    "a325fbc54c5e41949de9b30f5776e63d": {
     "model_module": "@jupyter-widgets/controls",
     "model_module_version": "1.5.0",
     "model_name": "SliderStyleModel",
     "state": {
      "_model_module": "@jupyter-widgets/controls",
      "_model_module_version": "1.5.0",
      "_model_name": "SliderStyleModel",
      "_view_count": null,
      "_view_module": "@jupyter-widgets/base",
      "_view_module_version": "1.2.0",
      "_view_name": "StyleView",
      "description_width": "",
      "handle_color": null
     }
    },
    "a9faf4d5fc59464392a4ab921f536e4e": {
     "model_module": "@jupyter-widgets/output",
     "model_module_version": "1.0.0",
     "model_name": "OutputModel",
     "state": {
      "_dom_classes": [],
      "_model_module": "@jupyter-widgets/output",
      "_model_module_version": "1.0.0",
      "_model_name": "OutputModel",
      "_view_count": null,
      "_view_module": "@jupyter-widgets/output",
      "_view_module_version": "1.0.0",
      "_view_name": "OutputView",
      "layout": "IPY_MODEL_bffdf0d154a1418d9d412b739bb8b5f0",
      "msg_id": "",
      "outputs": [
       {
        "data": {
         "image/jpeg": "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\n",
         "image/png": "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\n",
         "text/plain": "<PIL.PngImagePlugin.PngImageFile image mode=RGB size=96x96>"
        },
        "metadata": {},
        "output_type": "display_data"
       }
      ]
     }
    },
    "af6a79972fe9466f93e3eee1ce4b9dda": {
     "model_module": "@jupyter-widgets/controls",
     "model_module_version": "1.5.0",
     "model_name": "FloatSliderModel",
     "state": {
      "_dom_classes": [],
      "_model_module": "@jupyter-widgets/controls",
      "_model_module_version": "1.5.0",
      "_model_name": "FloatSliderModel",
      "_view_count": null,
      "_view_module": "@jupyter-widgets/controls",
      "_view_module_version": "1.5.0",
      "_view_name": "FloatSliderView",
      "continuous_update": true,
      "description": "x",
      "description_tooltip": null,
      "disabled": false,
      "layout": "IPY_MODEL_d9b09775e2ea4c5e943b23d284131282",
      "max": 100,
      "min": 0,
      "orientation": "horizontal",
      "readout": true,
      "readout_format": ".2f",
      "step": 0.1,
      "style": "IPY_MODEL_b6b94cd85dad4b17a23f8e84a92ac83c",
      "value": 64.02
     }
    },
    "b6b94cd85dad4b17a23f8e84a92ac83c": {
     "model_module": "@jupyter-widgets/controls",
     "model_module_version": "1.5.0",
     "model_name": "SliderStyleModel",
     "state": {
      "_model_module": "@jupyter-widgets/controls",
      "_model_module_version": "1.5.0",
      "_model_name": "SliderStyleModel",
      "_view_count": null,
      "_view_module": "@jupyter-widgets/base",
      "_view_module_version": "1.2.0",
      "_view_name": "StyleView",
      "description_width": "",
      "handle_color": null
     }
    },
    "b852fb2b1b0f4a678aa82a2a7fe15f37": {
     "model_module": "@jupyter-widgets/controls",
     "model_module_version": "1.5.0",
     "model_name": "FloatSliderModel",
     "state": {
      "_dom_classes": [],
      "_model_module": "@jupyter-widgets/controls",
      "_model_module_version": "1.5.0",
      "_model_name": "FloatSliderModel",
      "_view_count": null,
      "_view_module": "@jupyter-widgets/controls",
      "_view_module_version": "1.5.0",
      "_view_name": "FloatSliderView",
      "continuous_update": true,
      "description": "x",
      "description_tooltip": null,
      "disabled": false,
      "layout": "IPY_MODEL_53789777391c47228cca6bd970471c88",
      "max": 100,
      "min": 0,
      "orientation": "horizontal",
      "readout": true,
      "readout_format": ".2f",
      "step": 0.1,
      "style": "IPY_MODEL_a325fbc54c5e41949de9b30f5776e63d",
      "value": 59.2
     }
    },
    "bc911168286343238ba393b33ab717e2": {
     "model_module": "@jupyter-widgets/controls",
     "model_module_version": "1.5.0",
     "model_name": "VBoxModel",
     "state": {
      "_dom_classes": [
       "widget-interact"
      ],
      "_model_module": "@jupyter-widgets/controls",
      "_model_module_version": "1.5.0",
      "_model_name": "VBoxModel",
      "_view_count": null,
      "_view_module": "@jupyter-widgets/controls",
      "_view_module_version": "1.5.0",
      "_view_name": "VBoxView",
      "box_style": "",
      "children": [
       "IPY_MODEL_17bb04e5b4a54d6186d81e09bc27a901",
       "IPY_MODEL_dc1a7b43d79e4599bc65efad88e197c3"
      ],
      "layout": "IPY_MODEL_3e57f686d88c401e86850628e7a9a121"
     }
    },
    "bcca30afb4c04520907ff8badd0f01d0": {
     "model_module": "@jupyter-widgets/base",
     "model_module_version": "1.2.0",
     "model_name": "LayoutModel",
     "state": {
      "_model_module": "@jupyter-widgets/base",
      "_model_module_version": "1.2.0",
      "_model_name": "LayoutModel",
      "_view_count": null,
      "_view_module": "@jupyter-widgets/base",
      "_view_module_version": "1.2.0",
      "_view_name": "LayoutView",
      "align_content": null,
      "align_items": null,
      "align_self": null,
      "border": null,
      "bottom": null,
      "display": null,
      "flex": null,
      "flex_flow": null,
      "grid_area": null,
      "grid_auto_columns": null,
      "grid_auto_flow": null,
      "grid_auto_rows": null,
      "grid_column": null,
      "grid_gap": null,
      "grid_row": null,
      "grid_template_areas": null,
      "grid_template_columns": null,
      "grid_template_rows": null,
      "height": null,
      "justify_content": null,
      "justify_items": null,
      "left": null,
      "margin": null,
      "max_height": null,
      "max_width": null,
      "min_height": null,
      "min_width": null,
      "object_fit": null,
      "object_position": null,
      "order": null,
      "overflow": null,
      "overflow_x": null,
      "overflow_y": null,
      "padding": null,
      "right": null,
      "top": null,
      "visibility": null,
      "width": null
     }
    },
    "bffdf0d154a1418d9d412b739bb8b5f0": {
     "model_module": "@jupyter-widgets/base",
     "model_module_version": "1.2.0",
     "model_name": "LayoutModel",
     "state": {
      "_model_module": "@jupyter-widgets/base",
      "_model_module_version": "1.2.0",
      "_model_name": "LayoutModel",
      "_view_count": null,
      "_view_module": "@jupyter-widgets/base",
      "_view_module_version": "1.2.0",
      "_view_name": "LayoutView",
      "align_content": null,
      "align_items": null,
      "align_self": null,
      "border": null,
      "bottom": null,
      "display": null,
      "flex": null,
      "flex_flow": null,
      "grid_area": null,
      "grid_auto_columns": null,
      "grid_auto_flow": null,
      "grid_auto_rows": null,
      "grid_column": null,
      "grid_gap": null,
      "grid_row": null,
      "grid_template_areas": null,
      "grid_template_columns": null,
      "grid_template_rows": null,
      "height": null,
      "justify_content": null,
      "justify_items": null,
      "left": null,
      "margin": null,
      "max_height": null,
      "max_width": null,
      "min_height": null,
      "min_width": null,
      "object_fit": null,
      "object_position": null,
      "order": null,
      "overflow": null,
      "overflow_x": null,
      "overflow_y": null,
      "padding": null,
      "right": null,
      "top": null,
      "visibility": null,
      "width": null
     }
    },
    "c6e667da31054f2795dbcb42ee3fc69d": {
     "model_module": "@jupyter-widgets/output",
     "model_module_version": "1.0.0",
     "model_name": "OutputModel",
     "state": {
      "_dom_classes": [],
      "_model_module": "@jupyter-widgets/output",
      "_model_module_version": "1.0.0",
      "_model_name": "OutputModel",
      "_view_count": null,
      "_view_module": "@jupyter-widgets/output",
      "_view_module_version": "1.0.0",
      "_view_name": "OutputView",
      "layout": "IPY_MODEL_15d3331d34a549968c332b9349b81371",
      "msg_id": "",
      "outputs": [
       {
        "data": {
         "image/jpeg": "/9j/4AAQSkZJRgABAQAAAQABAAD/2wBDAAgGBgcGBQgHBwcJCQgKDBQNDAsLDBkSEw8UHRofHh0aHBwgJC4nICIsIxwcKDcpLDAxNDQ0Hyc5PTgyPC4zNDL/2wBDAQkJCQwLDBgNDRgyIRwhMjIyMjIyMjIyMjIyMjIyMjIyMjIyMjIyMjIyMjIyMjIyMjIyMjIyMjIyMjIyMjIyMjL/wAARCABgAGADASIAAhEBAxEB/8QAHwAAAQUBAQEBAQEAAAAAAAAAAAECAwQFBgcICQoL/8QAtRAAAgEDAwIEAwUFBAQAAAF9AQIDAAQRBRIhMUEGE1FhByJxFDKBkaEII0KxwRVS0fAkM2JyggkKFhcYGRolJicoKSo0NTY3ODk6Q0RFRkdISUpTVFVWV1hZWmNkZWZnaGlqc3R1dnd4eXqDhIWGh4iJipKTlJWWl5iZmqKjpKWmp6ipqrKztLW2t7i5usLDxMXGx8jJytLT1NXW19jZ2uHi4+Tl5ufo6erx8vP09fb3+Pn6/8QAHwEAAwEBAQEBAQEBAQAAAAAAAAECAwQFBgcICQoL/8QAtREAAgECBAQDBAcFBAQAAQJ3AAECAxEEBSExBhJBUQdhcRMiMoEIFEKRobHBCSMzUvAVYnLRChYkNOEl8RcYGRomJygpKjU2Nzg5OkNERUZHSElKU1RVVldYWVpjZGVmZ2hpanN0dXZ3eHl6goOEhYaHiImKkpOUlZaXmJmaoqOkpaanqKmqsrO0tba3uLm6wsPExcbHyMnK0tPU1dbX2Nna4uPk5ebn6Onq8vP09fb3+Pn6/9oADAMBAAIRAxEAPwD3+iiigAooooAKKKKACiiigAooooAKKKKACiiigAooooAKKKKACiiigAooooAKKKKACiiigAoorlbv4leDrG8mtLjXrZJ4XKSKAx2sOCMgYrSnRqVXanFv0VxNpbnVUVx//C1PBH/Qw23/AHw//wATR/wtTwR/0MNt/wB8P/8AE1r9SxP/AD7l9zFzR7nYUVx//C1PBH/Qw23/AHw//wATR/wtTwR/0MNt/wB8P/8AE0fUsT/z7l9zDmj3OworlbT4leDr68htLfXrZ55nCRqQw3MeAMkYrqqyqUalJ2qRa9VYaaewUUUVmMKKKKACuVu/hr4Ovrya7uNBtnnmcvIwLDcx5JwDiuqorSnWqUnenJr0dhNJ7nH/APCq/BH/AEL1t/32/wD8VR/wqvwR/wBC9bf99v8A/FV2FFa/XcT/AM/Jfexcsexx/wDwqvwR/wBC9bf99v8A/FUf8Kr8Ef8AQvW3/fb/APxVdhRR9dxP/PyX3sOWPY5W0+Gvg6xvIbu30G2SeFw8bEsdrDkHBOK6qiisqlapVd6km/V3GklsFFFFZjCiiigAooooAKKKKACiiigAooooAKKKKACiiigAooooAKKKKACiiigAooooAKKKKAP/2Q==\n",
         "image/png": "iVBORw0KGgoAAAANSUhEUgAAAGAAAABgCAIAAABt+uBvAAABYklEQVR4Ae3bwQ3BYACGYRVXNyvYQ7cxkm1qDyu4GaAYgDeShkQe11fyN0+//9hhnueV32uB9eukPAUAxQ4AAQqByBYEKAQiWxCgEIhsQYBCILIFAQqByBYEKAQiWxCgEIhsQYBCILIFAQqByBYEKAQiWxCgEIhsQYBCILIFAQqByBYEKAQiWxCgEIhsQYBCILIFAQqByBYEKAQiWxCgEIhsQYBCILIFAQqByBYUQJvon+TT6TpNt99+PTQMq3HcHo+7Tx783X+HpT6HOp9v43h5d9QX2zTtD4ftIge6YsG42IIe57higf2X2RWL1woIUAhEtiBAIRDZggCFQGQLAhQCkS0IUAhEtiBAIRDZggCFQGQLAhQCkS0IUAhEtiBAIRDZggCFQGQLAhQCkS0IUAhEtiBAIRDZggCFQGQLAhQCkS0IUAhEtiBAIRDZggCFQGQLAhQCkS0IUAhEtiBAIRD5Dpk8IrO6xCNDAAAAAElFTkSuQmCC\n",
         "text/plain": "<PIL.PngImagePlugin.PngImageFile image mode=RGB size=96x96>"
        },
        "metadata": {},
        "output_type": "display_data"
       }
      ]
     }
    },
    "c9c49b0c02f94bd4b7dd96fcf128e87b": {
     "model_module": "@jupyter-widgets/controls",
     "model_module_version": "1.5.0",
     "model_name": "VBoxModel",
     "state": {
      "_dom_classes": [
       "widget-interact"
      ],
      "_model_module": "@jupyter-widgets/controls",
      "_model_module_version": "1.5.0",
      "_model_name": "VBoxModel",
      "_view_count": null,
      "_view_module": "@jupyter-widgets/controls",
      "_view_module_version": "1.5.0",
      "_view_name": "VBoxView",
      "box_style": "",
      "children": [
       "IPY_MODEL_94c60dcc943c4be39002f2d9aeacaba0",
       "IPY_MODEL_460160983c4442c3943cf88817c698c5"
      ],
      "layout": "IPY_MODEL_5632967ace5148f6af0b728a8a3904cb"
     }
    },
    "d6866faa4f1c45e89492d15c8e401178": {
     "model_module": "@jupyter-widgets/controls",
     "model_module_version": "1.5.0",
     "model_name": "VBoxModel",
     "state": {
      "_dom_classes": [
       "widget-interact"
      ],
      "_model_module": "@jupyter-widgets/controls",
      "_model_module_version": "1.5.0",
      "_model_name": "VBoxModel",
      "_view_count": null,
      "_view_module": "@jupyter-widgets/controls",
      "_view_module_version": "1.5.0",
      "_view_name": "VBoxView",
      "box_style": "",
      "children": [
       "IPY_MODEL_af6a79972fe9466f93e3eee1ce4b9dda",
       "IPY_MODEL_5c2eec15d67d4cad8db324d00d1c8845"
      ],
      "layout": "IPY_MODEL_bcca30afb4c04520907ff8badd0f01d0"
     }
    },
    "d6bff110ed7c4e1db5c83834af73f583": {
     "model_module": "@jupyter-widgets/controls",
     "model_module_version": "1.5.0",
     "model_name": "SliderStyleModel",
     "state": {
      "_model_module": "@jupyter-widgets/controls",
      "_model_module_version": "1.5.0",
      "_model_name": "SliderStyleModel",
      "_view_count": null,
      "_view_module": "@jupyter-widgets/base",
      "_view_module_version": "1.2.0",
      "_view_name": "StyleView",
      "description_width": "",
      "handle_color": null
     }
    },
    "d9b09775e2ea4c5e943b23d284131282": {
     "model_module": "@jupyter-widgets/base",
     "model_module_version": "1.2.0",
     "model_name": "LayoutModel",
     "state": {
      "_model_module": "@jupyter-widgets/base",
      "_model_module_version": "1.2.0",
      "_model_name": "LayoutModel",
      "_view_count": null,
      "_view_module": "@jupyter-widgets/base",
      "_view_module_version": "1.2.0",
      "_view_name": "LayoutView",
      "align_content": null,
      "align_items": null,
      "align_self": null,
      "border": null,
      "bottom": null,
      "display": null,
      "flex": null,
      "flex_flow": null,
      "grid_area": null,
      "grid_auto_columns": null,
      "grid_auto_flow": null,
      "grid_auto_rows": null,
      "grid_column": null,
      "grid_gap": null,
      "grid_row": null,
      "grid_template_areas": null,
      "grid_template_columns": null,
      "grid_template_rows": null,
      "height": null,
      "justify_content": null,
      "justify_items": null,
      "left": null,
      "margin": null,
      "max_height": null,
      "max_width": null,
      "min_height": null,
      "min_width": null,
      "object_fit": null,
      "object_position": null,
      "order": null,
      "overflow": null,
      "overflow_x": null,
      "overflow_y": null,
      "padding": null,
      "right": null,
      "top": null,
      "visibility": null,
      "width": null
     }
    },
    "daa98c7edda04a57a8afa958da2315b4": {
     "model_module": "@jupyter-widgets/controls",
     "model_module_version": "1.5.0",
     "model_name": "VBoxModel",
     "state": {
      "_dom_classes": [
       "widget-interact"
      ],
      "_model_module": "@jupyter-widgets/controls",
      "_model_module_version": "1.5.0",
      "_model_name": "VBoxModel",
      "_view_count": null,
      "_view_module": "@jupyter-widgets/controls",
      "_view_module_version": "1.5.0",
      "_view_name": "VBoxView",
      "box_style": "",
      "children": [
       "IPY_MODEL_17bb04e5b4a54d6186d81e09bc27a901",
       "IPY_MODEL_681e8e2ba8864d99b2557d14a30cf936"
      ],
      "layout": "IPY_MODEL_20b9d9b908df480ab2e2ff8b96f45417"
     }
    },
    "db63d32dd4744a94b31bc7849d877092": {
     "model_module": "@jupyter-widgets/base",
     "model_module_version": "1.2.0",
     "model_name": "LayoutModel",
     "state": {
      "_model_module": "@jupyter-widgets/base",
      "_model_module_version": "1.2.0",
      "_model_name": "LayoutModel",
      "_view_count": null,
      "_view_module": "@jupyter-widgets/base",
      "_view_module_version": "1.2.0",
      "_view_name": "LayoutView",
      "align_content": null,
      "align_items": null,
      "align_self": null,
      "border": null,
      "bottom": null,
      "display": null,
      "flex": null,
      "flex_flow": null,
      "grid_area": null,
      "grid_auto_columns": null,
      "grid_auto_flow": null,
      "grid_auto_rows": null,
      "grid_column": null,
      "grid_gap": null,
      "grid_row": null,
      "grid_template_areas": null,
      "grid_template_columns": null,
      "grid_template_rows": null,
      "height": null,
      "justify_content": null,
      "justify_items": null,
      "left": null,
      "margin": null,
      "max_height": null,
      "max_width": null,
      "min_height": null,
      "min_width": null,
      "object_fit": null,
      "object_position": null,
      "order": null,
      "overflow": null,
      "overflow_x": null,
      "overflow_y": null,
      "padding": null,
      "right": null,
      "top": null,
      "visibility": null,
      "width": null
     }
    },
    "dc1a7b43d79e4599bc65efad88e197c3": {
     "model_module": "@jupyter-widgets/output",
     "model_module_version": "1.0.0",
     "model_name": "OutputModel",
     "state": {
      "_dom_classes": [],
      "_model_module": "@jupyter-widgets/output",
      "_model_module_version": "1.0.0",
      "_model_name": "OutputModel",
      "_view_count": null,
      "_view_module": "@jupyter-widgets/output",
      "_view_module_version": "1.0.0",
      "_view_name": "OutputView",
      "layout": "IPY_MODEL_4911cad4d4ec40c482b0e1585b934707",
      "msg_id": "",
      "outputs": [
       {
        "data": {
         "image/jpeg": "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\n",
         "image/png": "iVBORw0KGgoAAAANSUhEUgAAAGAAAABgCAIAAABt+uBvAAACYElEQVR4Ae3cvUrDUBxAcWvV3d1JH0Eo9UEsBUsHwY9HqgoORUFK36Mi+Ag6ubtb2nodIuWQfxI3m5w6tOfeNOT+SFKntFar1ZavWGA7nnLmR0CgkvNAIIFKBEqmPYMEKhEomfYMKgHaKZgf3g+fXp7mi3nBNps+tdve7Xf64/NxtJBW9I/i4G7w+PIYfa1m42eds4eLh9xFhUB713v1PnfWOdJ59DX6Wh/5/Rzeg5qjkywKFhsC/RI2/EMItN0Kp+pHVrDYol8xQBzsH5wcnWBwE3P2Nvv4/Kh45H8A6h52J1eTivv9z5udjk6nr9OKR9ig66iiCDYTCCBMgSiCFgggTIEoghYIIEyBKIIWCCBMgSiCFgggTIEoghYIIEyBKIIWCCBMgSiCFgggTIEoghYIIEyBKIIWCCBMgSiCFgggTIEoghYIIEyBKIIWCCBMgSiCFgggTIEoghYIIEyBKIIWCCBMgSiCFgggTIEoghYIIEyBKIIWCCBMgSiCFgggTIEoghYIIEyBKIIWCCBMgSiCFgggTIEoghYIIEyBKIIWCCBMgSiCFgggTIEoghYIIEyBKIIWCCBMgSiCFgggTIEoghYIIEyBKIIWCCBMgSiCFgggTIEogv7DE6ie3597Nz18fxMzLaT6YYfPUWxftperZfUdbfSW6SFvi9tF7hLCS6w5Osllmf6CVwgUbF/T4fi5/iFQenpnTTFyllWw2BCod1yH+3EORt5QwWLDm3Taj49LTghFQHnWjRsLL7HGSQQLFiiAyYYFyiSCd4ECmGxYoEwieBcogMmGBcokgvdvtipWRFsQ7HEAAAAASUVORK5CYII=\n",
         "text/plain": "<PIL.PngImagePlugin.PngImageFile image mode=RGB size=96x96>"
        },
        "metadata": {},
        "output_type": "display_data"
       }
      ]
     }
    },
    "dca2fd4ebd4249fc98b07b20c3d77c8e": {
     "model_module": "@jupyter-widgets/controls",
     "model_module_version": "1.5.0",
     "model_name": "FloatSliderModel",
     "state": {
      "_dom_classes": [],
      "_model_module": "@jupyter-widgets/controls",
      "_model_module_version": "1.5.0",
      "_model_name": "FloatSliderModel",
      "_view_count": null,
      "_view_module": "@jupyter-widgets/controls",
      "_view_module_version": "1.5.0",
      "_view_name": "FloatSliderView",
      "continuous_update": true,
      "description": "x",
      "description_tooltip": null,
      "disabled": false,
      "layout": "IPY_MODEL_840f12531c144d0790934c60f4201775",
      "max": 100,
      "min": 0,
      "orientation": "horizontal",
      "readout": true,
      "readout_format": ".2f",
      "step": 0.1,
      "style": "IPY_MODEL_49bf5a19a2074cb499eae62c6660f0c6",
      "value": 70.7
     }
    },
    "dd0eef6bf5314a99b859da6048cf30f7": {
     "model_module": "@jupyter-widgets/controls",
     "model_module_version": "1.5.0",
     "model_name": "VBoxModel",
     "state": {
      "_dom_classes": [
       "widget-interact"
      ],
      "_model_module": "@jupyter-widgets/controls",
      "_model_module_version": "1.5.0",
      "_model_name": "VBoxModel",
      "_view_count": null,
      "_view_module": "@jupyter-widgets/controls",
      "_view_module_version": "1.5.0",
      "_view_name": "VBoxView",
      "box_style": "",
      "children": [
       "IPY_MODEL_dca2fd4ebd4249fc98b07b20c3d77c8e",
       "IPY_MODEL_5d9727e544714294b9f7822c586876a7"
      ],
      "layout": "IPY_MODEL_4fdcb9a6d8c94f60b8a99a3583dd946f"
     }
    },
    "dff43346ca684b4d8162409688449b99": {
     "model_module": "@jupyter-widgets/controls",
     "model_module_version": "1.5.0",
     "model_name": "VBoxModel",
     "state": {
      "_dom_classes": [
       "widget-interact"
      ],
      "_model_module": "@jupyter-widgets/controls",
      "_model_module_version": "1.5.0",
      "_model_name": "VBoxModel",
      "_view_count": null,
      "_view_module": "@jupyter-widgets/controls",
      "_view_module_version": "1.5.0",
      "_view_name": "VBoxView",
      "box_style": "",
      "children": [
       "IPY_MODEL_17bb04e5b4a54d6186d81e09bc27a901",
       "IPY_MODEL_a9faf4d5fc59464392a4ab921f536e4e"
      ],
      "layout": "IPY_MODEL_555951d97bf34a8b83ed48740567f075"
     }
    },
    "e32f19fbd7ea46d68cae9c8ed2055b66": {
     "model_module": "@jupyter-widgets/output",
     "model_module_version": "1.0.0",
     "model_name": "OutputModel",
     "state": {
      "_dom_classes": [],
      "_model_module": "@jupyter-widgets/output",
      "_model_module_version": "1.0.0",
      "_model_name": "OutputModel",
      "_view_count": null,
      "_view_module": "@jupyter-widgets/output",
      "_view_module_version": "1.0.0",
      "_view_name": "OutputView",
      "layout": "IPY_MODEL_5fb9040536754d32a834a227566afdc1",
      "msg_id": "",
      "outputs": [
       {
        "data": {
         "image/jpeg": "/9j/4AAQSkZJRgABAQAAAQABAAD/2wBDAAgGBgcGBQgHBwcJCQgKDBQNDAsLDBkSEw8UHRofHh0aHBwgJC4nICIsIxwcKDcpLDAxNDQ0Hyc5PTgyPC4zNDL/2wBDAQkJCQwLDBgNDRgyIRwhMjIyMjIyMjIyMjIyMjIyMjIyMjIyMjIyMjIyMjIyMjIyMjIyMjIyMjIyMjIyMjIyMjL/wAARCABgAGADASIAAhEBAxEB/8QAHwAAAQUBAQEBAQEAAAAAAAAAAAECAwQFBgcICQoL/8QAtRAAAgEDAwIEAwUFBAQAAAF9AQIDAAQRBRIhMUEGE1FhByJxFDKBkaEII0KxwRVS0fAkM2JyggkKFhcYGRolJicoKSo0NTY3ODk6Q0RFRkdISUpTVFVWV1hZWmNkZWZnaGlqc3R1dnd4eXqDhIWGh4iJipKTlJWWl5iZmqKjpKWmp6ipqrKztLW2t7i5usLDxMXGx8jJytLT1NXW19jZ2uHi4+Tl5ufo6erx8vP09fb3+Pn6/8QAHwEAAwEBAQEBAQEBAQAAAAAAAAECAwQFBgcICQoL/8QAtREAAgECBAQDBAcFBAQAAQJ3AAECAxEEBSExBhJBUQdhcRMiMoEIFEKRobHBCSMzUvAVYnLRChYkNOEl8RcYGRomJygpKjU2Nzg5OkNERUZHSElKU1RVVldYWVpjZGVmZ2hpanN0dXZ3eHl6goOEhYaHiImKkpOUlZaXmJmaoqOkpaanqKmqsrO0tba3uLm6wsPExcbHyMnK0tPU1dbX2Nna4uPk5ebn6Onq8vP09fb3+Pn6/9oADAMBAAIRAxEAPwD3+iiigAooooAKKKKACiiigAooooAKKKKACiiigAooooAKKKKACiiigAooooAKKKKACiiigAooooAKKKx/FOoppnhu/mLukhgkWMp94NtOCPTHXNDHFXaRsUVj+FtRTU/DdhMHd5BBGshf7xbaMk+ueua2KEElZ2CiiigQUUUUAFFFFABRRRQAVi+LbKG+8L6isuf3dtJIpB5BCGtqs3xD/wAi1qv/AF5zf+gGk9i6fxor+ErKGx8L6csWf3ltHIxJ5JKCtqs3w9/yLWlf9ecP/oArSoWwVPjYUUUUyAooooAKKKKACiiigArN8Q/8i1qv/XnN/wCgGtKs3xD/AMi1qv8A15zf+gGk9i6fxoPD3/ItaV/15w/+gCtKs3w9/wAi1pX/AF5w/wDoArSoWwVPjYUUUUyAooooAKKKKACiiigAqpqtrJe6Pe2kRUST28kaljxllIGfzq3RQNOzuVNKtZLLR7K0lKmSC3jjYqeMqoBx+VW6KKAbu7hRRRQIKKKKAP/Z\n",
         "image/png": "iVBORw0KGgoAAAANSUhEUgAAAGAAAABgCAIAAABt+uBvAAAB+ElEQVR4Ae3bMU5CQRSFYREKKit69sEWrLBmedRSvS2wD0oilYUhJIgHSQgN/MRiuCY/sZh5p5j7Po8PCuwdDocnX9cFnq9HJkcBgaAHAgkEAhDbIIFAAGIbJBAIQGyDBAIBiG2QQCAAsQ0SCAQgtkECgQDENkggEIDYBgkEAhDbIIFAAGIbJBAIQGyDBAIBiG2QQCAAsQ0SCAQgtkECgQDENkggEIDYBgkEAhDbIIFAAGIb9K+Avtbr/MDIbeNeqS+Sd7NZbv91Pm+LcOu0wa2wefa92zU/Ew70GQRAhRq03++3223mzaLf78PgreIqDdpsNl3Xffy+ssi2lQCcUwIolVkul6f6ZN4sss1FmL1JXAIofTnrnO462yIlKgHUpAp/PKQE0Gg0Gg6Hl3eQbS5eXnnUugRQ3rMmk8nZKItsi7yRFfoknafy+3SaprwtFkV0Mkyhz0FBOZWojk6ASvyJPer5cs+5AoGSQAKBAMQ2SCAQgNgGCQQCENsggUAAYhskEAhAbIMEAgGIbZBAIACxDRIIBCC2QQKBAMQ2SCAQgNgGCQQCENsggUAAYhskEAhAbIMEAgGIbRAAFfp+UCbtDWrNcxyp1P9qfK5WmellPIZfa8O4FlDDG7/3KJ9BICWQQCAAsQ0SCAQgtkECgQDENkggEID4B46eWpGnVxNpAAAAAElFTkSuQmCC\n",
         "text/plain": "<PIL.PngImagePlugin.PngImageFile image mode=RGB size=96x96>"
        },
        "metadata": {},
        "output_type": "display_data"
       }
      ]
     }
    },
    "f5aae455db084d2e99b52297e2c935da": {
     "model_module": "@jupyter-widgets/base",
     "model_module_version": "1.2.0",
     "model_name": "LayoutModel",
     "state": {
      "_model_module": "@jupyter-widgets/base",
      "_model_module_version": "1.2.0",
      "_model_name": "LayoutModel",
      "_view_count": null,
      "_view_module": "@jupyter-widgets/base",
      "_view_module_version": "1.2.0",
      "_view_name": "LayoutView",
      "align_content": null,
      "align_items": null,
      "align_self": null,
      "border": null,
      "bottom": null,
      "display": null,
      "flex": null,
      "flex_flow": null,
      "grid_area": null,
      "grid_auto_columns": null,
      "grid_auto_flow": null,
      "grid_auto_rows": null,
      "grid_column": null,
      "grid_gap": null,
      "grid_row": null,
      "grid_template_areas": null,
      "grid_template_columns": null,
      "grid_template_rows": null,
      "height": null,
      "justify_content": null,
      "justify_items": null,
      "left": null,
      "margin": null,
      "max_height": null,
      "max_width": null,
      "min_height": null,
      "min_width": null,
      "object_fit": null,
      "object_position": null,
      "order": null,
      "overflow": null,
      "overflow_x": null,
      "overflow_y": null,
      "padding": null,
      "right": null,
      "top": null,
      "visibility": null,
      "width": null
     }
    }
   }
  }
 },
 "nbformat": 4,
 "nbformat_minor": 4
}
