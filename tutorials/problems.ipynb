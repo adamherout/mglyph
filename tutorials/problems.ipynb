{
 "cells": [
  {
   "cell_type": "markdown",
   "metadata": {},
   "source": [
    "# Width of lines is always using the 'p' measure"
   ]
  },
  {
   "cell_type": "code",
   "execution_count": null,
   "metadata": {},
   "outputs": [
    {
     "data": {
      "image/png": "[encoded data removed]"
     },
     "metadata": {},
     "output_type": "display_data"
    }
   ],
   "source": [
    "import mglyph as mg\n",
    "\n",
    "def problem(x, canvas):\n",
    "    canvas.line((-1, 0), (1, 0), width='50p')\n",
    "    canvas.line((-1, 0.5), (1, 0.5), width=0.05, color='red')   # this should be equivalent to '50p'\n",
    "    canvas.line((-1, -0.5), (1, -0.5), width=50, color='blue')  # this should be as thick as 25 glyph sizes, but is not\n",
    "\n",
    "mg.show(problem)"
   ]
  }
 ],
 "metadata": {
  "kernelspec": {
   "display_name": ".venv",
   "language": "python",
   "name": "python3"
  },
  "language_info": {
   "codemirror_mode": {
    "name": "ipython",
    "version": 3
   },
   "file_extension": ".py",
   "mimetype": "text/x-python",
   "name": "python",
   "nbconvert_exporter": "python",
   "pygments_lexer": "ipython3",
   "version": "3.13.2"
  }
 },
 "nbformat": 4,
 "nbformat_minor": 2
}
