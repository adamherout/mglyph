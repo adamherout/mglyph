{
 "cells": [
  {
   "cell_type": "markdown",
   "metadata": {},
   "source": [
    "# Notebook with Various Illustrations into Papers"
   ]
  },
  {
   "cell_type": "code",
   "execution_count": null,
   "metadata": {},
   "outputs": [],
   "source": [
    "%pip install --upgrade --editable ..\n",
    "%pip install ipywidgets\n",
    "%pip install scipy\n",
    "%pip install matplotlib\n",
    "\n",
    "%load_ext autoreload\n",
    "%autoreload 2\n",
    "import mglyph as mg"
   ]
  },
  {
   "cell_type": "markdown",
   "metadata": {},
   "source": [
    "## Siplest Glyphs that were there in the beginning"
   ]
  },
  {
   "cell_type": "code",
   "execution_count": null,
   "metadata": {},
   "outputs": [],
   "source": [
    "import math\n",
    "\n",
    "def simple_line(x: float, canvas:mg.Canvas) -> None:\n",
    "    canvas.line((mg.lerp(x, 0, -1), 0), (mg.lerp(x, 0, 1), 0),\n",
    "                width='50p', color='navy', linecap='round')\n",
    "# mg.show(simple_line, x=[55], values=False, scale=10)\n",
    "\n",
    "\n",
    "def simple_scaled_square(x: float, canvas: mg.Canvas) -> None:\n",
    "  top = mg.lerp(x, canvas.ycenter, canvas.ytop)\n",
    "  bottom = mg.lerp(x, canvas.ycenter, canvas.ybottom)\n",
    "  left = mg.lerp(x, canvas.xcenter, canvas.xleft)\n",
    "  right = mg.lerp(x, canvas.xcenter, canvas.xright)\n",
    "  canvas.polygon([(left, top), (right, top), (right, bottom), (left, bottom)], \n",
    "                 width='25p', linejoin='round', color='darkslategray', style='stroke')\n",
    "# mg.show(simple_scaled_square, x=[55], values=False, scale=10)\n",
    "\n",
    "\n",
    "def simple_scaled_circle(x: float, canvas: mg.Canvas) -> None:\n",
    "    canvas.circle(canvas.center, mg.lerp(x, 0.01, 1), color='darkred', style='stroke', width='25p')\n",
    "# mg.show(simple_scaled_circle, x=[55], values=False, scale=10)\n",
    "\n",
    "\n",
    "def simple_scaled_star(x: float, canvas: mg.Canvas) -> None:\n",
    "    # canvas.tr.translate(0, mg.lerp(x, 0, 0.05))\n",
    "    radius = mg.lerp(x, 0.2, canvas.ysize/2)\n",
    "    vertices = []\n",
    "    for segment in range(5):\n",
    "        vertices.append(mg.orbit(canvas.center, segment * 2*math.pi/5, radius))\n",
    "        vertices.append(mg.orbit(canvas.center, (segment + 0.5) * 2*math.pi/5, math.cos(2*math.pi/5)/math.cos(math.pi/5) * radius))\n",
    "    canvas.polygon(vertices, linejoin='round', color='indigo', style='stroke', width='25p')\n",
    "# mg.show(simple_scaled_star, x=[55], values=False, scale=10)\n",
    "\n",
    "mg.show([simple_line, simple_scaled_square, simple_scaled_circle, simple_scaled_star, simple_line], x=[55]*5, \n",
    "        values=True, scale=10, margin=['1%','3%','3%','1%'])\n"
   ]
  },
  {
   "cell_type": "markdown",
   "metadata": {},
   "source": [
    "## One-Handed Clock"
   ]
  },
  {
   "cell_type": "code",
   "execution_count": null,
   "metadata": {},
   "outputs": [],
   "source": [
    "import math\n",
    "def one_handed_clock(x: float, canvas: mg.Canvas) -> None:\n",
    "  canvas.circle(canvas.center, radius=canvas.ysize/30, color='darkslategray', style='stroke', width='20p')\n",
    "  angle = -x/100 * 2*math.pi\n",
    "  canvas.line(mg.orbit(canvas.center, angle+math.pi, 0.18 * canvas.ysize/2),\n",
    "              mg.orbit(canvas.center, angle, 1.0*canvas.ysize/2),  \n",
    "              width='10p', linecap='round', color='maroon')\n",
    "\n",
    "def one_handed_clock_with_hticks(x: float, canvas: mg.Canvas) -> None:\n",
    "  for hour in range(12):\n",
    "    canvas.line(mg.orbit(canvas.center, hour*math.pi/6, 0.8 * canvas.ysize/2),\n",
    "                mg.orbit(canvas.center, hour*math.pi/6, canvas.ysize/2),\n",
    "                         linecap='round', color=(0,0,0.5), width='38p')\n",
    "    canvas.line(mg.orbit(canvas.center, hour*math.pi/6, 0.8 * canvas.ysize/2),\n",
    "                mg.orbit(canvas.center, hour*math.pi/6, canvas.ysize/2),\n",
    "                         linecap='round', color='white', width='31p')\n",
    "  one_handed_clock(x, canvas)\n",
    "\n",
    "def one_handed_clock_with_mticks(x: float, canvas: mg.Canvas) -> None:\n",
    "  for minute in range(60):\n",
    "    canvas.line(mg.orbit(canvas.center, minute*math.pi/30, 0.88*canvas.ysize/2),\n",
    "                mg.orbit(canvas.center, minute*math.pi/30, 1.0*canvas.ysize/2), \n",
    "                width='5p', linecap='round', color='black')\n",
    "  one_handed_clock_with_hticks(x, canvas)\n",
    "\n",
    "mg.show(one_handed_clock_with_hticks, scale=10,\n",
    "        x=[5, 25, 50, 75, 95])\n",
    "mg.show(one_handed_clock, scale=10, values=False,\n",
    "        x=[20, 21, 22, 23, 24])\n",
    "mg.show(one_handed_clock_with_mticks, scale=10,\n",
    "        x=[20, 21, 22, 23, 24])"
   ]
  },
  {
   "cell_type": "markdown",
   "metadata": {},
   "source": [
    "## Dots -- Illegal and Legal"
   ]
  },
  {
   "cell_type": "code",
   "execution_count": null,
   "metadata": {},
   "outputs": [],
   "source": [
    "def hundred_dots(x: float, canvas: mg.Canvas) -> None:\n",
    "    base = 10\n",
    "    for row in range(base):\n",
    "        for col in range(base):\n",
    "            if (row*base + col) <= mg.lerp(x, 0, base**2):\n",
    "                canvas.circle(((col/(base-1))*canvas.xsize+canvas.xleft, (row/(base-1))*canvas.ysize+canvas.ytop),\n",
    "                    radius=canvas.ysize*0.021, color='midnightblue')\n",
    "            else:\n",
    "                canvas.circle(((col/(base-1))*canvas.xsize+canvas.xleft, (row/(base-1))*canvas.ysize+canvas.ytop),\n",
    "                    radius=canvas.ysize*0.009, color='lightslategray')\n",
    "mg.show(hundred_dots, scale=10, values=False, x=[5, 25, 50, 52, 54])\n",
    "\n",
    "\n",
    "from scipy.stats import qmc\n",
    "def halton_sequence(x: float, canvas: mg.Canvas) -> None:\n",
    "    sampler = qmc.Halton(d=2, scramble=False)\n",
    "    sampler.fast_forward(1)\n",
    "    n = int(mg.lerp(x, 0, 1500))\n",
    "    points = sampler.random(n=n)\n",
    "    for i, point in zip(range(n), points):\n",
    "        canvas.circle((point[0]*canvas.xsize+canvas.xleft, point[1]*canvas.ysize+canvas.ytop),\n",
    "                      radius=canvas.ysize*0.013, color='midnightblue')\n",
    "mg.show(halton_sequence, scale=10, x=[5, 25, 50, 52, 54])"
   ]
  },
  {
   "cell_type": "markdown",
   "metadata": {},
   "source": [
    "## Composite Glyphs"
   ]
  },
  {
   "cell_type": "code",
   "execution_count": null,
   "metadata": {},
   "outputs": [],
   "source": [
    "from IPython.display import display, HTML\n",
    "\n",
    "def cubic_bezier_point(t:float, a:float, b:float, c:float, d:float) -> (float, float):\n",
    "    p0 = 0.0  # Start in time (t=0)\n",
    "    p3 = 1.0  # End in time (t=1)\n",
    "    x = (1 - t)**3 * p0 + 3 * (1 - t)**2 * t * a + 3 * (1 - t) * t**2 * c + t**3 * p3\n",
    "    y = (1 - t)**3 * p0 + 3 * (1 - t)**2 * t * b + 3 * (1 - t) * t**2 * d + t**3 * p3\n",
    "    return x, y\n",
    "\n",
    "# Bisection method for numerical discovery of t for given x\n",
    "def cubic_bezier_find_t_for_x(x_target:float, a:float, c:float, epsilon:float=1e-6):\n",
    "    left, right = 0.0, 1.0\n",
    "    while right - left > epsilon:\n",
    "        mid = (left + right) / 2\n",
    "        x_mid, _ = cubic_bezier_point(mid, a, 0, c, 1)  # Just for the x value\n",
    "        if x_mid < x_target:\n",
    "            left = mid\n",
    "        else:\n",
    "            right = mid\n",
    "    return (left + right) / 2\n",
    "\n",
    "# Function that gets the cubic bezier value y for a given x\n",
    "def mg_cubic_bezier_for_x(x_target:float, a:float, b:float, c:float, d:float):\n",
    "    t = cubic_bezier_find_t_for_x(x_target, a, c)\n",
    "    _, y = cubic_bezier_point(t, a, b, c, d)\n",
    "    return y\n",
    "\n",
    "def mg_ease(x: float, fraction: float):\n",
    "    return 100*mg_cubic_bezier_for_x(x/100, fraction, 0, fraction, 1)\n",
    "\n",
    "def mg_clamped_linear(x: float, x_start, x_end):\n",
    "    if x < x_start:\n",
    "        return 0\n",
    "    elif x > x_end:\n",
    "        return 100\n",
    "    else:\n",
    "        return 100 * (x - x_start) / (x_end - x_start)\n",
    "\n",
    "def composite_four_circles(x: float, canvas: mg.Canvas) -> None:\n",
    "  canvas.circle((-0.5, -0.5), mg.lerp(mg_ease(x, 0), 0.01, canvas.ysize/4),\n",
    "                color='#1f77b4', style='stroke', width='18p')\n",
    "  canvas.circle(( 0.5, -0.5), mg.lerp(100*mg_cubic_bezier_for_x(x/100, 1/3, 0, 1/4, 1), 0.01, canvas.ysize/4),\n",
    "                color='#ff7f0e', style='stroke', width='18p')\n",
    "  canvas.circle((-0.5,  0.5), mg.lerp(100*mg_cubic_bezier_for_x(x/100, 3/4, 0, 2/3, 1), 0.01, canvas.ysize/4),\n",
    "                color='#2ca02c', style='stroke', width='18p')\n",
    "  canvas.circle(( 0.5,  0.5), mg.lerp(mg_ease(x, 1), 0.01, canvas.ysize/4),\n",
    "                color='#d62728', style='stroke', width='18p')\n",
    "\n",
    "def composite_four_circles_linear(x: float, canvas: mg.Canvas) -> None:\n",
    "  canvas.circle((-0.5, -0.5), mg.lerp(mg_clamped_linear(x, 0, 25), 0.01, canvas.ysize/4),\n",
    "                color='#1f77b4', style='stroke', width='18p')\n",
    "  canvas.circle(( 0.5, -0.5), mg.lerp(mg_clamped_linear(x, 25, 50), 0.01, canvas.ysize/4),\n",
    "                color='#ff7f0e', style='stroke', width='18p')\n",
    "  canvas.circle((-0.5,  0.5), mg.lerp(mg_clamped_linear(x, 50, 75), 0.01, canvas.ysize/4),\n",
    "                color='#2ca02c', style='stroke', width='18p')\n",
    "  canvas.circle(( 0.5,  0.5), mg.lerp(mg_clamped_linear(x, 75, 100), 0.01, canvas.ysize/4),\n",
    "                color='#d62728', style='stroke', width='18p')\n",
    "\n",
    "mg.show(composite_four_circles, scale=10, values=False,\n",
    "        x=[5, 30, 60, 62, 64]) \n",
    "mg.show(composite_four_circles_linear, scale=10,\n",
    "        x=[5, 30, 60, 62, 64]) \n",
    "\n",
    "display(HTML(\"<h3>Simple Scaled Circle – for reference</h3>\"))\n",
    "mg.show(simple_scaled_circle, x=[[20, 21, 22, 23, 24],\n",
    "                                   [40, 41, 42, 43, 44],\n",
    "                                   [50, 51, 52, 53, 54]])\n",
    "display(HTML(\"<h3>Composite Four Circles – with cubic bezier scaling</h3>\"))\n",
    "mg.show(composite_four_circles, x=[[20, 21, 22, 23, 24],\n",
    "                                   [40, 41, 42, 43, 44],\n",
    "                                   [50, 51, 52, 53, 54]], scale=10)\n",
    "display(HTML(\"<h3>Composite Four Circles – with linear scaling</h3>\"))\n",
    "mg.show(composite_four_circles_linear, x=[[20, 21, 22, 23, 24],\n",
    "                                          [40, 41, 42, 43, 44],\n",
    "                                          [50, 51, 52, 53, 54]], scale=10)"
   ]
  },
  {
   "cell_type": "markdown",
   "metadata": {},
   "source": [
    "## Corresponding plots"
   ]
  },
  {
   "cell_type": "code",
   "execution_count": null,
   "metadata": {},
   "outputs": [],
   "source": [
    "import matplotlib.pyplot as plt\n",
    "import numpy as np\n",
    "\n",
    "x = np.linspace(0, 100, 256)\n",
    "\n",
    "def show_cubic_bezier(axis, a, b, c, d):\n",
    "    y = list(map(lambda x: 100*mg_cubic_bezier_for_x(x/100, a, b, c, d), x))\n",
    "    axis.plot(x, y, label=f'cubic-bezier({a}, {b}, {c}, {d})')\n",
    "\n",
    "def show_clamped_linear(axis, x_start, x_end):\n",
    "    y = list(map(lambda x: mg_clamped_linear(x, x_start, x_end), x))\n",
    "    axis.plot(x, y, label=f'clamped-linear({x_start}, {x_end})')\n",
    "\n",
    "fig, (ax1, ax2) = plt.subplots(1, 2, figsize=(6,2), layout='constrained')\n",
    "\n",
    "show_cubic_bezier(ax1, 0, 0, 0, 1)\n",
    "show_cubic_bezier(ax1, 1/3, 0, 1/4, 1)\n",
    "show_cubic_bezier(ax1, 3/4, 0, 2/3, 1)\n",
    "show_cubic_bezier(ax1, 1, 0, 1, 1)\n",
    "ax1.set(xlabel=\"Input $x$ value\", ylabel='Modified $x$ value', title=\"Cubic-Bézier\")\n",
    "ax1.grid(True)\n",
    "\n",
    "show_clamped_linear(ax2, 0, 25)\n",
    "show_clamped_linear(ax2, 25, 50)\n",
    "show_clamped_linear(ax2, 50, 75)\n",
    "show_clamped_linear(ax2, 75, 100)\n",
    "ax2.set(xlabel=\"Input $x$ value\", ylabel=None, title=\"Linear\")\n",
    "ax2.grid(True)\n",
    "plt.savefig(\"composite-phasing-plots-x.pdf\", format='pdf', bbox_inches='tight')\n",
    "plt.show()\n"
   ]
  },
  {
   "cell_type": "markdown",
   "metadata": {},
   "source": [
    "## Progress bar"
   ]
  },
  {
   "cell_type": "code",
   "execution_count": null,
   "metadata": {},
   "outputs": [],
   "source": [
    "def progress_bar(x: float, canvas: mg.Canvas) -> None:\n",
    "  for i in range(10):\n",
    "    canvas.line((mg.lerp(10*i, -1, 1), -0.1), (mg.lerp(10*i, -1, 1), 0.1), color='darkgray', width='5p')\n",
    "    canvas.line((mg.lerp(10*i+5, -1, 1), -0.05), (mg.lerp(10*i+5, -1, 1), 0.05), color='silver', width='5p')\n",
    "  canvas.rounded_rect((-1, -0.2), (mg.lerp(x, -1, 1), 0.2), 0.04, 0.0, 0.0, 0.04, style='fill', color='cornflowerblue')\n",
    "  canvas.rounded_rect((-1.01, -0.2), (1.01, 0.2), 0.04, 0.04, 0.04, 0.04, style='stroke', color='midnightblue', width='15p')\n",
    "\n",
    "mg.show(progress_bar, scale=10, x=[7]) \n",
    "mg.show(progress_bar, scale=10, x=[66.6667]) \n",
    "mg.show(simple_scaled_star, scale=10, x=[66.6667])\n"
   ]
  },
  {
   "cell_type": "markdown",
   "metadata": {},
   "source": [
    "## Shepard Glyph"
   ]
  },
  {
   "cell_type": "code",
   "execution_count": null,
   "metadata": {},
   "outputs": [],
   "source": [
    "def shepard_circle(x: float, canvas: mg.Canvas) -> None:\n",
    "  base_radius = mg.lerp(x, canvas.ysize/4, canvas.ysize/2)\n",
    "  base_width = mg.lerp(x, canvas.ysize/100, canvas.ysize/50)\n",
    "  print(base_width)\n",
    "  for r in [2, 1, 1/2, 1/4, 1/8, 1/16, 1/32, 1/64, 1/128, 1/256]:\n",
    "    canvas.circle(canvas.center, r*base_radius, style='stroke', color='saddlebrown', width=(r+0.2)*base_width)\n",
    "\n",
    "mg.show(shepard_circle, scale=10, x=[0, 25, 50, 75, 100])"
   ]
  }
 ],
 "metadata": {
  "kernelspec": {
   "display_name": ".venv",
   "language": "python",
   "name": "python3"
  },
  "language_info": {
   "codemirror_mode": {
    "name": "ipython",
    "version": 3
   },
   "file_extension": ".py",
   "mimetype": "text/x-python",
   "name": "python",
   "nbconvert_exporter": "python",
   "pygments_lexer": "ipython3",
   "version": "3.13.2"
  }
 },
 "nbformat": 4,
 "nbformat_minor": 2
}
