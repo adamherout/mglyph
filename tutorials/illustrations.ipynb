{
 "cells": [
  {
   "cell_type": "markdown",
   "metadata": {},
   "source": [
    "# Notebook with Various Illustrations into Papers"
   ]
  },
  {
   "cell_type": "code",
   "execution_count": null,
   "metadata": {},
   "outputs": [],
   "source": [
    "%pip install --upgrade --editable ..\n",
    "\n",
    "%load_ext autoreload\n",
    "%autoreload 2\n",
    "import mglyph as mg"
   ]
  },
  {
   "cell_type": "markdown",
   "metadata": {},
   "source": [
    "## Siplest Glyphs that were there in the beginning"
   ]
  },
  {
   "cell_type": "code",
   "execution_count": null,
   "metadata": {},
   "outputs": [],
   "source": [
    "import math\n",
    "\n",
    "def simple_line(x: float, canvas:mg.Canvas) -> None:\n",
    "    canvas.line((mg.lerp(x, 0, -1), 0), (mg.lerp(x, 0, 1), 0),\n",
    "                width='50p', color='navy', linecap='round')\n",
    "mg.show(simple_line, x=[55], values=False, scale=10)\n",
    "\n",
    "\n",
    "def simple_scaled_square(x: float, canvas: mg.Canvas) -> None:\n",
    "  top = mg.lerp(x, canvas.ycenter, canvas.ytop)\n",
    "  bottom = mg.lerp(x, canvas.ycenter, canvas.ybottom)\n",
    "  left = mg.lerp(x, canvas.xcenter, canvas.xleft)\n",
    "  right = mg.lerp(x, canvas.xcenter, canvas.xright)\n",
    "  canvas.polygon([(left, top), (right, top), (right, bottom), (left, bottom)], \n",
    "                 width='25p', linejoin='round', color='darkslategray', style='stroke')\n",
    "mg.show(simple_scaled_square, x=[55], values=False, scale=10)\n",
    "\n",
    "\n",
    "def simple_scaled_circle(x: float, canvas: mg.Canvas) -> None:\n",
    "    canvas.circle(canvas.center, mg.lerp(x, 0.01, 1), color='darkred', style='stroke', width='25p')\n",
    "mg.show(simple_scaled_circle, x=[55], values=False, scale=10)\n",
    "\n",
    "\n",
    "def simple_scaled_star(x: float, canvas: mg.Canvas) -> None:\n",
    "    radius = mg.lerp(x, 0.2, canvas.ysize/2)\n",
    "    vertices = []\n",
    "    for segment in range(5):\n",
    "        vertices.append(mg.orbit(canvas.center, segment * 2*math.pi/5, radius))\n",
    "        vertices.append(mg.orbit(canvas.center, (segment + 0.5) * 2*math.pi/5, math.cos(2*math.pi/5)/math.cos(math.pi/5) * radius))\n",
    "    canvas.polygon(vertices, linejoin='round', color='indigo', style='stroke', width='25p')\n",
    "mg.show(simple_scaled_star, x=[55], values=False, scale=10)\n"
   ]
  },
  {
   "cell_type": "markdown",
   "metadata": {},
   "source": [
    "## One-Handed Clock"
   ]
  },
  {
   "cell_type": "code",
   "execution_count": null,
   "metadata": {},
   "outputs": [],
   "source": [
    "def one_handed_clock(x: float, canvas: mg.Canvas) -> None:\n",
    "  canvas.circle(canvas.center, radius=canvas.ysize/30, color='darkslategray', style='stroke', width='20p')\n",
    "  angle = -x/100 * 2*math.pi\n",
    "  canvas.line(mg.orbit(canvas.center, angle+math.pi, 0.18 * canvas.ysize/2),\n",
    "              mg.orbit(canvas.center, angle, 1.0*canvas.ysize/2),  \n",
    "              width='10p', linecap='round', color='maroon')\n",
    "\n",
    "def one_handed_clock_with_hticks(x: float, canvas: mg.Canvas) -> None:\n",
    "  for hour in range(12):\n",
    "    canvas.line(mg.orbit(canvas.center, hour*math.pi/6, 0.8 * canvas.ysize/2),\n",
    "                mg.orbit(canvas.center, hour*math.pi/6, canvas.ysize/2),\n",
    "                         linecap='round', color=(0,0,0.5), width='38p')\n",
    "    canvas.line(mg.orbit(canvas.center, hour*math.pi/6, 0.8 * canvas.ysize/2),\n",
    "                mg.orbit(canvas.center, hour*math.pi/6, canvas.ysize/2),\n",
    "                         linecap='round', color='white', width='31p')\n",
    "  one_handed_clock(x, canvas)\n",
    "\n",
    "def one_handed_clock_with_mticks(x: float, canvas: mg.Canvas) -> None:\n",
    "  for minute in range(60):\n",
    "    canvas.line(mg.orbit(canvas.center, minute*math.pi/30, 0.88*canvas.ysize/2),\n",
    "                mg.orbit(canvas.center, minute*math.pi/30, 1.0*canvas.ysize/2), \n",
    "                width='5p', linecap='round', color='black')\n",
    "  one_handed_clock_with_hticks(x, canvas)\n",
    "\n",
    "mg.show(one_handed_clock_with_hticks, scale=10,\n",
    "        x=[5, 25, 50, 75, 95])\n",
    "mg.show(one_handed_clock, scale=10, values=False,\n",
    "        x=[20, 21, 22, 23, 24])\n",
    "mg.show(one_handed_clock_with_mticks, scale=10,\n",
    "        x=[20, 21, 22, 23, 24])"
   ]
  },
  {
   "cell_type": "markdown",
   "metadata": {},
   "source": [
    "## Dots -- Illegal and Legal"
   ]
  },
  {
   "cell_type": "code",
   "execution_count": null,
   "metadata": {},
   "outputs": [],
   "source": [
    "def hundred_dots(x: float, canvas: mg.Canvas) -> None:\n",
    "    base = 10\n",
    "    for row in range(base):\n",
    "        for col in range(base):\n",
    "            if (row*base + col) <= mg.lerp(x, 0, base**2):\n",
    "                canvas.circle(((col/(base-1))*canvas.xsize+canvas.xleft, (row/(base-1))*canvas.ysize+canvas.ytop),\n",
    "                    radius=canvas.ysize*0.021, color='midnightblue')\n",
    "            else:\n",
    "                canvas.circle(((col/(base-1))*canvas.xsize+canvas.xleft, (row/(base-1))*canvas.ysize+canvas.ytop),\n",
    "                    radius=canvas.ysize*0.009, color='lightslategray')\n",
    "mg.show(hundred_dots, scale=10, values=False, x=[5, 25, 50, 52, 54])\n",
    "\n",
    "\n",
    "from scipy.stats import qmc\n",
    "def halton_sequence(x: float, canvas: mg.Canvas) -> None:\n",
    "    sampler = qmc.Halton(d=2, scramble=False)\n",
    "    sampler.fast_forward(1)\n",
    "    n = int(mg.lerp(x, 0, 1500))\n",
    "    points = sampler.random(n=n)\n",
    "    for i, point in zip(range(n), points):\n",
    "        canvas.circle((point[0]*canvas.xsize+canvas.xleft, point[1]*canvas.ysize+canvas.ytop),\n",
    "                      radius=canvas.ysize*0.013, color='midnightblue')\n",
    "mg.show(halton_sequence, scale=10, x=[5, 25, 50, 52, 54])"
   ]
  }
 ],
 "metadata": {
  "kernelspec": {
   "display_name": ".venv",
   "language": "python",
   "name": "python3"
  },
  "language_info": {
   "codemirror_mode": {
    "name": "ipython",
    "version": 3
   },
   "file_extension": ".py",
   "mimetype": "text/x-python",
   "name": "python",
   "nbconvert_exporter": "python",
   "pygments_lexer": "ipython3",
   "version": "3.13.2"
  }
 },
 "nbformat": 4,
 "nbformat_minor": 2
}
