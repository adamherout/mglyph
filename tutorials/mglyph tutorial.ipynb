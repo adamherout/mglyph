{
 "cells": [
  {
   "cell_type": "markdown",
   "metadata": {},
   "source": [
    "# The Malleable Glyph Tutorial\n",
    "\n",
    "Malleable Glyph and this library and this tutorial is a living thing. \n",
    "If you have suggestions, questions, problems, **please, [e-mail us](https://www.fit.vut.cz/person/herout/)**.\n",
    "\n",
    "# Installation and Setup\n",
    "\n",
    "This code installs the mglyph library and some others, used in this tutorial:"
   ]
  },
  {
   "cell_type": "code",
   "execution_count": null,
   "metadata": {},
   "outputs": [],
   "source": [
    "%pip install mglyph\n",
    "%pip install ipywidgets\n",
    "%pip install numpy\n",
    "%pip install scipy"
   ]
  },
  {
   "cell_type": "markdown",
   "metadata": {},
   "source": [
    "## Connect to Google Drive for storing the Glyphs *(optional)*\n",
    "\n",
    "When using in colab, this cell connects to the Google Drive (some prompts will appear, make sure to select the right account).  When using outside of colab, the folder is just `MGlyphs`.\n",
    "\n",
    "Then, it **makes a folder named `MGlyphs`** in `My Drive/MGlyphs`.  That's where generated glyphs will go to make it really easy to collect them on your computer.\n",
    "\n",
    "Someone may want to set the `outpath` variable to something different?"
   ]
  },
  {
   "cell_type": "code",
   "execution_count": null,
   "metadata": {},
   "outputs": [],
   "source": [
    "import sys\n",
    "if 'google.colab' in sys.modules:\n",
    "    from google.colab import drive\n",
    "    drive.mount('/content/drive')\n",
    "    !mkdir -p /content/drive/MyDrive/MGlyphs\n",
    "    outpath = '/content/drive/MyDrive/MGlyphs'\n",
    "else:\n",
    "    !mkdir MGlyphs\n",
    "    outpath = 'MGlyphs'"
   ]
  },
  {
   "cell_type": "markdown",
   "metadata": {},
   "source": [
    "# Now the Malleable Glyph Tutorial, really\n",
    "\n",
    "## Basics of making a Glyph\n",
    "\n",
    "The glyph is essentially a function that takes two arguments:\n",
    "* `x: float` – the glyph parameter, a number between 0.0 and 100.0\n",
    "* `canvas: mg.Canvas` – the canvas object, where the glyph is to be drawn\n",
    "\n",
    "For example:\n",
    "```\n",
    "def empty_glyph(x: float, canvas: mg.Canvas) -> None:\n",
    "    pass\n",
    "```\n",
    "## Showing the glyph\n",
    "\n",
    "`mg.show(my_glyph)` shows a few versions of the glyph at different parameter values (by default 10, 30, 50, 70, 90).\n",
    "\n",
    "Optional arguments of mg.show() are:\n",
    "* `x=[[10, 50, 90], [5, 6]]` - specifies which glyph sizes to show. A number like `x=50` asks for showing one size. A list of numbers `x=[20, 50, 80]` shows a row of glyphs with the sizes. An aray of lists shows multiple rows with specifies sizes.\n",
    "* `shadow=True` - show the shadow so that one can see where the glyph itself ends.  `True` by default.\n",
    "* `background='whitesmoke'` - background of the compound image with multiple glyphs.\n",
    "* `scale=2.5` - scales the rendered size.  Higher scales (such as 10) are good for examining details for making samples into slides and publications.\n",
    "\n",
    "## Drawing a line: `canvas.line()`\n",
    "\n",
    "`canvas.line((x1, y1), (x2, y2))` draws a line. There are a few optional arguments for customizing the line:\n",
    "* `width='15p'` – sets the line width.  `'15p'` stands for 15 per mille, size relative to the total glyph size.\n",
    "* `linecap='round'` – sets the shape of the line ends. Possible line ends: `'butt'`, `'round'`, `'square'`\n",
    "* `color='blue'` – sets the color. The colors can be for example: [`'darkslateblue'`](https://developer.mozilla.org/en-US/docs/Web/CSS/named-color), `'#483d8b'` is the same color as a hex code, `(0.282, 0.239, 0.545)` is the same color as a triplet of RGB values, and `(0.282, 0.239, 0.545, 0.4)` has 40% alpha (the color is semi-transparent).\n",
    "\n",
    "## Now the very simplest glyph: `simple_horizontal_line`"
   ]
  },
  {
   "cell_type": "code",
   "execution_count": null,
   "metadata": {},
   "outputs": [],
   "source": [
    "import mglyph as mg\n",
    "\n",
    "def simple_horizontal_line(x: float, canvas: mg.Canvas) -> None:\n",
    "    canvas.line((mg.lerp(x, canvas.xcenter, canvas.xleft), canvas.ycenter),    # line start\n",
    "                (mg.lerp(x, canvas.xcenter, canvas.xright), canvas.ycenter),   # line end\n",
    "                width='35p', linecap='round', color='darkslateblue')\n",
    "\n",
    "mg.show(simple_horizontal_line, \n",
    "        x=[[5, 25, 50, 75, 95],\n",
    "           [5, 7, 9, 11, 13]])"
   ]
  },
  {
   "cell_type": "markdown",
   "metadata": {},
   "source": [
    "## Exporting Glyph for Evaluation: `mg.export()`\n",
    "\n",
    "* `name=` – title or short description of the glyph. Something like a chapter title in a book.\n",
    "* `short_name=` – short name for listings and leaderboards of glyphs. Something like a file name.\n",
    "* `path=` – file to store the glyph into (possibly including the directory path to the file).  The glyph is essentially a `.zip` file with many files in it.  Naming it `xxx.zip` makes sense, naming it `xxx.mglyph` also makes sense.\n",
    "* `author=`, `email=` – info about the author.  Optional.  Makes much sense for challenge submissions, so that the challenge organizers can contact the author.\n",
    "* `author_public=False` – Show author's name in the leaderboards and glyph lists.  `False` by default.  The e-mail is never shown in public lists and pages by the challenge organizers; it is there for the purpose of contacting the authors.\n",
    "* `xvalues=[x / 1000 * 100 for x in range(1001)]` – specification of what *x*-values to export.  By default, 1000 different *x*-values are exported: 0.0, 0.1, 0.2, 0.3, ... 100.0.  You may export less files or more, e.g. `xvalues=[2.0*x for x in range(51)]` exports values: 0, 2, 4, ... 50.\n",
    "\n",
    "<span style=\"background-color:Gold\">TODO: use np.linspace instead</span>"
   ]
  },
  {
   "cell_type": "code",
   "execution_count": null,
   "metadata": {},
   "outputs": [],
   "source": [
    "import os\n",
    "mg.export(simple_horizontal_line, xvalues=[2.0*x for x in range(51)],\n",
    "          name=\"Simple Horizontal Line\", short_name='line',\n",
    "          path=os.path.join(outpath, \"Simple Horizontal Line.mglyph\"),\n",
    "          author=\"Jane Designoff\", email=\"j.designoff@gmail.com\", version=\"1.0.0\")"
   ]
  },
  {
   "cell_type": "markdown",
   "metadata": {},
   "source": [
    "## Interactive visualization\n",
    "\n",
    "`mg.interact(my_glyph)` runs an interactive playground, where you can tweak the parameter `x` and see what your glyph looks like.\n",
    "\n",
    "You can use `mg.interact()` with any glyph to play around."
   ]
  },
  {
   "cell_type": "code",
   "execution_count": null,
   "metadata": {},
   "outputs": [],
   "source": [
    "mg.interact(simple_horizontal_line)"
   ]
  },
  {
   "cell_type": "markdown",
   "metadata": {},
   "source": [
    "## Simple quare of lines `simple_scaled_square` and filled 'simple_filled_square'\n",
    "\n",
    "`mg.lerp(x, from, to)` – interpolates based on the parameter.  When `x==0.0`, the value is equal to `from`, when `x==100.0`, the value is equal to `to`, in between, the value is linearly interpolated.\n",
    "\n",
    "The canvas knows important values that are usable for interpolating:\n",
    "* `canvas.xleft`, `canvas.xcenter`, `canvas.xright`\n",
    "* `canvas.ytop`, `canvas.ycenter`, `canvas.ybottom`\n",
    "* `canvas.xsize`, `canvas.ysize`\n",
    "* `canvas.center` – is a tuple of `(canvas.xcenter, canvas.ycenter)`\n",
    "\n",
    "But for square glyphs, the canvas is set so that the horizontal and vertical coordinates are from -1 to 1.\n",
    "\n",
    "`canvas.rect(top_left, bottom_right, color='darksalmon')` – draws a rectangle\n",
    "* `tl: tuple[float, float]` - top-left point\n",
    "* `br: tuple[float, float]` - bottom-right point\n",
    "* `color: list[int] | tuple[int] | list[float] | tuple[float] | str = 'black'` - color of lines or fill (depending on `style=`)\n",
    "* `width: float | str='20p'` - stroke width (`'1p'` is 1/1000 of the glyph dimension)\n",
    "* `style: str='fill'` - drawing style (`fill` or `stroke`)\n",
    "* `cap: str='butt'` - style of the line ends  <span style=\"background-color:Gold\">what are other possibilities?</style>\n",
    "* `join: str='miter'` - style of how the lines are joining <span style=\"background-color:Gold\">what are other possibilities?</style>"
   ]
  },
  {
   "cell_type": "code",
   "execution_count": null,
   "metadata": {},
   "outputs": [],
   "source": [
    "def simple_scaled_square(x: float, canvas: mg.Canvas) -> None:\n",
    "    tl = (mg.lerp(x, 0.0, -1), mg.lerp(x, 0.0, -1.0))\n",
    "    br = (mg.lerp(x, 0, 1), mg.lerp(x, 0, 1))\n",
    "    canvas.rect(tl, br, color='darkslategray', style='stroke', width='27p')\n",
    "\n",
    "def simple_filled_square(x: float, canvas: mg.Canvas) -> None:\n",
    "    tl = (mg.lerp(x, 0.0, -1), mg.lerp(x, 0.0, -1.0))\n",
    "    br = (mg.lerp(x, 0, 1), mg.lerp(x, 0, 1))\n",
    "    canvas.rect(tl, br, color='darksalmon', style='fill')\n",
    "\n",
    "mg.show(simple_scaled_square)\n",
    "mg.show(simple_filled_square)"
   ]
  }
 ],
 "metadata": {
  "kernelspec": {
   "display_name": ".venv",
   "language": "python",
   "name": "python3"
  },
  "language_info": {
   "codemirror_mode": {
    "name": "ipython",
    "version": 3
   },
   "file_extension": ".py",
   "mimetype": "text/x-python",
   "name": "python",
   "nbconvert_exporter": "python",
   "pygments_lexer": "ipython3",
   "version": "3.13.2"
  }
 },
 "nbformat": 4,
 "nbformat_minor": 2
}
