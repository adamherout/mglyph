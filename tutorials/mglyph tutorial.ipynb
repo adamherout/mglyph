{
 "cells": [
  {
   "cell_type": "markdown",
   "metadata": {},
   "source": [
    "# The Malleable Glyph Tutorial\n",
    "\n",
    "Malleable Glyph and this library and this tutorial is a living thing. \n",
    "If you have suggestions, questions, problems, **please, [e-mail us](https://www.fit.vut.cz/person/herout/)**.\n",
    "\n",
    "# Installation and Setup\n",
    "\n",
    "This code installs the mglyph library and some others, used in this tutorial:"
   ]
  },
  {
   "cell_type": "code",
   "execution_count": null,
   "metadata": {},
   "outputs": [],
   "source": [
    "%pip install mglyph\n",
    "#%pip install ipywidgets\n",
    "#%pip install scipy"
   ]
  },
  {
   "cell_type": "markdown",
   "metadata": {},
   "source": [
    "## Connect to Google Drive for storing the Glyphs *(optional)*\n",
    "\n",
    "When using in colab, this cell connects to the Google Drive (some prompts will appear, make sure to select the right account).  When using outside of colab, the folder is just `MGlyphs`.\n",
    "\n",
    "Then, it **makes a folder named `MGlyphs`** in `My Drive/MGlyphs`.  That's where generated glyphs will go to make it really easy to collect them on your computer.\n",
    "\n",
    "Someone may want to set the `outpath` variable to something different?"
   ]
  },
  {
   "cell_type": "code",
   "execution_count": null,
   "metadata": {},
   "outputs": [],
   "source": [
    "import sys\n",
    "if 'google.colab' in sys.modules:\n",
    "    from google.colab import drive\n",
    "    drive.mount('/content/drive')\n",
    "    !mkdir -p /content/drive/MyDrive/MGlyphs\n",
    "    outpath = '/content/drive/MyDrive/MGlyphs'\n",
    "else:\n",
    "    !mkdir MGlyphs\n",
    "    !mkdir videos\n",
    "    outpath = 'MGlyphs'"
   ]
  },
  {
   "cell_type": "markdown",
   "metadata": {},
   "source": [
    "# Now the Malleable Glyph Tutorial, really\n",
    "\n",
    "## Basics of making a Glyph\n",
    "\n",
    "The glyph is essentially a function that takes two arguments:\n",
    "* `x: float` – the glyph parameter, a number between 0.0 and 100.0\n",
    "* `canvas: mg.Canvas` – the canvas object, where the glyph is to be drawn\n",
    "\n",
    "For example:\n",
    "```\n",
    "def empty_glyph(x: float, canvas: mg.Canvas) -> None:\n",
    "    pass\n",
    "```\n",
    "## Showing the glyph\n",
    "\n",
    "`mg.show(my_glyph)` shows a few versions of the glyph at different parameter values (by default 10, 30, 50, 70, 90).\n",
    "\n",
    "Optional arguments of mg.show() are:\n",
    "* `x=[[10, 50, 90], [5, 6]]` – specifies which glyph sizes to show. A number like `x=50` asks for showing one size. A list of numbers `x=[20, 50, 80]` shows a row of glyphs with the sizes. An aray of lists shows multiple rows with specifies sizes.\n",
    "* `shadow=True` – show the shadow so that one can see where the glyph itself ends.  `True` by default.\n",
    "* `background='whitesmoke'` – background of the compound image with multiple glyphs.\n",
    "* `scale=2.5` – scales the rendered size.  Higher scales (such as 10) are good for examining details and for making samples into slides and publications.\n",
    "\n",
    "## Drawing a line: `canvas.line()`\n",
    "\n",
    "`canvas.line((x1, y1), (x2, y2))` draws a line. There are a few optional arguments for customizing the line:\n",
    "* `width='15p'` – sets the line width.  `'15p'` stands for 15 per mille, size relative to the total glyph size.\n",
    "* `linecap='round'` – sets the shape of the line ends. Possible line ends: `'butt'`, `'round'`, `'square'`\n",
    "* `color='blue'` – sets the color. The colors can be for example: [`'darkslateblue'`](https://developer.mozilla.org/en-US/docs/Web/CSS/named-color), `'#483d8b'` is the same color as a hex code, `(0.282, 0.239, 0.545)` is the same color as a triplet of RGB values, and `(0.282, 0.239, 0.545, 0.4)` has 40% alpha (the color is semi-transparent).\n",
    "\n",
    "## Now the very simplest glyph: `simple_horizontal_line`"
   ]
  },
  {
   "cell_type": "code",
   "execution_count": null,
   "metadata": {},
   "outputs": [],
   "source": [
    "import mglyph as mg\n",
    "\n",
    "def simple_horizontal_line(x: float, canvas: mg.Canvas) -> None:\n",
    "    canvas.line((mg.lerp(x, canvas.xcenter, canvas.xleft), canvas.ycenter),    # line start\n",
    "                (mg.lerp(x, canvas.xcenter, canvas.xright), canvas.ycenter),   # line end\n",
    "                width='70p', linecap='round', color='darkslateblue')\n",
    "\n",
    "mg.show(simple_horizontal_line, \n",
    "        x=[[5, 25, 50, 75, 95],\n",
    "           [5, 7, 9, 11, 13]])"
   ]
  },
  {
   "cell_type": "markdown",
   "metadata": {},
   "source": [
    "## Exporting Glyph for Evaluation: `mg.export()`\n",
    "\n",
    "* `name=` – title or short description of the glyph. Something like a chapter title in a book.\n",
    "* `short_name=` – short name for listings and leaderboards of glyphs. Something like a file name.\n",
    "* `path=` – file to store the glyph into (possibly including the directory path to the file).  The glyph is essentially a `.zip` file with many files in it.  Naming it `xxx.zip` makes sense, naming it `xxx.mglyph` also makes sense.  If the file name contains the string `VERSION`, it is replaced with the version info provided.\n",
    "* `author=`, `email=` – info about the author.  Optional.  Makes much sense for challenge submissions, so that the challenge organizers can contact the author.\n",
    "* `version='1.0.0'` – version string.\n",
    "* `xvalues=np.linspace(0.0, 100.0, 1001)` – specification of what *x*-values to export.  By default, 1001 different *x*-values are exported: 0.0, 0.1, 0.2, 0.3, ... 100.0.  You may export less files or more, e.g. `xvalues=np.linspace(0.0, 100.0, 51)` exports values: 0, 2, 4, ... 100."
   ]
  },
  {
   "cell_type": "code",
   "execution_count": null,
   "metadata": {},
   "outputs": [],
   "source": [
    "import os\n",
    "import numpy as np\n",
    "mg.export(simple_horizontal_line, xvalues=np.linspace(0.0, 100.0, 201),\n",
    "          name=\"Simple Horizontal Line\", short_name='line',\n",
    "          path=os.path.join(outpath, \"Simple Horizontal Line-VERSION.mglyph\"),\n",
    "          author=\"Jane Designoff\", email=\"j.designoff@gmail.com\", version=\"1.0.0\")"
   ]
  },
  {
   "cell_type": "markdown",
   "metadata": {},
   "source": [
    "## Interactive visualization\n",
    "\n",
    "`mg.interact(my_glyph)` runs an interactive playground, where you can tweak the parameter `x` and see what your glyph looks like.\n",
    "\n",
    "You can use `mg.interact()` with any glyph to play around."
   ]
  },
  {
   "cell_type": "code",
   "execution_count": null,
   "metadata": {},
   "outputs": [],
   "source": [
    "mg.interact(simple_horizontal_line)"
   ]
  },
  {
   "cell_type": "markdown",
   "metadata": {},
   "source": [
    "## Visualization by a short video\n",
    "\n",
    "`mg.show_video(my_glyph)` renders a short video (\"GIF\") that showcases the glyph.\n",
    "\n",
    "`ffmpeg` tool must be installed in the system.  Windows installation is nicely [described here](https://www.windowsdigitals.com/install-ffmpeg-windows-11-python/), for Linux, something like `sudo apt install ffmpeg` will work.\n",
    "\n",
    "Due to some limitations of `matplotlib`, showing of the video needs a bit of some extra code at the moment."
   ]
  },
  {
   "cell_type": "code",
   "execution_count": null,
   "metadata": {},
   "outputs": [],
   "source": [
    "from IPython.display import HTML\n",
    "import mglyph as mg\n",
    "def blue_line(x: float, canvas:mg.Canvas) -> None:\n",
    "    canvas.line((mg.lerp(x, 0, -1), 0), (mg.lerp(x, 0, 1), 0),\n",
    "                width='50p', color='navy', linecap='round')\n",
    "def red_line(x: float, canvas:mg.Canvas) -> None:\n",
    "    canvas.line((mg.lerp(x, 0, -1), 0), (mg.lerp(x, 0, 1), 0),\n",
    "                width='20p', color='firebrick', linecap='round')\n",
    " \n",
    "vid = mg.show_video([blue_line, red_line], duration=1.0, reflect=True, scale=2, values=True, fps=60, values_format='.2f')\n",
    "vid.save(os.path.join(outpath, 'two-lines.mp4'))  # optional saving, can be skipped\n",
    "HTML(vid.to_html5_video())"
   ]
  },
  {
   "cell_type": "markdown",
   "metadata": {},
   "source": [
    "## Simple quare of lines `simple_scaled_square` and filled `simple_filled_square`\n",
    "\n",
    "`mg.lerp(x, from, to)` – interpolates based on the parameter.  When `x==0.0`, the value is equal to `from`, when `x==100.0`, the value is equal to `to`, in between, the value is linearly interpolated.\n",
    "\n",
    "The canvas knows important values that are usable for interpolating:\n",
    "* `canvas.xleft`, `canvas.xcenter`, `canvas.xright`\n",
    "* `canvas.ytop`, `canvas.ycenter`, `canvas.ybottom`\n",
    "* `canvas.xsize`, `canvas.ysize`\n",
    "* `canvas.center` – is a tuple of `(canvas.xcenter, canvas.ycenter)`\n",
    "\n",
    "But for square glyphs, the canvas is set so that the horizontal and vertical coordinates are from -1 to 1.\n",
    "\n",
    "`canvas.rect(top_left, bottom_right, color='darksalmon')` – draws a rectangle\n",
    "* `tl: tuple[float, float]` – top-left point\n",
    "* `br: tuple[float, float]` – bottom-right point\n",
    "* `color: list[int] | tuple[int] | list[float] | tuple[float] | str = 'black'` – color of lines or fill (depending on `style=`)\n",
    "* `width: float | str='20p'` – stroke width (`'1p'` is 1/1000 of the glyph dimension)\n",
    "* `style: str='fill'` – drawing style (`fill` or `stroke`)\n",
    "* `linecap: str='butt'` – style of the line ends (`'butt'`, `'round'`, `'square'`)\n",
    "* `linejoin: str='miter'` – style of how the lines are joining (`'miter'`, `'round'`, `'bevel'`)"
   ]
  },
  {
   "cell_type": "code",
   "execution_count": null,
   "metadata": {},
   "outputs": [],
   "source": [
    "def simple_scaled_square(x: float, canvas: mg.Canvas) -> None:\n",
    "    tl = (mg.lerp(x, 0.0, -1), mg.lerp(x, 0.0, -1.0))\n",
    "    br = (mg.lerp(x, 0, 1), mg.lerp(x, 0, 1))\n",
    "    canvas.rect(tl, br, color='darkslategray', style='stroke', width='27p')\n",
    "\n",
    "def simple_filled_square(x: float, canvas: mg.Canvas) -> None:\n",
    "    tl = (mg.lerp(x, 0.0, -1), mg.lerp(x, 0.0, -1.0))\n",
    "    br = (mg.lerp(x, 0, 1), mg.lerp(x, 0, 1))\n",
    "    canvas.rect(tl, br, color='darksalmon', style='fill')\n",
    "\n",
    "mg.show(simple_scaled_square)\n",
    "mg.show(simple_filled_square)"
   ]
  },
  {
   "cell_type": "markdown",
   "metadata": {},
   "source": [
    "## Rectangle with rounded corners\n",
    "\n",
    "Each corner can have a different radius (or be sharp, when radius is zero)."
   ]
  },
  {
   "cell_type": "code",
   "execution_count": null,
   "metadata": {},
   "outputs": [],
   "source": [
    "def progress_bar(x: float, canvas: mg.Canvas) -> None:\n",
    "    for i in range(10):\n",
    "        canvas.line((mg.lerp(10*i, -1, 1), -0.1), (mg.lerp(10*i, -1, 1), 0.1), \n",
    "                    color='darkgray', width='5p')\n",
    "        canvas.line((mg.lerp(10*i+5, -1, 1), -0.05), (mg.lerp(10*i+5, -1, 1), 0.05), \n",
    "                    color='silver', width='5p')\n",
    "    canvas.rounded_rect((-1, -0.2), (mg.lerp(x, -1, 1), 0.2), 0.05, 0.0, 0.0, 0.05, \n",
    "                        style='fill', color='cornflowerblue')\n",
    "    canvas.rounded_rect((-1, -0.2), (1, 0.2), 0.05, 0.05, 0.05, 0.05, \n",
    "                        style='stroke', color='midnightblue', width='20p')\n",
    "\n",
    "mg.show(progress_bar, scale=5)\n",
    "HTML(mg.show_video(progress_bar, scale=3, reflect=True).to_html5_video())"
   ]
  },
  {
   "cell_type": "markdown",
   "metadata": {},
   "source": [
    "## Simple circle: `simple_scaled_circle`, `simple_filled_circle`\n",
    "\n",
    "`canvas.circle(center, radius, ...)` – draws a circle"
   ]
  },
  {
   "cell_type": "code",
   "execution_count": null,
   "metadata": {},
   "outputs": [],
   "source": [
    "def simple_scaled_circle(x: float, canvas: mg.Canvas) -> None:\n",
    "  canvas.circle(canvas.center, mg.lerp(x, 0.01, canvas.ysize/2), color='navy', style='stroke', width='20p')\n",
    "\n",
    "def simple_filled_circle(x: float, canvas: mg.Canvas) -> None:\n",
    "  canvas.circle(canvas.center, mg.lerp(x, 0.01, canvas.ysize/2), color='navy', style='fill')\n",
    "\n",
    "mg.show(simple_scaled_circle)\n",
    "mg.show(simple_filled_circle)"
   ]
  },
  {
   "cell_type": "markdown",
   "metadata": {},
   "source": [
    "## Simple ellipse: `simple_scaled_ellipse`\n",
    "\n",
    "`canvas.ellipse(center, radius_x, radius_y, paint)` – draws an ellipse"
   ]
  },
  {
   "cell_type": "code",
   "execution_count": null,
   "metadata": {},
   "outputs": [],
   "source": [
    "def simple_scaled_ellipse(x: float, canvas: mg.Canvas) -> None:\n",
    "    canvas.ellipse(canvas.center, mg.lerp(x, 0.01, 1), mg.lerp(x, 0.5, 1))\n",
    "\n",
    "mg.show(simple_scaled_ellipse)"
   ]
  },
  {
   "cell_type": "markdown",
   "metadata": {},
   "source": [
    "## Five-pointed star made of lines: `simple_scaled_star`\n",
    "\n",
    "`mg.orbit((x, y), angle, radius)` – is a helper function for rotating around a center. `angle` is in radians, starting at north, increasing counter-clockwise. `radius` is the distance of the orbiting point from the center.\n",
    "\n",
    "The canvas offers the coordinates of the central point `canvas.center` for conveniently orbiting around the glyph center.\n",
    "\n",
    "`canvas.polygon()` - draws a polygon, filled or its outline\n",
    "* `vertices: list[tuple[float, float]]` - list of vertices\n",
    "* `color: list[int] | tuple[int] | list[float] | tuple[float] | str = 'black'` - color\n",
    "* `width: float | str='20p'` - stroke width (`'1p'` is 1/1000 of the glyph dimension)\n",
    "* `style: str='fill'` - drawing style (`'fill'` or `'stroke'`)\n",
    "* `linecap: str='butt'` - style of the line ends (`'butt'`, `'round'`, `'square'`)\n",
    "* `linejoin: str='miter'` - style of how the lines are joining (`'miter'`, `'round'`, `'bevel'`)\n",
    "* `closed: bool=True` - polygon closed"
   ]
  },
  {
   "cell_type": "code",
   "execution_count": null,
   "metadata": {},
   "outputs": [],
   "source": [
    "import math\n",
    "\n",
    "def simple_scaled_star(x: float, canvas: mg.Canvas) -> None:\n",
    "    center = (0, mg.lerp(x, 0, 0.08))\n",
    "    radius = mg.lerp(x, 0.01, canvas.ysize/2)\n",
    "    vertices = []\n",
    "    for segment in range(5):\n",
    "        vertices.append(mg.orbit(center, segment * 2*math.pi/5, radius))\n",
    "        vertices.append(mg.orbit(center, (segment + 0.5) * 2*math.pi/5, math.cos(2*math.pi/5)/math.cos(math.pi/5) * radius))\n",
    "    canvas.polygon(vertices, color='indigo', closed=True, style='stroke', width='20p', linejoin='round')\n",
    "\n",
    "def simple_filled_star(x: float, canvas: mg.Canvas) -> None:\n",
    "    center = (0, mg.lerp(x, 0, 0.08))\n",
    "    radius = mg.lerp(x, 0.01, canvas.ysize/2)\n",
    "    vertices = []\n",
    "    for segment in range(5):\n",
    "        vertices.append(mg.orbit(center, segment * 2*math.pi/5, radius))\n",
    "        vertices.append(mg.orbit(center, (segment + 0.5) * 2*math.pi/5, math.cos(2*math.pi/5)/math.cos(math.pi/5) * radius))\n",
    "    canvas.polygon(vertices, color='indigo', closed=True, style='fill', width='20p', linejoin='round')\n",
    "\n",
    "mg.show(simple_scaled_star, x=[[5, 25, 50, 75, 95],\n",
    "                               [0, 2, 4, 6, 8],\n",
    "                               [92, 94, 96, 98, 100]], scale=2)\n",
    "mg.show(simple_filled_star, x=[[5, 25, 50, 75, 95],\n",
    "                               [0, 2, 4, 6, 8],\n",
    "                               [92, 94, 96, 98, 100]], scale=2)\n",
    "HTML(mg.show_video(simple_scaled_star, duration=1.0, reflect=True, scale=2, values=True, fps=30).to_html5_video())"
   ]
  },
  {
   "cell_type": "markdown",
   "metadata": {},
   "source": [
    "## Three-Handed Clock – Efficient but not eligible as a malleable glyph\n",
    "\n",
    "An example of a design that **violates the rule of illiteracy**.  \n",
    "\n",
    "Unfortunately, this design is **not elligible** as a malleable glyph, and similarly, other designs that would use multiple indicators that are combined together, turning into certain graphical **digits** of different **orders**."
   ]
  },
  {
   "cell_type": "code",
   "execution_count": null,
   "metadata": {},
   "outputs": [],
   "source": [
    "import math\n",
    "def three_handed_clock(x: float, canvas: mg.Canvas) -> None:\n",
    "  # draw 12 hour-marks\n",
    "  for hour in range(12):\n",
    "    canvas.line(mg.orbit(canvas.center, hour*math.pi/6, 0.8 * canvas.ysize/2),\n",
    "                mg.orbit(canvas.center, hour*math.pi/6, canvas.ysize/2),\n",
    "                         linecap='round', color=(0,0,0.5), width='38p')\n",
    "    canvas.line(mg.orbit(canvas.center, hour*math.pi/6, 0.8 * canvas.ysize/2),\n",
    "                mg.orbit(canvas.center, hour*math.pi/6, canvas.ysize/2),\n",
    "                         linecap='round', color='white', width='31p')\n",
    "\n",
    "  # positions of hands in radians\n",
    "  hangle = -x/100 * 2*math.pi\n",
    "  mangle = -x/100 * 12*2*math.pi\n",
    "  sangle = -x/100 * 60*12*2*math.pi\n",
    "\n",
    "  # draw clock's hands\n",
    "  canvas.line(canvas.center, mg.orbit(canvas.center, hangle, 0.62*canvas.ysize/2), \n",
    "              linecap='round', color='#333333', width='55p')\n",
    "  canvas.line(canvas.center, mg.orbit(canvas.center, mangle, 1.0*canvas.ysize/2), \n",
    "              linecap='round', color='midnightblue', width='20p', style='stroke')\n",
    "  canvas.line(mg.orbit(canvas.center, sangle+math.pi, 0.2*canvas.ysize/2),\n",
    "              mg.orbit(canvas.center, sangle, 1.0*canvas.ysize/2), \n",
    "              linecap='round', color='maroon', width='10p', style='stroke')\n",
    "    \n",
    "mg.show(three_handed_clock, scale=5, shadow=True, border=False,\n",
    "        x=[[5, 25, 50, 75, 95],\n",
    "           [5.00, 5.01, 5.02, 5.03, 5.04],\n",
    "           [61.000, 61.002, 61.004, 61.006, 61.008]])\n",
    "HTML(mg.show_video(three_handed_clock, duration=5.0, reflect=False, scale=4, values=True, fps=120).to_html5_video())"
   ]
  },
  {
   "cell_type": "markdown",
   "metadata": {},
   "source": [
    "## One-Handed Clock – This one is elligible\n",
    "\n",
    "There are three variants, adding static decoration on the clock face.  It is worth testing whether there would be differences and which one performs best!"
   ]
  },
  {
   "cell_type": "code",
   "execution_count": null,
   "metadata": {},
   "outputs": [],
   "source": [
    "def one_handed_clock(x: float, canvas: mg.Canvas) -> None:\n",
    "  canvas.circle(canvas.center, radius=canvas.ysize/30, color='darkslategray', style='stroke', width='20p')\n",
    "  angle = -x/100 * 2*math.pi\n",
    "  canvas.line(mg.orbit(canvas.center, angle+math.pi, 0.18 * canvas.ysize/2),\n",
    "              mg.orbit(canvas.center, angle, 1.0*canvas.ysize/2),  \n",
    "              width='10p', linecap='round', color='maroon')\n",
    "\n",
    "def one_handed_clock_with_hticks(x: float, canvas: mg.Canvas) -> None:\n",
    "  for hour in range(12):\n",
    "    canvas.line(mg.orbit(canvas.center, hour*math.pi/6, 0.8 * canvas.ysize/2),\n",
    "                mg.orbit(canvas.center, hour*math.pi/6, canvas.ysize/2),\n",
    "                         linecap='round', color=(0,0,0.5), width='38p')\n",
    "    canvas.line(mg.orbit(canvas.center, hour*math.pi/6, 0.8 * canvas.ysize/2),\n",
    "                mg.orbit(canvas.center, hour*math.pi/6, canvas.ysize/2),\n",
    "                         linecap='round', color='white', width='31p')\n",
    "  one_handed_clock(x, canvas)\n",
    "\n",
    "def one_handed_clock_with_mticks(x: float, canvas: mg.Canvas) -> None:\n",
    "  for minute in range(60):\n",
    "    canvas.line(mg.orbit(canvas.center, minute*math.pi/30, 0.88*canvas.ysize/2),\n",
    "                mg.orbit(canvas.center, minute*math.pi/30, 1.0*canvas.ysize/2), \n",
    "                width='5p', linecap='round', color='black')\n",
    "  one_handed_clock_with_hticks(x, canvas)\n",
    "\n",
    "mg.show(one_handed_clock, scale=2,\n",
    "        x=[[5, 25, 50, 75, 95], [20, 21, 22, 23, 24]])\n",
    "mg.show(one_handed_clock_with_hticks, scale=2,\n",
    "        x=[[5, 25, 50, 75, 95], [20, 21, 22, 23, 24]])\n",
    "mg.show(one_handed_clock_with_mticks, scale=2,\n",
    "        x=[[5, 25, 50, 75, 95], [20, 21, 22, 23, 24]])"
   ]
  },
  {
   "cell_type": "markdown",
   "metadata": {},
   "source": [
    "## A Hundred Dots: Another design that is not eligible\n",
    "\n",
    "This design again uses some kind of **orders** or **digits** - the user wouls see how many rows are filled and how many dots in the last row, like a digit in the order of 10's and units.  This is not allowed.\n",
    "\n",
    "The question to ask the glyph must be from the domain of \"**how much?**\", not \"**how many?**\""
   ]
  },
  {
   "cell_type": "code",
   "execution_count": null,
   "metadata": {},
   "outputs": [],
   "source": [
    "def hundred_dots(x: float, canvas: mg.Canvas) -> None:\n",
    "    canvas.tr.scale(0.92)\n",
    "    base = 10\n",
    "    for row in range(base):\n",
    "        for col in range(base):\n",
    "            if (row*base + col) <= mg.lerp(x, 0, base**2):\n",
    "                canvas.circle(((col/(base-1))*canvas.xsize+canvas.xleft, (row/(base-1))*canvas.ysize+canvas.ytop),\n",
    "                    radius=canvas.ysize*0.021, color='midnightblue')\n",
    "            else:\n",
    "                canvas.circle(((col/(base-1))*canvas.xsize+canvas.xleft, (row/(base-1))*canvas.ysize+canvas.ytop),\n",
    "                    radius=canvas.ysize*0.009, color='lightslategray')\n",
    "\n",
    "mg.show(hundred_dots, x=[[5, 25, 50, 75, 95], [20, 21, 22, 23, 24]])"
   ]
  },
  {
   "cell_type": "markdown",
   "metadata": {},
   "source": [
    "## Halton Sequence Dots: This design uses the same dots, but is eligible\n",
    "\n",
    "A glyph can contain discrete dots.  It only must avoid using **orders** or **digits**.  \n",
    "\n",
    "The question to ask the glyph here is \"**how much?**\", i.e. \"how much dense are the dots?\", instead of \"how many dots are there in the last line?\""
   ]
  },
  {
   "cell_type": "code",
   "execution_count": null,
   "metadata": {},
   "outputs": [],
   "source": [
    "from scipy.stats import qmc\n",
    "\n",
    "def halton_sequence(x: float, canvas: mg.Canvas) -> None:\n",
    "    sampler = qmc.Halton(d=2, scramble=False)\n",
    "    sampler.fast_forward(1)\n",
    "    n = int(mg.lerp(x, 0, 1000))\n",
    "    points = sampler.random(n=n)\n",
    "    for i, point in zip(range(n), points):\n",
    "        canvas.circle((point[0]*canvas.xsize+canvas.xleft, point[1]*canvas.ysize+canvas.ytop),\n",
    "                      radius=canvas.ysize*0.015, color='midnightblue')\n",
    "\n",
    "mg.show(halton_sequence)\n",
    "HTML(mg.show_video(halton_sequence, duration=2.0, reflect=True, scale=4, values=True, fps=60).to_html5_video())"
   ]
  },
  {
   "cell_type": "markdown",
   "metadata": {},
   "source": [
    "## Fractal Tree\n",
    "\n",
    "This fractal tree is using built-in transformations:\n",
    "\n",
    "* `canvas.tr.scale(s)`\n",
    "* `canvas.tr.translate(x, y)`\n",
    "* `canvas.tr.rotate(angle)`\n",
    "* `canvas.tr.push()` and `canvas.tr.pop()`"
   ]
  },
  {
   "cell_type": "code",
   "execution_count": null,
   "metadata": {},
   "outputs": [],
   "source": [
    "def fractal_tree(x: float, canvas: mg.Canvas) -> None:\n",
    "    angle = x * 0.5\n",
    "    def branch(length: float, depth: int):\n",
    "        canvas.line((0, 0), (0, -length), width=canvas.xsize * 0.05 / depth, linecap='round')\n",
    "        canvas.tr.translate(0, -length)\n",
    "        if depth < 10:\n",
    "            canvas.tr.push()\n",
    "            canvas.tr.rotate(angle)\n",
    "            branch(length * 0.67, depth + 1)\n",
    "            canvas.tr.pop()\n",
    "            canvas.tr.push()\n",
    "            canvas.tr.rotate(-angle)\n",
    "            branch(length * 0.67, depth + 1)\n",
    "            canvas.tr.pop()\n",
    "\n",
    "    canvas.tr.translate(canvas.xcenter, canvas.ybottom)\n",
    "    canvas.tr.translate(0, -0.05*canvas.ysize)\n",
    "    canvas.tr.scale(0.8)\n",
    "    branch(0.75, 1)\n",
    "\n",
    "mg.show(fractal_tree, scale=5)"
   ]
  },
  {
   "cell_type": "markdown",
   "metadata": {},
   "source": [
    "## Shepard Circle: Inspired by the Shepard-Risset Glissando\n",
    "\n",
    "[Shepard-Risset glissando](https://en.wikipedia.org/wiki/Shepard_tone) served as an inspiration for this glyph:\n",
    "\n",
    "> A Shepard tone, named after Roger Shepard, is a sound consisting of a superposition of sine waves separated by octaves. When played with the bass pitch of the tone moving upward or downward, it is referred to as the Shepard scale. This creates the auditory illusion of a tone that seems to continually ascend or descend in pitch, yet which ultimately gets no higher or lower. \n",
    "> Jean-Claude Risset subsequently created a version of the scale where the tones glide continuously, and it is appropriately called the continuous Risset scale or Shepard–Risset glissando. When done correctly, the tone appears to rise (or fall) continuously in pitch, yet return to its starting note. Risset has also created a similar effect with rhythm in which tempo seems to increase or decrease endlessly.\n",
    "\n",
    "See and hear this cool video: [Shepard Tone spectrum video visualization](https://en.wikipedia.org/wiki/File:Shepard_Tone_spectrum_video_visualization.webm)\n",
    "\n",
    "The glyph is equal for $x=0$ and $x=100$ and appears to be always increasing/decreasing.  For example, glyph with $x=80$ would be perceived as naturally lower than $x=10$, about as much lower as $x=40$ to $x=70$.  \n",
    "\n",
    "Like a volume control in a contemporary car – the volume control is relative and there seems to be no beginning and no end of the volume range."
   ]
  },
  {
   "cell_type": "code",
   "execution_count": null,
   "metadata": {},
   "outputs": [],
   "source": [
    "def shepard_circle(x: float, canvas: mg.Canvas) -> None:\n",
    "  base_radius = mg.lerp(x, canvas.ysize/4, canvas.ysize/2)\n",
    "  base_width = mg.lerp(x, canvas.ysize/100, canvas.ysize/50)\n",
    "  for r in [2, 1, 1/2, 1/4, 1/8, 1/16, 1/32, 1/64, 1/128, 1/256]:\n",
    "    canvas.circle(canvas.center, r*base_radius, style='stroke', color='saddlebrown', width=(r+0.2)*base_width)\n",
    "\n",
    "mg.show(shepard_circle, x=[0, 25, 50, 75, 100])"
   ]
  },
  {
   "cell_type": "markdown",
   "metadata": {},
   "source": [
    "## Composite Glyphs\n",
    "\n",
    "Using digits or orders, like in the Three-Handed Clock or A Hundred Dots is not allows for a malleable glyph.\n",
    "\n",
    "However, it is allowed to composite the glyph of several *phased* features.  In the following examples, the individual features are four circles, each of them gets their own quadrant of the whole glyph.  But that's just a simple exmample, but no rule – the features can overlap, they can be of different nature (shape, scale, texture, color, anything), whatever. \n",
    "\n",
    "**Composite Malleable Glyphs** (or phased glyphs) are legitimate and open space for better and nicer glyphs."
   ]
  },
  {
   "cell_type": "code",
   "execution_count": null,
   "metadata": {},
   "outputs": [],
   "source": [
    "from IPython.display import display, HTML\n",
    "\n",
    "def cubic_bezier_point(t:float, a:float, b:float, c:float, d:float) -> (float, float):\n",
    "    p0 = 0.0  # Start in time (t=0)\n",
    "    p3 = 1.0  # End in time (t=1)\n",
    "    x = (1 - t)**3 * p0 + 3 * (1 - t)**2 * t * a + 3 * (1 - t) * t**2 * c + t**3 * p3\n",
    "    y = (1 - t)**3 * p0 + 3 * (1 - t)**2 * t * b + 3 * (1 - t) * t**2 * d + t**3 * p3\n",
    "    return x, y\n",
    "\n",
    "# Bisection method for numerical discovery of t for given x\n",
    "def cubic_bezier_find_t_for_x(x_target:float, a:float, c:float, epsilon:float=1e-6):\n",
    "    left, right = 0.0, 1.0\n",
    "    while right - left > epsilon:\n",
    "        mid = (left + right) / 2\n",
    "        x_mid, _ = cubic_bezier_point(mid, a, 0, c, 1)  # Just for the x value\n",
    "        if x_mid < x_target:\n",
    "            left = mid\n",
    "        else:\n",
    "            right = mid\n",
    "    return (left + right) / 2\n",
    "\n",
    "# Function that gets the cubic bezier value y for a given x\n",
    "def mg_cubic_bezier_for_x(x_target:float, a:float, b:float, c:float, d:float):\n",
    "    t = cubic_bezier_find_t_for_x(x_target, a, c)\n",
    "    _, y = cubic_bezier_point(t, a, b, c, d)\n",
    "    return y\n",
    "\n",
    "def mg_ease(x: float, fraction: float):\n",
    "    return 100*mg_cubic_bezier_for_x(x/100, fraction, 0, fraction, 1)\n",
    "\n",
    "def mg_clamped_linear(x: float, x_start, x_end):\n",
    "    if x < x_start:\n",
    "        return 0\n",
    "    elif x > x_end:\n",
    "        return 100\n",
    "    else:\n",
    "        return 100 * (x - x_start) / (x_end - x_start)\n",
    "\n",
    "def composite_four_circles(x: float, canvas: mg.Canvas) -> None:\n",
    "  canvas.circle((-0.5, -0.5), mg.lerp(mg_ease(x, 0), 0.01, canvas.ysize/4),\n",
    "                color='#1f77b4', style='stroke', width='18p')\n",
    "  canvas.circle(( 0.5, -0.5), mg.lerp(100*mg_cubic_bezier_for_x(x/100, 1/3, 0, 1/4, 1), 0.01, canvas.ysize/4),\n",
    "                color='#ff7f0e', style='stroke', width='18p')\n",
    "  canvas.circle((-0.5,  0.5), mg.lerp(100*mg_cubic_bezier_for_x(x/100, 3/4, 0, 2/3, 1), 0.01, canvas.ysize/4),\n",
    "                color='#2ca02c', style='stroke', width='18p')\n",
    "  canvas.circle(( 0.5,  0.5), mg.lerp(mg_ease(x, 1), 0.01, canvas.ysize/4),\n",
    "                color='#d62728', style='stroke', width='18p')\n",
    "\n",
    "def composite_four_circles_linear(x: float, canvas: mg.Canvas) -> None:\n",
    "  canvas.circle((-0.5, -0.5), mg.lerp(mg_clamped_linear(x, 0, 25), 0.01, canvas.ysize/4),\n",
    "                color='#1f77b4', style='stroke', width='18p')\n",
    "  canvas.circle(( 0.5, -0.5), mg.lerp(mg_clamped_linear(x, 25, 50), 0.01, canvas.ysize/4),\n",
    "                color='#ff7f0e', style='stroke', width='18p')\n",
    "  canvas.circle((-0.5,  0.5), mg.lerp(mg_clamped_linear(x, 50, 75), 0.01, canvas.ysize/4),\n",
    "                color='#2ca02c', style='stroke', width='18p')\n",
    "  canvas.circle(( 0.5,  0.5), mg.lerp(mg_clamped_linear(x, 75, 100), 0.01, canvas.ysize/4),\n",
    "                color='#d62728', style='stroke', width='18p')\n",
    "\n",
    "mg.show(composite_four_circles, scale=10, values=False,\n",
    "        x=[5, 30, 60, 62, 64]) \n",
    "mg.show(composite_four_circles_linear, scale=10,\n",
    "        x=[5, 30, 60, 62, 64]) \n",
    "\n",
    "display(HTML(\"<h3>Simple Scaled Circle – for reference</h3>\"))\n",
    "mg.show(simple_scaled_circle, x=[[20, 21, 22, 23, 24],\n",
    "                                   [40, 41, 42, 43, 44],\n",
    "                                   [50, 51, 52, 53, 54]])\n",
    "display(HTML(\"<h3>Composite Four Circles – with cubic bezier scaling</h3>\"))\n",
    "mg.show(composite_four_circles, x=[[20, 21, 22, 23, 24],\n",
    "                                   [40, 41, 42, 43, 44],\n",
    "                                   [50, 51, 52, 53, 54]])\n",
    "display(HTML(\"<h3>Composite Four Circles – with linear scaling</h3>\"))\n",
    "mg.show(composite_four_circles_linear, x=[[20, 21, 22, 23, 24],\n",
    "                                          [40, 41, 42, 43, 44],\n",
    "                                          [50, 51, 52, 53, 54]])"
   ]
  },
  {
   "cell_type": "markdown",
   "metadata": {},
   "source": [
    "The composite examples are using two different scalings for the phasing: Cubic Bézier and Linear.\n",
    "\n",
    "The four circles are scaled as shown in the plots below.  The Cubic Bézier appears to be more elegant, the linear is probably more powerful."
   ]
  },
  {
   "cell_type": "code",
   "execution_count": null,
   "metadata": {},
   "outputs": [],
   "source": [
    "import matplotlib.pyplot as plt\n",
    "import numpy as np\n",
    "\n",
    "x = np.linspace(0, 100, 256)\n",
    "\n",
    "def show_cubic_bezier(axis, a, b, c, d):\n",
    "    y = list(map(lambda x: 100*mg_cubic_bezier_for_x(x/100, a, b, c, d), x))\n",
    "    axis.plot(x, y, label=f'cubic-bezier({a}, {b}, {c}, {d})')\n",
    "\n",
    "def show_clamped_linear(axis, x_start, x_end):\n",
    "    y = list(map(lambda x: mg_clamped_linear(x, x_start, x_end), x))\n",
    "    axis.plot(x, y, label=f'clamped-linear({x_start}, {x_end})')\n",
    "\n",
    "fig, (ax1, ax2) = plt.subplots(1, 2, figsize=(6,3), layout='constrained')\n",
    "\n",
    "show_cubic_bezier(ax1, 0, 0, 0, 1)\n",
    "show_cubic_bezier(ax1, 1/3, 0, 1/4, 1)\n",
    "show_cubic_bezier(ax1, 3/4, 0, 2/3, 1)\n",
    "show_cubic_bezier(ax1, 1, 0, 1, 1)\n",
    "ax1.set(xlabel=\"Input $x$ value\", ylabel='Modified $x$ value', title=\"Cubic-Bézier\")\n",
    "ax1.grid(True)\n",
    "\n",
    "show_clamped_linear(ax2, 0, 25)\n",
    "show_clamped_linear(ax2, 25, 50)\n",
    "show_clamped_linear(ax2, 50, 75)\n",
    "show_clamped_linear(ax2, 75, 100)\n",
    "ax2.set(xlabel=\"Input $x$ value\", ylabel=None, title=\"Linear\")\n",
    "ax2.grid(True)"
   ]
  },
  {
   "cell_type": "markdown",
   "metadata": {},
   "source": [
    "## Let us export all the eligible designs from the tutorial\n",
    "\n",
    "And even the non-elligible ones: Three-Handed Clock and One Hundred Dots"
   ]
  },
  {
   "cell_type": "code",
   "execution_count": null,
   "metadata": {},
   "outputs": [],
   "source": [
    "xvalues=np.linspace(0.0, 100.0, 1001)\n",
    "\n",
    "mg.export(simple_horizontal_line, xvalues=xvalues,\n",
    "          name=\"Simple Horizontal Line\", short_name='line',\n",
    "          path=os.path.join(outpath, \"Simple Horizontal Line-VERSION.mglyph\"),\n",
    "          author=\"Adam Herout\", email=\"herout@vut.cz\", version=\"1.0.0\")\n",
    "\n",
    "mg.export(simple_scaled_square, xvalues=xvalues,\n",
    "          name=\"Simple Scaled Square\", short_name='square',\n",
    "          path=os.path.join(outpath, \"Simple Scaled Square-VERSION.mglyph\"),\n",
    "          author=\"Adam Herout\", email=\"herout@vut.cz\", version=\"1.0.0\")\n",
    "mg.export(simple_filled_square, xvalues=xvalues,\n",
    "          name=\"Simple Filled Square\", short_name='fsquare',\n",
    "          path=os.path.join(outpath, \"Simple Filled Square-VERSION.mglyph\"),\n",
    "          author=\"Adam Herout\", email=\"herout@vut.cz\", version=\"1.0.0\")\n",
    "mg.export(simple_scaled_circle, xvalues=xvalues,\n",
    "          name=\"Simple Scaled Circle\", short_name='circle',\n",
    "          path=os.path.join(outpath, \"Simple Scaled Circle-VERSION.mglyph\"),\n",
    "          author=\"Adam Herout\", email=\"herout@vut.cz\", version=\"1.0.0\")\n",
    "mg.export(simple_filled_circle, xvalues=xvalues,\n",
    "          name=\"Simple Filled Circle\", short_name='fcircle',\n",
    "          path=os.path.join(outpath, \"Simple Filled Circle-VERSION.mglyph\"),\n",
    "          author=\"Adam Herout\", email=\"herout@vut.cz\", version=\"1.0.0\")\n",
    "mg.export(simple_scaled_star, xvalues=xvalues,\n",
    "          name=\"Simple Scaled Star\", short_name='star',\n",
    "          path=os.path.join(outpath, \"Simple Scaled Star-VERSION.mglyph\"),\n",
    "          author=\"Adam Herout\", email=\"herout@vut.cz\", version=\"1.0.0\")\n",
    "mg.export(simple_filled_star, xvalues=xvalues,\n",
    "          name=\"Simple Filled Star\", short_name='fstar',\n",
    "          path=os.path.join(outpath, \"Simple Filled Star-VERSION.mglyph\"),\n",
    "          author=\"Adam Herout\", email=\"herout@vut.cz\", version=\"1.0.0\")\n",
    "\n",
    "mg.export(three_handed_clock, xvalues=np.linspace(0.0, 100.0, 10001),\n",
    "          name=\"One-Handed Clock\", short_name='clock',\n",
    "          path=os.path.join(outpath, \"One-Handed Clock-VERSION.mglyph\"),\n",
    "          author=\"Adam Herout\", email=\"herout@vut.cz\", version=\"1.0.0\")\n",
    "\n",
    "mg.export(one_handed_clock, xvalues=np.linspace(0.0, 100.0, 5001),\n",
    "          name=\"One-Handed Clock\", short_name='clock',\n",
    "          path=os.path.join(outpath, \"One-Handed Clock-VERSION.mglyph\"),\n",
    "          author=\"Adam Herout\", email=\"herout@vut.cz\", version=\"1.0.0\")\n",
    "mg.export(one_handed_clock_with_hticks, xvalues=np.linspace(0.0, 100.0, 5001),\n",
    "          name=\"One-Handed Clock with Hours\", short_name=\"clock-hours\",\n",
    "          path=os.path.join(outpath, \"One-Handed Clock with Hours-VERSION.mglyph\"),\n",
    "          author=\"Adam Herout\", email=\"herout@vut.cz\", version=\"1.0.0\")\n",
    "mg.export(one_handed_clock_with_mticks, xvalues=np.linspace(0.0, 100.0, 5001),\n",
    "          name=\"One-Handed Clock with Minutes\", short_name=\"clock-minutes\",\n",
    "          path=os.path.join(outpath, \"One-Handed Clock with Minutes-VERSION.mglyph\"),\n",
    "          author=\"Adam Herout\", email=\"herout@vut.cz\", version=\"1.0.0\")\n",
    "\n",
    "mg.export(hundred_dots, xvalues=xvalues,\n",
    "          name=\"One Hundred Dots\", short_name=\"halton-sequence\",\n",
    "          path=os.path.join(outpath, \"One Hundred Dots-VERSION.mglyph\"),\n",
    "          author=\"Adam Herout\", email=\"herout@vut.cz\", version=\"1.0.0\")\n",
    "mg.export(halton_sequence, xvalues=xvalues,\n",
    "          name=\"Dots Scattered by Halton Sequence\", short_name=\"halton-sequence\",\n",
    "          path=os.path.join(outpath, \"Dots Scattered by Halton Sequence-VERSION.mglyph\"),\n",
    "          author=\"Adam Herout\", email=\"herout@vut.cz\", version=\"1.0.0\")\n",
    "\n",
    "mg.export(fractal_tree, xvalues=xvalues,\n",
    "          name=\"Simple Fractal Tree\", short_name=\"fractal-tree\",\n",
    "          path=os.path.join(outpath, \"Simple Fractal Tree-VERSION.mglyph\"),\n",
    "          author=\"Adam Herout\", email=\"herout@vut.cz\", version=\"1.0.0\")"
   ]
  }
 ],
 "metadata": {
  "kernelspec": {
   "display_name": ".venv",
   "language": "python",
   "name": "python3"
  },
  "language_info": {
   "codemirror_mode": {
    "name": "ipython",
    "version": 3
   },
   "file_extension": ".py",
   "mimetype": "text/x-python",
   "name": "python",
   "nbconvert_exporter": "python",
   "pygments_lexer": "ipython3",
   "version": "3.13.2"
  }
 },
 "nbformat": 4,
 "nbformat_minor": 2
}
